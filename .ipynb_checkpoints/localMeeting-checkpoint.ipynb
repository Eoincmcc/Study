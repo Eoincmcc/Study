{
 "cells": [
  {
   "cell_type": "markdown",
   "id": "252c330c-8a7a-4c5b-bc05-1cbfc33c9d59",
   "metadata": {},
   "source": [
    "# Local Meeting tracking"
   ]
  },
  {
   "cell_type": "markdown",
   "id": "a3546b81-1f44-4d2c-9345-3998ae2a8ebf",
   "metadata": {},
   "source": [
    "## 17/11\n",
    "- Tokyo exam application opens this week\n",
    "    - Filling out documents\n",
    "    - In-progress: Re-writing research proposal\n",
    "\n",
    "### Share some introductory information on Conversational QA\n",
    "- CoQA: Conversational QA Challenge / Benchmark\n",
    "    - Leaderboard @https://stanfordnlp.github.io/coqa/\n",
    "    - 517 Citations highly influential \n",
    "- Open-Retrieval Conversational QA\n",
    "    - 4 key points of QA\n",
    "        - Open-Retrieval\n",
    "        - Conversational\n",
    "        - Information Seeking\n",
    "        - Genuine Information Needs\n",
    "- Can You Unpack That? Learning to Rewrite Questions-in-Context:\n",
    "    - Rewriting Questions may be a fundamental part of conversational QA:\n",
    "        - Essentially priming the QA system with relevant knowledge?\n",
    "    - example: \"What happened in 1983?\" -> \"What happened to Anna Vissi in 1983?\"\n",
    "- Open-Domain Question Answering Goes Conversational via Question Rewriting\n",
    "    - Paper exploring extending QA systems using Question Re-writing\n",
    "    - Extending this for multilingual QA\n"
   ]
  },
  {
   "cell_type": "code",
   "execution_count": null,
   "id": "130c4a84-5851-42eb-b326-bcfb41e1e5af",
   "metadata": {},
   "outputs": [],
   "source": []
  }
 ],
 "metadata": {
  "kernelspec": {
   "display_name": "Python 3 (ipykernel)",
   "language": "python",
   "name": "python3"
  },
  "language_info": {
   "codemirror_mode": {
    "name": "ipython",
    "version": 3
   },
   "file_extension": ".py",
   "mimetype": "text/x-python",
   "name": "python",
   "nbconvert_exporter": "python",
   "pygments_lexer": "ipython3",
   "version": "3.9.8"
  }
 },
 "nbformat": 4,
 "nbformat_minor": 5
}
