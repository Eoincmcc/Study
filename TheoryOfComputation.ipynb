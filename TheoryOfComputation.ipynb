{
 "cells": [
  {
   "cell_type": "markdown",
   "id": "44ebe79f-77d5-447a-9602-bdded3c51a10",
   "metadata": {},
   "source": [
    "# Theory of Computation"
   ]
  },
  {
   "cell_type": "markdown",
   "id": "8e1f9f26",
   "metadata": {},
   "source": [
    "## 1. Regular Languages"
   ]
  },
  {
   "cell_type": "markdown",
   "id": "7d3d65d3-b07d-4d40-aac0-25a3e00eeb39",
   "metadata": {},
   "source": [
    "The idea of ToC is Understanding what computers can do.\n",
    "- Does power of computer matter?\n",
    "- Are all problems solvable?"
   ]
  },
  {
   "cell_type": "markdown",
   "id": "ba316cb4",
   "metadata": {},
   "source": [
    "#### We can actually show that there are unsolvable problems in computation\n",
    "- There are countably many possible algorithms\n",
    "- Uncountably many problems\n",
    "- It is impossible to solve an infinite no. of problems with a finite no. of algorithms."
   ]
  },
  {
   "cell_type": "markdown",
   "id": "0894a488",
   "metadata": {},
   "source": [
    "#### Problem Solvability\n",
    "- How then can we find a problem that is unsolvable?\n",
    "- If we have solvable problem are there some imposable limitations that would render a computer unable to solve it?\n",
    "    - Limitations could include power, memory and instruction restrictions."
   ]
  },
  {
   "cell_type": "markdown",
   "id": "d1f2c717",
   "metadata": {},
   "source": [
    "### Defining Computers and Computation"
   ]
  },
  {
   "cell_type": "markdown",
   "id": "65044bae",
   "metadata": {},
   "source": [
    "If we want to understand problem solvability we need to have an understanding of what a computer is and we need a formal notion of what computing something is."
   ]
  },
  {
   "cell_type": "markdown",
   "id": "0b78040c",
   "metadata": {},
   "source": [
    "#### What is a Computer?\n",
    "We can think of a computer as a device that converts inputs to outputs."
   ]
  },
  {
   "cell_type": "markdown",
   "id": "b5f51e08",
   "metadata": {},
   "source": [
    "![title](ToC_images/SimpleComp.png)\n",
    "\n",
    "This Simple Computer model:\n",
    "- Looks at all the inputs\n",
    "- Does stuff\n",
    "- Produces outputs\n",
    "\n",
    "Could be any no. of inputs and outputs."
   ]
  },
  {
   "cell_type": "markdown",
   "id": "37288087",
   "metadata": {},
   "source": [
    "#### Restricting our model with Multiplexing\n",
    "We are able to look at a computer with multiple inputs and reduce it to single input without affecting our output.<br>\n",
    "This is called `Multiplexing`\n",
    "\n",
    "Multiplexing allows us to simplify our input so that we are only concerned with one input string instead of a potentially endless amount."
   ]
  },
  {
   "cell_type": "markdown",
   "id": "be53db96",
   "metadata": {},
   "source": [
    "Example: We have 3 inputs `a, b, c` (can be generalised to any no.)<br>\n",
    "`a, b, c` each have different inputs strings.\n",
    "\n",
    "We want to restrict our inputs to a single string. To do this we can use `multiplexing` to take the first input from `a` then the first input from `b` then `c`.<br>\n",
    "After that we take the second input from `a`, the second from `b` and so on and we now have a single input string.\n",
    "\n",
    "![title](ToC_images/multiplex.png)<br>\n",
    "\n",
    "Now our model can be simplified to a single input string, without loss of `generality`.<br>\n",
    "![title](ToC_images/multiplexComp.png)\n"
   ]
  },
  {
   "cell_type": "markdown",
   "id": "4e396017",
   "metadata": {},
   "source": [
    "#### The ouput\n",
    "We could then also multiplex our output also without loss of generality, but when we are studing Theory of Computation we're not usually concerned with the actual form of the output.<br>\n",
    "Does the computer produce a number or an image or a sound? \n",
    "- It doesn't really matter.\n",
    "\n",
    "What we want to know is:\n",
    "- Will the computation be accepted?<br>\n",
    "\n",
    "And so all we care about is whether the computer finishes in an accepting states.<br>\n",
    "So we can eliminate the output altogether and replace it with a single bit `1` or `0` denoting whether the string was `accepted` or not.<br><br>\n",
    "This simplified output computation model is shown below<br>\n",
    "![](ToC_images/accOrRejComp.png)<br>\n",
    "<br>So if an output can be created by some input, our computation model will produce a `1``, whereas if an output is not possible a `0` will be output.\n"
   ]
  },
  {
   "cell_type": "markdown",
   "id": "b9f947c7",
   "metadata": {},
   "source": [
    "### Model Assumptions"
   ]
  },
  {
   "cell_type": "markdown",
   "id": "e66d5142",
   "metadata": {},
   "source": [
    "We have now described a model with the following assumptions\n",
    "1. One input string of length `n`\n",
    "2. A single output of length 1 with value `1` or `0`"
   ]
  },
  {
   "cell_type": "markdown",
   "id": "0eb91417",
   "metadata": {},
   "source": [
    "#### What can we now do with this model?"
   ]
  },
  {
   "cell_type": "markdown",
   "id": "c62c5cd5",
   "metadata": {},
   "source": [
    "Looking at what happens within our computation model.<br>\n",
    "In our computer we have a CPU and instructions which are read and executed.\n",
    "\n",
    "![title](ToC_images/insCPU.png)<br>\n",
    "\n",
    "This Instruction can cause a number of things to happen but what we know is that a transition from the state that we are in currently will happen.<br>\n",
    "<b>Note: Some transitions do not actually change state, they can remain in the same state as before</b>\n",
    "\n"
   ]
  },
  {
   "cell_type": "markdown",
   "id": "0dc91885",
   "metadata": {},
   "source": [
    "The Machine State:\n",
    "We think about the computer being in a certain state:\n",
    "- The contents of the register, the memory.\n",
    "- What's in the storage drive, etc.\n",
    "\n",
    "Ultimately the model is in a certain state at any given moment of its execution and when we process instructions we update the state by moving to a new one or staying in the current state.\n",
    "\n",
    "<b>How we think of a  Program</b> then is simply as a collection of possible states that we move between as we read instructions."
   ]
  },
  {
   "cell_type": "markdown",
   "id": "b20d202d",
   "metadata": {},
   "source": [
    "### States and Transitions"
   ]
  },
  {
   "cell_type": "markdown",
   "id": "c303ab9e",
   "metadata": {},
   "source": [
    "How we model the journey from one state to another is the <i>Core of the Theory of Computation</i><br>\n",
    "The Theory of State Transitions"
   ]
  },
  {
   "cell_type": "markdown",
   "id": "11b66e1f",
   "metadata": {},
   "source": [
    "Assumptions for Analysing state transitions:\n",
    "1. Fixed internal memory\n",
    "   - Without a fixed memory length the model of computation changes\n",
    "2. Once input is fully read, the machine stops.\n",
    "   - We use no.2 because we can assume that we read our input left to right without loss of `generality`\n",
    "3. The Machine begins in some start state"
   ]
  },
  {
   "cell_type": "markdown",
   "id": "8921f843",
   "metadata": {},
   "source": [
    "### Example 1:"
   ]
  },
  {
   "cell_type": "markdown",
   "id": "18acf138",
   "metadata": {},
   "source": [
    "In the below diagram we have the following:\n",
    "- Circles denoting a state\n",
    "- State `labels` or `names`: q<sub>0</sub> , q<sub>1</sub>\n",
    "- Initial arrow pointing to the start state q<sub>0</sub>\n",
    "- Transition arrows with the corresponding input from one state to another.\n",
    "\n",
    "![title](ToC_images/twoStateSimple.png)<br>\n",
    "\n",
    "This machine it quite simple and will finish in an `accepting` state when there is an odd no. of 0's in the input string.<br>\n",
    "The below table is a trace of the inputs going back and forth between states 0 and 1.<br><br>\n",
    "![title](ToC_images/twoStateTrace.png)<br>"
   ]
  },
  {
   "cell_type": "markdown",
   "id": "04409dc2",
   "metadata": {},
   "source": [
    "### Example 2:"
   ]
  },
  {
   "cell_type": "markdown",
   "id": "0ce0a101",
   "metadata": {},
   "source": [
    "In example 2 we look at a machine that has two accepting states q<sub>1</sub> and q<sub>2</sub>.<br>\n",
    "Our `alphabet` has also expanded to include `1` and `0` as inputs and as such we have a transition from <i>each state for each possible input</i>.<br>\n",
    "We want to ensure that we have transitions for all possible inputs on all possible states as it means we are dealing with a completely `deterministic` machine.<br>\n",
    "<b>Deterministic systems</b> will always produce the same output for a given input meaning they are predictable and reproducable.\n",
    "\n",
    "The below system has 4 states, 2 input alphabet letters, a state state and 8 transitions:<br>\n",
    "\n",
    "![title](ToC_images/fourState1.png)<br>\n",
    "\n"
   ]
  },
  {
   "cell_type": "markdown",
   "id": "6231fc67",
   "metadata": {},
   "source": [
    "We look at some simple traces of inputs for the system below:<br>\n",
    "We can see that for even length inputs we are in an `Accepting` state and as such have an `Accepting String`.<br>\n",
    "Whereas for an odd length string we will always be in either q<sub>0</sub> or q<sub>3</sub> and have a `Non-Accepting String`\n",
    "\n",
    "![title](ToC_images/fourStateTrace.png)\n"
   ]
  },
  {
   "cell_type": "markdown",
   "id": "c0724ebb",
   "metadata": {},
   "source": [
    "It's important to note at this point that Machines only solve on problem but many different machines can solve the same problem.\n",
    "\n",
    "An example of this below shows a machine using 2 states only, accepting the same input alphabet with the same accepting criteria.\n",
    "\n",
    "![title](ToC_images/simplifiedFourState.png)"
   ]
  },
  {
   "cell_type": "markdown",
   "id": "5502e4f4",
   "metadata": {},
   "source": []
  }
 ],
 "metadata": {
  "kernelspec": {
   "display_name": "Python 3 (ipykernel)",
   "language": "python",
   "name": "python3"
  },
  "language_info": {
   "codemirror_mode": {
    "name": "ipython",
    "version": 3
   },
   "file_extension": ".py",
   "mimetype": "text/x-python",
   "name": "python",
   "nbconvert_exporter": "python",
   "pygments_lexer": "ipython3",
   "version": "3.8.12"
  }
 },
 "nbformat": 4,
 "nbformat_minor": 5
}
