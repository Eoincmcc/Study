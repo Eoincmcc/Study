{
 "cells": [
  {
   "cell_type": "markdown",
   "id": "44ebe79f-77d5-447a-9602-bdded3c51a10",
   "metadata": {},
   "source": [
    "# Theory of Computation\n",
    "\n",
    "## 1. Regular Languages"
   ]
  },
  {
   "cell_type": "markdown",
   "id": "7d3d65d3-b07d-4d40-aac0-25a3e00eeb39",
   "metadata": {},
   "source": [
    "The idea of ToC is Understanding what computers can do.\n",
    "- Does power of computer matter?\n",
    "- Are all problems solvable?"
   ]
  },
  {
   "cell_type": "markdown",
   "id": "ba316cb4",
   "metadata": {},
   "source": [
    "#### We can actually show that there are unsolvable problems in computation\n",
    "- There are countably many possible algorithms\n",
    "- Uncountably many problems\n",
    "- It is impossible to solve an infinite no. of problems with a finite no. of algorithms."
   ]
  },
  {
   "cell_type": "markdown",
   "id": "0894a488",
   "metadata": {},
   "source": [
    "#### Problem Solvability\n",
    "- How then can we find a problem that is unsolvable?\n",
    "- If we have solvable problem are there some imposable limitations that would render a computer unable to solve it?\n",
    "    - Limitations could include power, memory and instruction restrictions."
   ]
  },
  {
   "cell_type": "markdown",
   "id": "d1f2c717",
   "metadata": {},
   "source": [
    "### Defining Computers and Computation\n",
    "If we want to understand problem solvability we need to have an understanding of what a computer is and we need a formal notion of what computing something is.\n",
    "\n",
    "#### What is a Computer?\n",
    "We can think of a computer as a device that converts inputs to outputs."
   ]
  },
  {
   "cell_type": "markdown",
   "id": "b5f51e08",
   "metadata": {},
   "source": [
    "![title](ToC_images/SimpleComp.png)\n",
    "\n",
    "This Simple Computer model:\n",
    "- Looks at all the inputs\n",
    "- Does stuff\n",
    "- Produces outputs\n",
    "\n",
    "Could be any no. of inputs and outputs."
   ]
  },
  {
   "cell_type": "markdown",
   "id": "37288087",
   "metadata": {},
   "source": [
    "#### Restricting our model with Multiplexing\n",
    "We are able to look at a computer with multiple inputs and reduce it to single input without affecting our output.<br>\n",
    "This is called `Multiplexing`\n",
    "\n",
    "Multiplexing allows us to simplify our input so that we are only concerned with one input string instead of a potentially endless amount."
   ]
  },
  {
   "cell_type": "markdown",
   "id": "be53db96",
   "metadata": {},
   "source": [
    "Example: We have 3 inputs `a, b, c` (can be generalised to any no.)<br>\n",
    "`a, b, c` each have different inputs strings.\n",
    "\n",
    "We want to restrict our inputs to a single string. To do this we can use `multiplexing` to take the first input from `a` then the first input from `b` then `c`.<br>\n",
    "After that we take the second input from `a`, the second from `b` and so on and we now have a single input string.\n",
    "\n",
    "![title](ToC_images/multiplex.png)<br>\n",
    "\n",
    "Now our model can be simplified to a single input string, without loss of `generality`.<br>\n",
    "![title](ToC_images/multiplexComp.png)\n"
   ]
  },
  {
   "cell_type": "markdown",
   "id": "4e396017",
   "metadata": {},
   "source": [
    "#### The ouput\n",
    "We could then also multiplex our output also without loss of generality, but when we are studing Theory of Computation we're not usually concerned with the actual form of the output.<br>\n",
    "Does the computer produce a number or an image or a sound? \n",
    "- It doesn't really matter.\n",
    "\n",
    "What we want to know is:\n",
    "- Will the computation be accepted?<br>\n",
    "\n",
    "And so all we care about is whether the computer finishes in an accepting states.<br>\n",
    "So we can eliminate the output altogether and replace it with a single bit `1` or `0` denoting whether the string was `accepted` or not.<br><br>\n",
    "This simplified output computation model is shown below<br>\n",
    "![](ToC_images/accOrRejComp.png)<br>\n",
    "<br>So if an output can be created by some input, our computation model will produce a `1``, whereas if an output is not possible a `0` will be output.\n"
   ]
  },
  {
   "cell_type": "markdown",
   "id": "b9f947c7",
   "metadata": {},
   "source": [
    "### Model Assumptions\n",
    "We have now described a model with the following assumptions\n",
    "1. One input string of length `n`\n",
    "2. A single output of length 1 with value `1` or `0`"
   ]
  },
  {
   "cell_type": "markdown",
   "id": "0eb91417",
   "metadata": {},
   "source": [
    "#### What can we now do with this model?\n",
    "Looking at what happens within our computation model."
   ]
  },
  {
   "cell_type": "code",
   "execution_count": 1,
   "id": "71d4bf4f",
   "metadata": {},
   "outputs": [
    {
     "ename": "ModuleNotFoundError",
     "evalue": "No module named 'jove'",
     "output_type": "error",
     "traceback": [
      "\u001b[0;31m---------------------------------------------------------------------------\u001b[0m",
      "\u001b[0;31mModuleNotFoundError\u001b[0m                       Traceback (most recent call last)",
      "\u001b[0;32m/var/folders/np/2p8fxgg962q5jcpzzkjrmb3r0000gn/T/ipykernel_3678/3807407711.py\u001b[0m in \u001b[0;36m<module>\u001b[0;34m\u001b[0m\n\u001b[0;32m----> 1\u001b[0;31m \u001b[0;32mfrom\u001b[0m \u001b[0mjove\u001b[0m \u001b[0;32mimport\u001b[0m \u001b[0;34m*\u001b[0m\u001b[0;34m\u001b[0m\u001b[0;34m\u001b[0m\u001b[0m\n\u001b[0m",
      "\u001b[0;31mModuleNotFoundError\u001b[0m: No module named 'jove'"
     ]
    }
   ],
   "source": [
    "from jove import *"
   ]
  },
  {
   "cell_type": "code",
   "execution_count": null,
   "id": "e236699a",
   "metadata": {},
   "outputs": [],
   "source": []
  }
 ],
 "metadata": {
  "kernelspec": {
   "display_name": "Python 3 (ipykernel)",
   "language": "python",
   "name": "python3"
  },
  "language_info": {
   "codemirror_mode": {
    "name": "ipython",
    "version": 3
   },
   "file_extension": ".py",
   "mimetype": "text/x-python",
   "name": "python",
   "nbconvert_exporter": "python",
   "pygments_lexer": "ipython3",
   "version": "3.8.12"
  }
 },
 "nbformat": 4,
 "nbformat_minor": 5
}
