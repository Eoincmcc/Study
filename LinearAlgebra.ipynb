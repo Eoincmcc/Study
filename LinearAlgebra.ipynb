{
 "cells": [
  {
   "cell_type": "code",
   "execution_count": 1,
   "id": "1d363308-f33b-4d47-abc2-d84c9538a5a7",
   "metadata": {},
   "outputs": [
    {
     "name": "stdout",
     "output_type": "stream",
     "text": [
      "/Users/johncmcc/.pyenv/versions/3.8.12/bin/python\n"
     ]
    }
   ],
   "source": [
    "import warnings\n",
    "warnings.filterwarnings(\"ignore\", category=UserWarning)\n",
    "import sys\n",
    "print(sys.executable)\n",
    "from sympy import init_printing\n",
    "init_printing()"
   ]
  },
  {
   "cell_type": "markdown",
   "id": "a862d286-166a-4377-a6fb-6e8f4c747aaa",
   "metadata": {},
   "source": [
    "# Linear Algebra 18.06"
   ]
  },
  {
   "cell_type": "markdown",
   "id": "415b0b7b",
   "metadata": {},
   "source": [
    "## Lecture 1: The Geometry of Linear Equations"
   ]
  },
  {
   "cell_type": "markdown",
   "id": "f9545f42",
   "metadata": {},
   "source": [
    "### Overview:"
   ]
  },
  {
   "cell_type": "markdown",
   "id": "376bcab5",
   "metadata": {},
   "source": [
    "- Systems of linear equations\n",
    "   - The Fundamental Problem of Linear Algebra: we have `n` equations and `n` unknowns.\n",
    "- The Row Picture\n",
    "- The Column picture\n",
    "- Matrix Form"
   ]
  },
  {
   "cell_type": "markdown",
   "id": "5e61ea44-ead1-4964-8a86-73c428435051",
   "metadata": {},
   "source": [
    "### Systems of linear equations"
   ]
  },
  {
   "cell_type": "markdown",
   "id": "8725fb38",
   "metadata": {},
   "source": [
    "#### Example 1"
   ]
  },
  {
   "cell_type": "markdown",
   "id": "7c659694",
   "metadata": {},
   "source": [
    "2 equations with 2 `unknowns` are given below:<br>\n",
    "\n",
    "$$ \\begin{align} {2x}-{y} &= {3} \n",
    "\\\\ -{x} + {2y} &= {0} \\end{align} $$\n",
    "\n",
    "We want to create a Matrix of co-efficients to express this equation in the form `Ax = b`\n",
    "\n",
    "$$ \\begin{align}\n",
    "{\\begin{bmatrix}2 & -1 \\\\ -1 & 2\\end{bmatrix}}\n",
    "{\\begin{bmatrix}x \\\\ y \\end{bmatrix}} \n",
    "&= {\\begin{bmatrix} 0 \\\\ 3 \\end{bmatrix}}\\\\\n",
    "{A} \\quad \\quad {x}\\;\\   &= {b}\\end{align}$$\n",
    "\n",
    "We can see then that a matrix `A` is simply a rectangular array of numbers."
   ]
  },
  {
   "cell_type": "markdown",
   "id": "06db8d9e-d2b6-4b9d-aeec-7569d9f0e33e",
   "metadata": {},
   "source": [
    "Stepping back to see the bigger picture of a system of numbers we can view the system of equations in terms of 2 pictures:\n",
    "- The Row Picture\n",
    "- The Column Picture\n",
    "\n",
    "These pictures can tell us a lot about our system of linear equations."
   ]
  },
  {
   "cell_type": "markdown",
   "id": "258f37a9",
   "metadata": {},
   "source": [
    "### The Row Picture"
   ]
  },
  {
   "cell_type": "markdown",
   "id": "2ff93b0d",
   "metadata": {},
   "source": [
    "Plotting the `Row Pic` is a matter of plotting all points that solve the the equations in our system.<br>\n",
    "Below is a 2 Dimensional graph showing the lines of `2x - y = 0`, and `-x + 2y = 3`.<br>\n",
    "\n",
    "![title](LA_images/rowPic.png)<br>\n",
    "\n",
    "In linear equations all lines are straight and all points on the line solve one of the row equations. Both equations are solved at the point where they meet `x = 1, y = 2`.<br>\n",
    "The row picture plots the co-efficients of our system of equations giving us a simple look at our problem.\n",
    "\n",
    "\n"
   ]
  },
  {
   "cell_type": "markdown",
   "id": "10632619",
   "metadata": {},
   "source": [
    "### The Column Picture"
   ]
  },
  {
   "cell_type": "markdown",
   "id": "75f84d97",
   "metadata": {},
   "source": [
    "Now we look at the `Column pic`.<br>The cols of a matrix can be viewed as a scalar `x` applied to `col.1` and a scalar `y` applied to `col.2`.\n",
    "\n",
    "$$ \\begin{align} \n",
    "x \n",
    "\\begin{bmatrix} 2 \\\\ -1 \\end{bmatrix}\n",
    "+y\n",
    "\\begin{bmatrix} -1 \\\\ 2 \\end{bmatrix}\n",
    "&= \n",
    "\\begin{bmatrix} 0 \\\\ 3 \\end{bmatrix}\n",
    "\\end{align} $$\n",
    "\n",
    "We think of this as a combination of the right amount of `col.1` plus the right amount of `col.2` to\n",
    "get `b`.<br>\n",
    "This is called a <b>linear combination</b> of the cols of `A`. Take a multiple of `col.1` and a multiple\n",
    "of `col.2` and add together."
   ]
  },
  {
   "cell_type": "markdown",
   "id": "55572610",
   "metadata": {},
   "source": [
    "Now we can look at the geometry of the column pic.\n",
    "\n",
    "![title](LA_images/colPic.png)<br>\n",
    "\n",
    "In the col pic we draw our col vectors, then complete the parallelogram to find the values for `x` and `y` so that we finish on the answer b."
   ]
  },
  {
   "cell_type": "markdown",
   "id": "2391714b",
   "metadata": {},
   "source": [
    "We know that we can solve `Ax = b` with A but what if we took all the combinations of our columns, what if we had all the x's and all the y's?\n",
    "Could get any right hand side we wanted?\n",
    "In this instanace yes, because col.1 and col.2 are independent and their `linear combinations` span all of R2, it fills the whole 2 Dimensional plane."
   ]
  },
  {
   "cell_type": "markdown",
   "id": "28352f13",
   "metadata": {},
   "source": [
    "To solve a system of linear equations the goal is to find numerical solutions for the independent variables that satisfy the entire system.\n",
    "A solution to the above example is shown below. Where x = 2 and y = 1"
   ]
  },
  {
   "cell_type": "markdown",
   "id": "6a1c5db8",
   "metadata": {},
   "source": [
    "### Example 2: 3 Equations with 3 Unknowns"
   ]
  },
  {
   "cell_type": "markdown",
   "id": "554e109a-d8b5-4d8a-bab7-4bff2b761e1d",
   "metadata": {},
   "source": [
    "$$ \\begin{align}2x-y&=0\\\\\n",
    "-x+2y-z&=-1\\\\\n",
    "-3y+4z&=4\\end{align} $$\n",
    "\n",
    "Here we have 3 equations with 3 unknowns `x`, `y` and `z`. <br>\n",
    "We can represent these equations in the `Ax = b` format below\n",
    "\n",
    "$$ \n",
    "\\begin{bmatrix}\n",
    "2 & -1 & 0 \\\\\n",
    "-1 & 2 & -1 \\\\\n",
    "0 & -3 & 4\n",
    "\\end{bmatrix}\\cdot \\begin{bmatrix}\n",
    "x \\\\\n",
    "y \\\\\n",
    "z\n",
    "\\end{bmatrix}=\\begin{bmatrix}\n",
    "0 \\\\\n",
    "-1 \\\\\n",
    "4\n",
    "\\end{bmatrix}\n",
    "$$"
   ]
  },
  {
   "cell_type": "markdown",
   "id": "77664f15",
   "metadata": {},
   "source": [
    "#### The 3D Row Picture\n",
    "Drawing the row pic of a 3D matrice is not as simple as the 2D picture and is best plotted using software tools shown below."
   ]
  },
  {
   "cell_type": "code",
   "execution_count": 28,
   "id": "22dd7015",
   "metadata": {},
   "outputs": [
    {
     "name": "stderr",
     "output_type": "stream",
     "text": [
      "/var/folders/np/2p8fxgg962q5jcpzzkjrmb3r0000gn/T/ipykernel_1087/2599605803.py:21: MatplotlibDeprecationWarning: Calling gca() with keyword arguments was deprecated in Matplotlib 3.4. Starting two minor releases later, gca() will take no keyword arguments. The gca() function should only be used to get the current axes, or if no axes exist, create new axes with default keyword arguments. To create a new axes with non-default arguments, use plt.axes() or plt.subplot().\n",
      "  ax = fig.gca(projection='3d')\n"
     ]
    },
    {
     "data": {
      "image/png": "[encoded data removed]",
      "text/plain": [
       "<Figure size 432x288 with 1 Axes>"
      ]
     },
     "metadata": {
      "needs_background": "light"
     },
     "output_type": "display_data"
    }
   ],
   "source": [
    "import numpy as np\n",
    "import matplotlib.pyplot as plt\n",
    "from mpl_toolkits.mplot3d import Axes3D\n",
    "\n",
    "\n",
    "\n",
    "x = np.linspace(-1,1,10)\n",
    "y = np.linspace(-1,1,10)\n",
    "z = np.linspace(-1,1,10)\n",
    "\n",
    "X1,Z1 = np.meshgrid(x,z)\n",
    "Y1 = (0 - 2*X1 - 0*Z1) / -1\n",
    "\n",
    "X2,Y2 = np.meshgrid(x,y)\n",
    "Z2 = (-1 - -1*X2 - 2*Y2) /-1\n",
    "\n",
    "X3,Y3 = np.meshgrid(x,y)\n",
    "Z3 = (4 - 0*X3 - -3*Y3) / 4\n",
    "\n",
    "fig = plt.figure()\n",
    "ax = fig.gca(projection='3d')\n",
    "\n",
    "surf = ax.plot_surface(X1, Y1, Z1, alpha=0.5, rstride=100, cstride=100)\n",
    "surf = ax.plot_surface(X2, Y2, Z2, alpha=0.5, rstride=100, cstride=100)\n",
    "surf = ax.plot_surface(X3, Y3, Z3, alpha=0.5, rstride=100, cstride=100)\n",
    "\n",
    "#ax.plot((1,1),(-8,8),(-9,23), lw=2, c='b')\n",
    "#ax.plot_surface(X3,Y3,Z3, alpha=0.5, facecolors='g', rstride=100, cstride=100)\n",
    "ax.plot((0,),(0,),(1,), lw=2, c='k', marker='o')\n",
    "\n",
    "plt.show()"
   ]
  },
  {
   "cell_type": "markdown",
   "id": "9a0068ab",
   "metadata": {},
   "source": [
    "Given how long that took me and the resulting graph it is not really worth it to do this either by hand or when working with even higher dimensional planes.<br>\n",
    "The Row picture quickly becomes to complex to plot."
   ]
  },
  {
   "cell_type": "markdown",
   "id": "10492b19",
   "metadata": {},
   "source": [
    "#### The 3D Column Picture\n",
    "Shown below in algebraic format is the 3 dimensional row picture which agains gives us a simple look at the combinations of columns of a matrix `A` resulting in some right hand side `b`.<br>\n",
    "\n",
    "$$ \n",
    "x\\cdot \\begin{bmatrix}\n",
    "2 \\\\\n",
    "-1 \\\\\n",
    "0\n",
    "\\end{bmatrix}+y\\cdot \\begin{bmatrix}\n",
    "1 \\\\\n",
    "2 \\\\\n",
    "-3\n",
    "\\end{bmatrix}+z\\cdot \\begin{bmatrix}\n",
    "0 \\\\\n",
    "-1 \\\\\n",
    "4\n",
    "\\end{bmatrix}=\\begin{bmatrix}\n",
    "0 \\\\\n",
    "-1 \\\\\n",
    "4\n",
    "\\end{bmatrix}\n",
    "$$\n"
   ]
  },
  {
   "cell_type": "markdown",
   "id": "82259ca3",
   "metadata": {},
   "source": [
    "The plotting of the 3 vectors in 3D space is easier to do by hand but will not always be so simple and will not always have such a simple solution as we can see here:\n",
    "\n",
    "![title](LA_images/3dRowPic.png)\n",
    "\n",
    "The row picture above shows us that to get to the desired `b` of `[0,-1,4]`, we need only take `1` of `z`. Giving us an answer `X = [0,0,1]`.\n",
    "\n",
    "For the majority of possible right hand sides in systems of equations, it is unlikely that is will be as simple. Which makes the row pic similarly difficult to plot and use with 3D or higher."
   ]
  },
  {
   "cell_type": "markdown",
   "id": "0451634f",
   "metadata": {},
   "source": [
    "Looking again at the `big picture` of Linear Algebra where we want to know if out system of equations can solve `Ax = b` for all `b's`.<br>\n",
    "If we change our b to be `[1,1,-3]` then our solution `X` we could observe to be a combination of `col.1 + col.2`.<br>\n",
    "This is not really evident from our Col. picture however so we need to use matrix elimination for this and all `b's` that we might come across, answering the fundamental algebra question for Linear Algebra.\n",
    "\n",
    "In other words we want to know:\n",
    "$$ Do\\ the\\ linear\\ combinations\\ of\\ the\\ columns\\ of\\ A\\ fill\\ the\\ N\\ dimensional\\ space\\ of\\ our\\ N\\ Unknowns?$$"
   ]
  },
  {
   "cell_type": "markdown",
   "id": "e258dc34",
   "metadata": {},
   "source": [
    "In the Col picture what is really happening is `A*x` Where `A` is a matrix, `x` is a vector and the result `b` is a combination of the columns of A.\n",
    "Linear combinations to find all possible `b's` is possible with the example Matrix and so we can say that the matrix `A` is:<br>\n",
    "- Non-Singular \n",
    "- Invertible\n",
    "\n",
    "So When would a 3×3 A not produce some `b` in the 3 dimensional plane?\n",
    "When 1 or more cols of A are dependent. When they `share a plane`.<br>\n",
    "If `col.3 = col.1 + col.2`. Then `col.3` wouldn't give us anything new, our solutions would exist only on a plane in R3, not the entire space.<br>\n",
    "This Matrix would be:<br>\n",
    "- Singular\n",
    "- Not Invertable."
   ]
  },
  {
   "cell_type": "markdown",
   "id": "6afc11c7",
   "metadata": {},
   "source": [
    "#### Thinking in 9 Dimensional Space\n",
    "\n",
    "Imagine a `Vector 'v'` with `9 components` therefore `9 unknowns`.<br>\n",
    "We have 9 equations, which when taken in a Matrix form give us 9 column vectors each one would be a `vector` in 9D space.<br>\n",
    "We are be looking at their `linear combinations` and the possible right hand side `b's` we can produce and asking can we get a combination where we multiply the matrix of equations `A` by a combination or <b>solution</b> vector `x` to produce all possible `b's`.<br>\n",
    "Essentially: <i>Can we always get a solution?</i><br>\n",
    "It depends on our matrix, we could have columns that are not independent if the 8th is equal to the 9th then no."
   ]
  },
  {
   "cell_type": "markdown",
   "id": "deced165",
   "metadata": {},
   "source": []
  },
  {
   "cell_type": "markdown",
   "id": "6cf9ebec",
   "metadata": {},
   "source": [
    "## Lecture 2:"
   ]
  },
  {
   "cell_type": "markdown",
   "id": "13886b1a",
   "metadata": {},
   "source": [
    "### Overview:"
   ]
  },
  {
   "cell_type": "markdown",
   "id": "e9a98e7a",
   "metadata": {},
   "source": [
    "Main topics:\n",
    "- Systems of Equations\n",
    "    - How to Solve systems of equations\n",
    "- Elimination\n",
    "    - How software solves equations.\n",
    "    - When will we have a success or failure of elimination\n",
    "- Back-Substitution\n",
    "    - Back substitution involves solving for a single unknown first and `substituting` that unknown to discover the remaining unknowns.\n",
    "- Elimination Matrices\n",
    "    -  The expression of Elimination in `Matrix language` as opposed to multiple individual algebraic operations.\n",
    "    - A look at how we multiply matrices and why"
   ]
  },
  {
   "cell_type": "markdown",
   "id": "7122960f",
   "metadata": {},
   "source": [
    "### Elimination"
   ]
  },
  {
   "cell_type": "markdown",
   "id": "c99b48de",
   "metadata": {},
   "source": [
    "`Elimination` is a method used by software packages to solve systems of `Systems of Linear Equations`.<br>\n",
    "When elimination <i>succeeds</i> it gets an answer `(solution)` that solves the system.<br>\n",
    "The Questions we should be asking then is does this method often <i>succeed</i>?\n",
    "<br><br>\n",
    "<b>Normally</b> it does.<br>\n",
    "If the matrix `A` is a `good` matrix then we are likely to be able to solve the system.<br>\n"
   ]
  },
  {
   "cell_type": "markdown",
   "id": "603eda42",
   "metadata": {},
   "source": [
    "### Good Matrices:"
   ]
  },
  {
   "cell_type": "markdown",
   "id": "861d142d",
   "metadata": {},
   "source": [
    "Good matrices are those that have independent columns in `A` with enough equations to solve for our unknowns."
   ]
  },
  {
   "cell_type": "markdown",
   "id": "7266ac2b",
   "metadata": {},
   "source": [
    "### Example System"
   ]
  },
  {
   "cell_type": "markdown",
   "id": "6fccd482",
   "metadata": {},
   "source": [
    "The below system of 3 equations has `3 unknowns`: `x, y, z`.\n",
    "\n",
    "$$ \\begin{align} {x}+{2y}+{z} &= {2} \n",
    "\\\\ {3x}+{8y}+{z} &= {12}\n",
    "\\\\ {4y}+{z} &= {2} \n",
    "\\end{align} $$\n",
    "<br>\n",
    "\n",
    "This is above the system `Ax = b`. This is the system we are trying to solve for our `b`.\n",
    "\n",
    "<br>\n",
    "\n",
    "This system can be expressed in the matrix `A` below:\n",
    "<br>\n",
    "\n",
    "$$ \\begin{align}\n",
    "{\\begin{bmatrix}\n",
    "1 & 2 & 1 \\\\\n",
    "3 & 8 & 1 \\\\\n",
    "0 & 4 & 1\n",
    "\\end{bmatrix}}\n",
    "\\end{align}$$"
   ]
  },
  {
   "cell_type": "markdown",
   "id": "2bbb5631",
   "metadata": {},
   "source": [
    "So what does elimation do? What will the process of elimination do to the set of equations that we are trying to solve?\n",
    "\n",
    "<i>We multiply the first equation by the right number and subtract it from the seconds equation</i><br>\n",
    "Why?<br>\n",
    "<b>We want to remove `x` from the second equation.</b><br>\n",
    "These equations are all straight lines for any `b` (other than the zero vector then they are a point). If we multiply all co-efficients and result of a line by any scalar the values of the co-efficient remain the same.<br>\n",
    "Quick example: let `y=1, x=2`\n",
    "\n",
    "$$ \\begin{align} {2x}-{y} &= {3} \n",
    "\\\\ {4x} - {2y} &= {6} \\end{align} $$\n",
    "\n",
    "$$ \\begin{align} {2(2)}-{1(1)} &= {3} \n",
    "\\\\ {4(2)} - {2(1)} &= {6} \\end{align} $$\n",
    "\n",
    "So, we can safely multiply the values by scalars, this is one of our `Linear Operations`.\n",
    "Other linear operations that do not affect our equations are `Addition`, `Subtraction` and `Division`."
   ]
  },
  {
   "cell_type": "markdown",
   "id": "412f5a5d",
   "metadata": {},
   "source": [
    "So what is all of this useful for?<br>\n",
    "We re able to multiply the first equation in our system by 3 to get.<br>\n",
    "$$ \\begin{align} {3x}+{6y}+{3z} &= {6} \\end{align} $$\n",
    "\n",
    "We now have the same number of `x's` in equation 1 as we do in equation 2.<br>\n",
    "Subtracting eq.1 from eq.2 we get:\n",
    "\n",
    "$$ \\begin{align} {3x}+{8y}+{z} &= {12} - \\\\\n",
    "{3x}+{6y}+{3z} &= {6}\\\\\n",
    "={0x}+{2y}-{2z} &= {6} \\end{align} $$\n"
   ]
  },
  {
   "cell_type": "markdown",
   "id": "4c345a0f",
   "metadata": {},
   "source": [
    "We used the 1st `x` value in the 1st row to remove"
   ]
  }
 ],
 "metadata": {
  "interpreter": {
   "hash": "31f2aee4e71d21fbe5cf8b01ff0e069b9275f58929596ceb00d14d90e3e16cd6"
  },
  "kernelspec": {
   "display_name": "pyenv",
   "language": "python",
   "name": "python3"
  },
  "language_info": {
   "codemirror_mode": {
    "name": "ipython",
    "version": 3
   },
   "file_extension": ".py",
   "mimetype": "text/x-python",
   "name": "python",
   "nbconvert_exporter": "python",
   "pygments_lexer": "ipython3",
   "version": "3.8.12"
  },
  "toc-showcode": false,
  "toc-showtags": true
 },
 "nbformat": 4,
 "nbformat_minor": 5
}
