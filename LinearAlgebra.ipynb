{
 "cells": [
  {
   "cell_type": "markdown",
   "id": "a862d286-166a-4377-a6fb-6e8f4c747aaa",
   "metadata": {},
   "source": [
    "# Linear Algebra 18.06\n",
    "\n",
    "## Lecutre 1 Geometric View of Linear Algebra\n",
    "\n",
    "### Overview:\n",
    "- Systems of linear equations\n",
    "- The Row Picture\n",
    "- The Column picture"
   ]
  },
  {
   "cell_type": "code",
   "execution_count": 2,
   "id": "1d363308-f33b-4d47-abc2-d84c9538a5a7",
   "metadata": {},
   "outputs": [
    {
     "name": "stdout",
     "output_type": "stream",
     "text": [
      "/Users/johncmcc/.pyenv/versions/3.8.12/bin/python\n"
     ]
    }
   ],
   "source": [
    "import warnings\n",
    "warnings.filterwarnings(\"ignore\", category=UserWarning)\n",
    "import sys\n",
    "print(sys.executable)"
   ]
  },
  {
   "cell_type": "code",
   "execution_count": 3,
   "id": "f4d3402d-b3d1-4bcb-a789-c24c4aa1879c",
   "metadata": {
    "tags": []
   },
   "outputs": [],
   "source": [
    "from sympy import init_printing\n",
    "init_printing()"
   ]
  },
  {
   "cell_type": "markdown",
   "id": "5e61ea44-ead1-4964-8a86-73c428435051",
   "metadata": {},
   "source": [
    "## Systems of linear equations\n",
    "Linear equations have indepentent variables that are each of power one and are not transcedental (pi or e).\n",
    "\n",
    "A simple example is given below"
   ]
  },
  {
   "cell_type": "markdown",
   "id": "72dd81f3-bbbf-47fc-939f-356e893512d1",
   "metadata": {},
   "source": [
    "$$ \\begin{align} {2x}-{y} &= {3} \n",
    "\\\\ -{x} + {2y} &= {0} \\end{align} $$"
   ]
  },
  {
   "cell_type": "markdown",
   "id": "06db8d9e-d2b6-4b9d-aeec-7569d9f0e33e",
   "metadata": {},
   "source": [
    "To solve a system of linear equations the goal is to find numerical solutions for the independent variables that satisfy the entire system.\n",
    "A solution to the above example is shown below. Where x = 2 and y = 1"
   ]
  },
  {
   "cell_type": "markdown",
   "id": "50201cf5-e750-4304-ae91-16a5a40d3d60",
   "metadata": {},
   "source": [
    "$$ \\begin{align} \n",
    "2(2) - 1(1) = 3 \n",
    "\\\\ -(2) + 2(1) = 0\n",
    "\\end{align} $$"
   ]
  },
  {
   "cell_type": "markdown",
   "id": "554e109a-d8b5-4d8a-bab7-4bff2b761e1d",
   "metadata": {},
   "source": [
    "### Augmented Matrices\n",
    "We can create an Augmented Matrix from the above system of equations. \n",
    "Augmented matrices pair the 2 columns of different matrices so that row operations can be applied simulataneously while easily tracking changes to both matrices.\n",
    "\n",
    "In this example the matrices are:\n",
    "1. The coefficients of x and y in the system of equations\n",
    "2. The solutions to both equations.\n"
   ]
  },
  {
   "cell_type": "code",
   "execution_count": 4,
   "id": "28a462e4-69bf-4805-90b7-6436b13a28d9",
   "metadata": {},
   "outputs": [],
   "source": [
    "from sympy import Matrix"
   ]
  },
  {
   "cell_type": "code",
   "execution_count": 5,
   "id": "67908348-c4ee-474f-a691-40ca006fd6d2",
   "metadata": {},
   "outputs": [
    {
     "data": {
      "text/latex": [
       "$\\displaystyle \\left[\\begin{matrix}2 & -1 & 3\\\\-1 & 2 & 0\\end{matrix}\\right]$"
      ],
      "text/plain": [
       "⎡2   -1  3⎤\n",
       "⎢         ⎥\n",
       "⎣-1  2   0⎦"
      ]
     },
     "execution_count": 5,
     "metadata": {},
     "output_type": "execute_result"
    }
   ],
   "source": [
    "A_augm = Matrix([[2, -1, 3], [-1,2,0]])\n",
    "A_augm"
   ]
  },
  {
   "cell_type": "markdown",
   "id": "106ddeaf-2577-41ab-81bd-eac55a0cf0ea",
   "metadata": {},
   "source": [
    "We created the A_augm matrix using the Matrix() function from sympy which creates and  instance of a `MultableDenseMatrix` type.\n",
    "- Mutable means that the values (co-efficients in this case) are changable\n",
    "- Dense means that the value of each position is stored, in huge matrices with a lot of zeroes the matrix can use space saving techniques."
   ]
  },
  {
   "cell_type": "code",
   "execution_count": 6,
   "id": "3f302a07-d508-4a2e-9aa1-c732d5467e6d",
   "metadata": {},
   "outputs": [
    {
     "data": {
      "text/plain": [
       "sympy.matrices.dense.MutableDenseMatrix"
      ]
     },
     "execution_count": 6,
     "metadata": {},
     "output_type": "execute_result"
    }
   ],
   "source": [
    "type(A_augm)"
   ]
  },
  {
   "cell_type": "markdown",
   "id": "ce191a98-229c-4295-aba7-4acdd3cb20c0",
   "metadata": {},
   "source": [
    "Matrices doe not have to be Augmented we can have a simple Matrix of coefficients for `A`"
   ]
  },
  {
   "cell_type": "code",
   "execution_count": 7,
   "id": "bd392a30-0a3e-47c9-8fb8-3930074f97c4",
   "metadata": {},
   "outputs": [
    {
     "data": {
      "text/latex": [
       "$\\displaystyle \\left[\\begin{matrix}2 & -1\\\\-1 & 2\\end{matrix}\\right]$"
      ],
      "text/plain": [
       "⎡2   -1⎤\n",
       "⎢      ⎥\n",
       "⎣-1  2 ⎦"
      ]
     },
     "execution_count": 7,
     "metadata": {},
     "output_type": "execute_result"
    }
   ],
   "source": [
    "A = Matrix([[2, -1],[-1,2]])\n",
    "A"
   ]
  },
  {
   "cell_type": "markdown",
   "id": "e50b1108-0afa-436a-94dc-793ad46e90bb",
   "metadata": {},
   "source": [
    "### Unkown Variables\n",
    "The unknowns in the matrix which we represented as `x` and `y` in our system of equations can be stored and manipulated. Defined here as `x_vect`.\n",
    "We use the sympy library to specify `x` and `y` as mathematical variables using the `symbols()` function"
   ]
  },
  {
   "cell_type": "code",
   "execution_count": 8,
   "id": "fabeab94-a481-46db-b029-a240bb4ae8c7",
   "metadata": {},
   "outputs": [],
   "source": [
    "from sympy import symbols"
   ]
  },
  {
   "cell_type": "code",
   "execution_count": 9,
   "id": "99662976-c650-477a-adf0-a7c9eabaf2d6",
   "metadata": {},
   "outputs": [],
   "source": [
    "x, y, z = symbols('x y z')\n",
    "# This creates symbolic math variables as opposed to computer variables\n",
    "# These symbols are now protected and can't be assigned as computer variables"
   ]
  },
  {
   "cell_type": "code",
   "execution_count": 10,
   "id": "35aa9517-c07e-4b14-85b2-5eb2f96baf59",
   "metadata": {},
   "outputs": [
    {
     "data": {
      "text/latex": [
       "$\\displaystyle \\left[\\begin{matrix}x\\\\y\\end{matrix}\\right]$"
      ],
      "text/plain": [
       "⎡x⎤\n",
       "⎢ ⎥\n",
       "⎣y⎦"
      ]
     },
     "execution_count": 10,
     "metadata": {},
     "output_type": "execute_result"
    }
   ],
   "source": [
    "x_vect = Matrix([x,y])\n",
    "x_vect\n",
    "# x_vect is now our vector of unknowns that are designated in our system of equations"
   ]
  },
  {
   "cell_type": "markdown",
   "id": "692af7e5-c9db-4408-92c9-1e0db703611c",
   "metadata": {},
   "source": [
    "### Solutions Vector\n",
    "We can also create a column vector of our solutions `b` by creating `b_vect` "
   ]
  },
  {
   "cell_type": "code",
   "execution_count": 11,
   "id": "600f2f93-737a-4ca6-a44c-72c576ab771b",
   "metadata": {},
   "outputs": [
    {
     "data": {
      "text/latex": [
       "$\\displaystyle \\left[\\begin{matrix}3\\\\0\\end{matrix}\\right]$"
      ],
      "text/plain": [
       "⎡3⎤\n",
       "⎢ ⎥\n",
       "⎣0⎦"
      ]
     },
     "execution_count": 11,
     "metadata": {},
     "output_type": "execute_result"
    }
   ],
   "source": [
    "b_vect = Matrix([3, 0])\n",
    "b_vect"
   ]
  },
  {
   "cell_type": "markdown",
   "id": "eacf168a-fc1b-42df-9629-7e2a20e5f2c0",
   "metadata": {},
   "source": [
    "### Ax = b\n",
    "We now have all the components of the fundamental equation in Linear Algebra `Ax = b`.\n",
    "\n",
    "In the below cell we can express this by using the defined sympy variables in a latex format"
   ]
  },
  {
   "cell_type": "code",
   "execution_count": 12,
   "id": "fff6645d-863b-463b-91a6-aa37d4053188",
   "metadata": {},
   "outputs": [
    {
     "data": {
      "text/latex": [
       "\\begin{align} {A_{2 \\times 2}} \\quad {x_{2 \\times 1}} &= {b_{2 \\times 1}} \\\\ \\\\{\\left[\\begin{matrix}2 & -1\\\\-1 & 2\\end{matrix}\\right]}{\\left[\\begin{matrix}x\\\\y\\end{matrix}\\right]}&= {\\left[\\begin{matrix}3\\\\0\\end{matrix}\\right]}\\end{align}"
      ],
      "text/plain": [
       "<IPython.core.display.Latex object>"
      ]
     },
     "execution_count": 12,
     "metadata": {},
     "output_type": "execute_result"
    }
   ],
   "source": [
    "from IPython.display import display, Markdown, Latex\n",
    "from sympy.printing import latex as lt\n",
    "\n",
    "Latex(r\"\"\"\\begin{align} {A_{2 \\times 2}} \\quad {x_{2 \\times 1}} &= {b_{2 \\times 1}} \\\\ \\\\\"\"\"\n",
    "      + \"{\" + lt(A) + \"}\" + \"{\" + lt(x_vect) + \"}\" + \"&= {\" + lt(b_vect) + \"}\" + \"\"\"\\end{align}\"\"\")"
   ]
  },
  {
   "cell_type": "markdown",
   "id": "e545dd24-ea19-4e81-b7ec-51f24fec6493",
   "metadata": {},
   "source": [
    "Not only can we visualise this question using the above equation, sympy is able to generate a symplified Matrix equation expressing our system.\n",
    "The `Eq()` function is used generate a picture given the LHS and RHS of the equation"
   ]
  },
  {
   "cell_type": "code",
   "execution_count": 23,
   "id": "40620a7f-2bf8-41ab-b8a4-373991a64ee5",
   "metadata": {},
   "outputs": [
    {
     "data": {
      "text/latex": [
       "$\\displaystyle \\left[\\begin{matrix}2 x - y\\\\- x + 2 y\\end{matrix}\\right] = \\left[\\begin{matrix}3\\\\0\\end{matrix}\\right]$"
      ],
      "text/plain": [
       "⎡2⋅x - y ⎤   ⎡3⎤\n",
       "⎢        ⎥ = ⎢ ⎥\n",
       "⎣-x + 2⋅y⎦   ⎣0⎦"
      ]
     },
     "execution_count": 23,
     "metadata": {},
     "output_type": "execute_result"
    }
   ],
   "source": [
    "from sympy import Eq\n",
    "Eq(A * x_vect, b_vect)"
   ]
  },
  {
   "cell_type": "markdown",
   "id": "3c1482c3-b1d2-4145-96dd-47390771e2af",
   "metadata": {},
   "source": [
    "## The Row Picture\n",
    "\n",
    "The linear equations shown in the above systems are the equations of straight lines.\n",
    "These are Row pictures of a linear system and the solutions to both equations can be found at the point at which they meet.\n"
   ]
  },
  {
   "cell_type": "code",
   "execution_count": 14,
   "id": "9dc8e55d-47d7-4a21-aba7-ba96e7c366a6",
   "metadata": {},
   "outputs": [],
   "source": [
    "import numpy as np\n",
    "%matplotlib inline\n",
    "import matplotlib.pyplot as plt"
   ]
  },
  {
   "cell_type": "code",
   "execution_count": 15,
   "id": "befd15fb-a3e9-4207-94d7-200cc2790b5e",
   "metadata": {},
   "outputs": [
    {
     "data": {
      "image/png": "[encoded data removed]",
      "text/plain": [
       "<Figure size 720x576 with 1 Axes>"
      ]
     },
     "metadata": {
      "needs_background": "light"
     },
     "output_type": "display_data"
    }
   ],
   "source": [
    "x_vals = np.linspace(-3, 3, 100) # Create 100 values between -3 and 3\n",
    "# Note that we cannot use the computer variable x, because it has been reserved above as a mathematical variable in\n",
    "# the symbols function\n",
    "\n",
    "plt.figure(figsize = (10,8)) # Create a graph of size 10 by 8\n",
    "plt.plot(x_vals, 2 * x_vals - 3) # Plot every single value created above with 2 times that values\n",
    "# Taken from the first equation which was y = 2x or f(x) = 2x\n",
    "# The plot takes the arguments (code between parentheses) of x,y\n",
    "plt.plot(x_vals, ((x_vals / 2))) # Also plot the second equation\n",
    "plt.show; # Draw the plot on screen"
   ]
  },
  {
   "cell_type": "markdown",
   "id": "f4bdcd78-94e2-4ec0-b64c-614aaac511b8",
   "metadata": {},
   "source": [
    "In the above plotted graph we can see two lines representing one row of the matrix `A`.\n",
    "We can see both lines meet at (2,1) this tells us the system has a solution at `x = 2, y = 1`"
   ]
  },
  {
   "cell_type": "markdown",
   "id": "497e7d9b-4873-4ab1-a179-415567214d81",
   "metadata": {},
   "source": [
    "## The Column Picture\n",
    "\n",
    "The system can also be viewed as a vector problem in which the co-efficients `x, y` are scaling 2 vectors `A1, A2` and are then added to give our solution vector"
   ]
  },
  {
   "cell_type": "code",
   "execution_count": 18,
   "id": "90741bcd-9465-4426-9764-a5286b94578c",
   "metadata": {},
   "outputs": [
    {
     "data": {
      "text/latex": [
       "\\begin{align} {x}{\\left[\\begin{matrix}2\\\\-1\\end{matrix}\\right]} &+ {y}{\\left[\\begin{matrix}-1\\\\2\\end{matrix}\\right]} &= {\\left[\\begin{matrix}3\\\\0\\end{matrix}\\right]}\\end{align}"
      ],
      "text/plain": [
       "<IPython.core.display.Latex object>"
      ]
     },
     "execution_count": 18,
     "metadata": {},
     "output_type": "execute_result"
    }
   ],
   "source": [
    "Latex(r\"\"\"\\begin{align} {x}{%s} &+ {y}{%s} &= {%s}\\end{align}\"\"\"%(lt(A[:,0]),lt(A[:,1]),lt(b_vect)))"
   ]
  },
  {
   "cell_type": "code",
   "execution_count": 17,
   "id": "9359e531",
   "metadata": {},
   "outputs": [
    {
     "ename": "AttributeError",
     "evalue": "'Latex' object has no attribute 'format'",
     "output_type": "error",
     "traceback": [
      "\u001b[0;31m---------------------------------------------------------------------------\u001b[0m",
      "\u001b[0;31mAttributeError\u001b[0m                            Traceback (most recent call last)",
      "\u001b[0;32m/var/folders/np/2p8fxgg962q5jcpzzkjrmb3r0000gn/T/ipykernel_3383/1124119189.py\u001b[0m in \u001b[0;36m<module>\u001b[0;34m\u001b[0m\n\u001b[0;32m----> 1\u001b[0;31m \u001b[0mLatex\u001b[0m\u001b[0;34m(\u001b[0m\u001b[0;34mr\"\"\"\\begin{align} {x}{} &+ {y}{} &= {}\\end{align}\"\"\"\u001b[0m\u001b[0;34m)\u001b[0m\u001b[0;34m.\u001b[0m\u001b[0mformat\u001b[0m\u001b[0;34m(\u001b[0m\u001b[0mlt\u001b[0m\u001b[0;34m(\u001b[0m\u001b[0mA\u001b[0m\u001b[0;34m[\u001b[0m\u001b[0;34m:\u001b[0m\u001b[0;34m,\u001b[0m\u001b[0;36m0\u001b[0m\u001b[0;34m]\u001b[0m\u001b[0;34m)\u001b[0m\u001b[0;34m,\u001b[0m\u001b[0mlt\u001b[0m\u001b[0;34m(\u001b[0m\u001b[0mA\u001b[0m\u001b[0;34m[\u001b[0m\u001b[0;34m:\u001b[0m\u001b[0;34m,\u001b[0m\u001b[0;36m1\u001b[0m\u001b[0;34m]\u001b[0m\u001b[0;34m)\u001b[0m\u001b[0;34m,\u001b[0m\u001b[0mlt\u001b[0m\u001b[0;34m(\u001b[0m\u001b[0mb_vect\u001b[0m\u001b[0;34m)\u001b[0m\u001b[0;34m)\u001b[0m\u001b[0;34m\u001b[0m\u001b[0;34m\u001b[0m\u001b[0m\n\u001b[0m",
      "\u001b[0;31mAttributeError\u001b[0m: 'Latex' object has no attribute 'format'"
     ]
    }
   ],
   "source": []
  },
  {
   "cell_type": "code",
   "execution_count": null,
   "id": "5a40f2a6-83bb-45e0-a784-c36638e63b16",
   "metadata": {},
   "outputs": [],
   "source": []
  }
 ],
 "metadata": {
  "interpreter": {
   "hash": "31f2aee4e71d21fbe5cf8b01ff0e069b9275f58929596ceb00d14d90e3e16cd6"
  },
  "kernelspec": {
   "display_name": "pyenv",
   "language": "python",
   "name": "python3"
  },
  "language_info": {
   "codemirror_mode": {
    "name": "ipython",
    "version": 3
   },
   "file_extension": ".py",
   "mimetype": "text/x-python",
   "name": "python",
   "nbconvert_exporter": "python",
   "pygments_lexer": "ipython3",
   "version": "3.8.12"
  },
  "toc-showcode": false,
  "toc-showtags": true
 },
 "nbformat": 4,
 "nbformat_minor": 5
}
