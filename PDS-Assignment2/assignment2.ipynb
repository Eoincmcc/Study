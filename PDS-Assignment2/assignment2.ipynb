{
 "cells": [
  {
   "cell_type": "markdown",
   "metadata": {},
   "source": [
    "# Practical Data Science Report - 2\n",
    "### John 'Eoin' Cronin-McCartney\n",
    "\n",
    "Student no: 20221758\n"
   ]
  },
  {
   "cell_type": "markdown",
   "metadata": {},
   "source": [
    "## Semantic Search Engine\n",
    "### An exploration of semantic similarity in multiple languages\n",
    "\n",
    "I believe that Question-Answer systems designed to facilitate knowledge seeking should be able to retrieve across language barriers, users should not have to learn a new language before being able to pursue their professional, academic or personal information needs. In order to utilise information from languages we can train QA systems with multiple languages.\n",
    "My goal is to develop a system that can retrieve data cross-lingually [1] that is data which can answer questions posed in one language, language A, where the information is found in another, language B.\n",
    "\n",
    "Datasets with multiple languages are key to my research, one of the most interesting and important developments in machine learning and data science in multilingual research has been the development of language agnostic embeddings[2].<br><br>\n",
    "Language agnostic embeddings create a dense representation of a sentence or question in one of multiple languages and embed them into a shared space.<br>\n",
    "\n",
    "The development of these embeddings forms the basis of research into multi and cross-lingual question answering by projecting sentences and queries from multiple languages into a semantically similar space.\n",
    "\n",
    "I want to create a set of functions that can be used to search queries in a database to find semantically similar results regardless of the language they are written in.\n",
    "In this assignment I explore a dataset, tydi QA [3] I have previously worked with in order to further understand how multilingual datasets can be manipulated."
   ]
  },
  {
   "cell_type": "markdown",
   "metadata": {},
   "source": [
    "## Pre-Processing\n",
    "Imports and data check"
   ]
  },
  {
   "cell_type": "code",
   "execution_count": 1,
   "metadata": {},
   "outputs": [],
   "source": [
    "import numpy as np\n",
    "import faiss\n",
    "import requests\n",
    "from io import StringIO\n",
    "import pandas as pd\n",
    "from datasets import load_dataset"
   ]
  },
  {
   "cell_type": "code",
   "execution_count": 2,
   "metadata": {},
   "outputs": [
    {
     "name": "stderr",
     "output_type": "stream",
     "text": [
      "Reusing dataset tydiqa (/Users/johncmcc/.cache/huggingface/datasets/tydiqa/primary_task/1.0.0/b8a6c4c0db10bf5703d7b36645e5dbae821b8c0e902dac9daeecd459a8337148)\n",
      "100%|██████████| 2/2 [00:00<00:00,  6.69it/s]\n"
     ]
    }
   ],
   "source": [
    "ds_tydi =  load_dataset('tydiqa','primary_task')"
   ]
  },
  {
   "cell_type": "code",
   "execution_count": 3,
   "metadata": {},
   "outputs": [
    {
     "data": {
      "text/html": [
       "<div>\n",
       "<style scoped>\n",
       "    .dataframe tbody tr th:only-of-type {\n",
       "        vertical-align: middle;\n",
       "    }\n",
       "\n",
       "    .dataframe tbody tr th {\n",
       "        vertical-align: top;\n",
       "    }\n",
       "\n",
       "    .dataframe thead th {\n",
       "        text-align: right;\n",
       "    }\n",
       "</style>\n",
       "<table border=\"1\" class=\"dataframe\">\n",
       "  <thead>\n",
       "    <tr style=\"text-align: right;\">\n",
       "      <th></th>\n",
       "      <th>passage_answer_candidates</th>\n",
       "      <th>question_text</th>\n",
       "      <th>document_title</th>\n",
       "      <th>language</th>\n",
       "      <th>annotations</th>\n",
       "      <th>document_plaintext</th>\n",
       "      <th>document_url</th>\n",
       "    </tr>\n",
       "  </thead>\n",
       "  <tbody>\n",
       "    <tr>\n",
       "      <th>0</th>\n",
       "      <td>{'plaintext_start_byte': [1, 517, 1805, 2966, ...</td>\n",
       "      <td>หม่อมราชวงศ์สุขุมพันธุ์ บริพัตร เรียนจบจากที่ไ...</td>\n",
       "      <td>หม่อมราชวงศ์สุขุมพันธุ์ บริพัตร</td>\n",
       "      <td>thai</td>\n",
       "      <td>{'passage_answer_candidate_index': [-1, -1, -1...</td>\n",
       "      <td>\\nรองศาสตราจารย์[1] หม่อมราชวงศ์สุขุมพันธุ์ บร...</td>\n",
       "      <td>https://th.wikipedia.org/wiki/%E0%B8%AB%E0%B8%...</td>\n",
       "    </tr>\n",
       "    <tr>\n",
       "      <th>1</th>\n",
       "      <td>{'plaintext_start_byte': [1, 280, 468, 812], '...</td>\n",
       "      <td>Ukubwa wa Rijili Kantori ni kiasi gani?</td>\n",
       "      <td>Rijili Kantori</td>\n",
       "      <td>swahili</td>\n",
       "      <td>{'passage_answer_candidate_index': [-1, -1, -1...</td>\n",
       "      <td>\\nRijili Kantori , Rijili Kantarusi au ing. Al...</td>\n",
       "      <td>https://sw.wikipedia.org/wiki/Rijili%20Kantori</td>\n",
       "    </tr>\n",
       "    <tr>\n",
       "      <th>2</th>\n",
       "      <td>{'plaintext_start_byte': [1, 1124, 2274, 2571,...</td>\n",
       "      <td>అలి గౌహర్ ఎన్ని సంవత్సరాలు జీవించాడు?</td>\n",
       "      <td>అహమ్మద్ షా బహదూర్</td>\n",
       "      <td>telugu</td>\n",
       "      <td>{'passage_answer_candidate_index': [27, -1, -1...</td>\n",
       "      <td>\\nఅహమ్మద్ షా బహదూర్, మిర్జా అహమ్మద్ షా, షహన్‌ష...</td>\n",
       "      <td>https://te.wikipedia.org/wiki/%E0%B0%85%E0%B0%...</td>\n",
       "    </tr>\n",
       "    <tr>\n",
       "      <th>3</th>\n",
       "      <td>{'plaintext_start_byte': [0, 351, 553, 1244, 1...</td>\n",
       "      <td>Milloin Kokemäki on perustettu?</td>\n",
       "      <td>Kokemäki</td>\n",
       "      <td>finnish</td>\n",
       "      <td>{'passage_answer_candidate_index': [-1, 16, -1...</td>\n",
       "      <td>\\nKokemäki () on Suomen kaupunki, joka sijaits...</td>\n",
       "      <td>https://fi.wikipedia.org/wiki/Kokem%C3%A4ki</td>\n",
       "    </tr>\n",
       "    <tr>\n",
       "      <th>4</th>\n",
       "      <td>{'plaintext_start_byte': [1, 1091, 2520, 3062,...</td>\n",
       "      <td>১৯৮১ সালে বাংলাদেশের সেনাবাহিনীর সেনাপ্রধান কে...</td>\n",
       "      <td>হুসেইন মুহাম্মদ এরশাদ</td>\n",
       "      <td>bengali</td>\n",
       "      <td>{'passage_answer_candidate_index': [-1, -1, -1...</td>\n",
       "      <td>\\nহুসেইন মুহাম্মদ এরশাদ (ফেব্রুয়ারি ১, ১৯৩০) ...</td>\n",
       "      <td>https://bn.wikipedia.org/wiki/%E0%A6%B9%E0%A7%...</td>\n",
       "    </tr>\n",
       "  </tbody>\n",
       "</table>\n",
       "</div>"
      ],
      "text/plain": [
       "                           passage_answer_candidates  \\\n",
       "0  {'plaintext_start_byte': [1, 517, 1805, 2966, ...   \n",
       "1  {'plaintext_start_byte': [1, 280, 468, 812], '...   \n",
       "2  {'plaintext_start_byte': [1, 1124, 2274, 2571,...   \n",
       "3  {'plaintext_start_byte': [0, 351, 553, 1244, 1...   \n",
       "4  {'plaintext_start_byte': [1, 1091, 2520, 3062,...   \n",
       "\n",
       "                                       question_text  \\\n",
       "0  หม่อมราชวงศ์สุขุมพันธุ์ บริพัตร เรียนจบจากที่ไ...   \n",
       "1            Ukubwa wa Rijili Kantori ni kiasi gani?   \n",
       "2              అలి గౌహర్ ఎన్ని సంవత్సరాలు జీవించాడు?   \n",
       "3                    Milloin Kokemäki on perustettu?   \n",
       "4  ১৯৮১ সালে বাংলাদেশের সেনাবাহিনীর সেনাপ্রধান কে...   \n",
       "\n",
       "                    document_title language  \\\n",
       "0  หม่อมราชวงศ์สุขุมพันธุ์ บริพัตร     thai   \n",
       "1                   Rijili Kantori  swahili   \n",
       "2                అహమ్మద్ షా బహదూర్   telugu   \n",
       "3                         Kokemäki  finnish   \n",
       "4            হুসেইন মুহাম্মদ এরশাদ  bengali   \n",
       "\n",
       "                                         annotations  \\\n",
       "0  {'passage_answer_candidate_index': [-1, -1, -1...   \n",
       "1  {'passage_answer_candidate_index': [-1, -1, -1...   \n",
       "2  {'passage_answer_candidate_index': [27, -1, -1...   \n",
       "3  {'passage_answer_candidate_index': [-1, 16, -1...   \n",
       "4  {'passage_answer_candidate_index': [-1, -1, -1...   \n",
       "\n",
       "                                  document_plaintext  \\\n",
       "0  \\nรองศาสตราจารย์[1] หม่อมราชวงศ์สุขุมพันธุ์ บร...   \n",
       "1  \\nRijili Kantori , Rijili Kantarusi au ing. Al...   \n",
       "2  \\nఅహమ్మద్ షా బహదూర్, మిర్జా అహమ్మద్ షా, షహన్‌ష...   \n",
       "3  \\nKokemäki () on Suomen kaupunki, joka sijaits...   \n",
       "4  \\nহুসেইন মুহাম্মদ এরশাদ (ফেব্রুয়ারি ১, ১৯৩০) ...   \n",
       "\n",
       "                                        document_url  \n",
       "0  https://th.wikipedia.org/wiki/%E0%B8%AB%E0%B8%...  \n",
       "1     https://sw.wikipedia.org/wiki/Rijili%20Kantori  \n",
       "2  https://te.wikipedia.org/wiki/%E0%B0%85%E0%B0%...  \n",
       "3        https://fi.wikipedia.org/wiki/Kokem%C3%A4ki  \n",
       "4  https://bn.wikipedia.org/wiki/%E0%A6%B9%E0%A7%...  "
      ]
     },
     "execution_count": 3,
     "metadata": {},
     "output_type": "execute_result"
    }
   ],
   "source": [
    "df_val = ds_tydi['validation'].to_pandas()\n",
    "df_val.head()"
   ]
  },
  {
   "cell_type": "markdown",
   "metadata": {},
   "source": [
    "### Embedding Queries\n",
    "I Take all queries from the dataset and use a pre-trained multilingual model to embed them into a shared space."
   ]
  },
  {
   "cell_type": "code",
   "execution_count": 4,
   "metadata": {},
   "outputs": [
    {
     "data": {
      "text/plain": [
       "['หม่อมราชวงศ์สุขุมพันธุ์ บริพัตร เรียนจบจากที่ไหน ?',\n",
       " 'Ukubwa wa Rijili Kantori ni kiasi gani?',\n",
       " 'అలి గౌహర్ ఎన్ని సంవత్సరాలు జీవించాడు?',\n",
       " 'Milloin Kokemäki on perustettu?',\n",
       " '১৯৮১ সালে বাংলাদেশের সেনাবাহিনীর সেনাপ্রধান কে ছিলেন ?']"
      ]
     },
     "execution_count": 4,
     "metadata": {},
     "output_type": "execute_result"
    }
   ],
   "source": [
    "sentences = df_val['question_text'].tolist()\n",
    "sentences[:5]"
   ]
  },
  {
   "cell_type": "markdown",
   "metadata": {},
   "source": [
    "Storing back-up of data outside of volatile memory"
   ]
  },
  {
   "cell_type": "code",
   "execution_count": 5,
   "metadata": {},
   "outputs": [],
   "source": [
    "with open('sentences.txt', 'w') as fp:\n",
    "    fp.write('\\n'.join(sentences))"
   ]
  },
  {
   "cell_type": "markdown",
   "metadata": {},
   "source": [
    "Now the sentences can be embedded.<br>\n",
    "I wish to have the sentences be represented language agnostic so that they are grouped by meaning rather than by language.\n",
    "I want to find the semantic similarity between models.\n",
    "\n",
    "\n",
    "There are a number of different pre-trained models which can be used for this task which reduces the need for long training epochs.\n",
    "I have decided to use a pre-trained multilingual model which embeds based on semantic similarity from huggingface"
   ]
  },
  {
   "cell_type": "code",
   "execution_count": 8,
   "metadata": {},
   "outputs": [],
   "source": [
    "from sentence_transformers import SentenceTransformer\n",
    "model = SentenceTransformer('distiluse-base-multilingual-cased-v2')"
   ]
  },
  {
   "cell_type": "code",
   "execution_count": 9,
   "metadata": {},
   "outputs": [
    {
     "data": {
      "text/plain": [
       "(18670, 512)"
      ]
     },
     "execution_count": 9,
     "metadata": {},
     "output_type": "execute_result"
    }
   ],
   "source": [
    "sentence_embeddings = model.encode([x for x in sentences])\n",
    "sentence_embeddings.shape"
   ]
  },
  {
   "cell_type": "markdown",
   "metadata": {},
   "source": [
    "If needed the file can be saved and loaded for use without re-initialising the embeddings"
   ]
  },
  {
   "cell_type": "code",
   "execution_count": 10,
   "metadata": {},
   "outputs": [],
   "source": [
    "with open(f'./data/embeddings_X.npy', 'wb') as fp:\n",
    "    np.save(fp, sentence_embeddings[0:256])"
   ]
  },
  {
   "cell_type": "code",
   "execution_count": 11,
   "metadata": {},
   "outputs": [
    {
     "name": "stdout",
     "output_type": "stream",
     "text": [
      "embeddings_0.npy | 0 -> 1024\n",
      "embeddings_1.npy | 1024 -> 2048\n",
      "embeddings_2.npy | 2048 -> 3072\n",
      "embeddings_3.npy | 3072 -> 4096\n",
      "embeddings_4.npy | 4096 -> 5120\n",
      "embeddings_5.npy | 5120 -> 6144\n",
      "embeddings_6.npy | 6144 -> 7168\n",
      "embeddings_7.npy | 7168 -> 8192\n",
      "embeddings_8.npy | 8192 -> 9216\n",
      "embeddings_9.npy | 9216 -> 10240\n",
      "embeddings_10.npy | 10240 -> 11264\n",
      "embeddings_11.npy | 11264 -> 12288\n",
      "embeddings_12.npy | 12288 -> 13312\n",
      "embeddings_13.npy | 13312 -> 14336\n",
      "embeddings_14.npy | 14336 -> 15360\n",
      "embeddings_15.npy | 15360 -> 16384\n",
      "embeddings_16.npy | 16384 -> 17408\n",
      "embeddings_17.npy | 17408 -> 18432\n",
      "embeddings_18.npy | 18432 -> 18671\n"
     ]
    }
   ],
   "source": [
    "split = 1024\n",
    "file_count = 0\n",
    "for i in range(0, sentence_embeddings.shape[0], split):\n",
    "    end = i + split\n",
    "    if end > sentence_embeddings.shape[0] + 1:\n",
    "        end = sentence_embeddings.shape[0] + 1\n",
    "    num = str(file_count)\n",
    "    with open(f'./data/embeddings_{num}.npy', 'wb') as fp:\n",
    "        np.save(fp, sentence_embeddings[i:end, :])\n",
    "    print(f\"embeddings_{num}.npy | {i} -> {end}\")\n",
    "    file_count += 1"
   ]
  },
  {
   "cell_type": "markdown",
   "metadata": {},
   "source": [
    "## Semantic Similarity\n",
    "\n",
    "I want to check that the questions in the data set are organised by semantic similarity rather than by language.<br>\n",
    "Similarity in Sentence Embeddings can be thought of as the distance between 2 vectors.\n",
    "\n",
    "There are a number of ways to calculate the distance between 2 vectors, I will use the Cosine Similarity to compute the distance.\n",
    "\n",
    "### Cosine Similarity\n",
    "\n",
    "The cosine similarity measures distance between 2-vectors by computing the angle between the 2 vectors.\n",
    "It takes the cosine of the angle between 2 vectors in a multidimensional space given by: \n",
    "\n",
    "$$\n",
    "\\operatorname{similarity}(x, y)=\\cos (\\theta)=\\frac{x \\cdot y}{|x||y|}\n",
    "$$\n",
    "\n",
    "This essentially take the dot-product of 2 vectors `x` & `y` and divides this by the product of the length of `x` & `y`\n",
    "Math libraries commonly give the cosine similarity as a built in function and so we can use the sklearn implementation to calculate the similarity between our two vectors."
   ]
  },
  {
   "cell_type": "code",
   "execution_count": 12,
   "metadata": {},
   "outputs": [],
   "source": [
    "from sklearn.metrics.pairwise import cosine_similarity \n",
    "# Calculating the Cosine distance between all pairs of embedded sentences\n",
    "\n",
    "# put embeddings in matrix\n",
    "embed_mat = np.array([x for x in sentence_embeddings])\n",
    "# calculate distance between every embedding pair \n",
    "sim_mat = cosine_similarity(embed_mat,embed_mat)\n",
    "\n",
    "def compare(sen_comp, embeddings):\n",
    "  # write sim scores to df  \n",
    "  df_val['sim_score'] = sim_mat[sen_comp]\n",
    "  return df_val\n",
    "\n",
    "# Choose a sentence, 35 is hand chosen at random\n",
    "sen_comp=35\n",
    "sim_sen = compare(sen_comp,sentence_embeddings)"
   ]
  },
  {
   "cell_type": "markdown",
   "metadata": {},
   "source": [
    "### Expectation of Similarity\n",
    "\n",
    "For the vectors to have been encoded based on their semantic similarity rather than their linguistic similarity we would expect to see the closest vectors to the selected vector be chosen independently of language.<br>\n",
    "Below we can see a variety of languages amongst the top 10 which is a good indication that we have encoded our vectors semantically."
   ]
  },
  {
   "cell_type": "code",
   "execution_count": 13,
   "metadata": {},
   "outputs": [
    {
     "name": "stdout",
     "output_type": "stream",
     "text": [
      "Similarities for Sentence : Voiko historiaa opiskella Kuopiossa?\n"
     ]
    },
    {
     "data": {
      "text/html": [
       "<div>\n",
       "<style scoped>\n",
       "    .dataframe tbody tr th:only-of-type {\n",
       "        vertical-align: middle;\n",
       "    }\n",
       "\n",
       "    .dataframe tbody tr th {\n",
       "        vertical-align: top;\n",
       "    }\n",
       "\n",
       "    .dataframe thead th {\n",
       "        text-align: right;\n",
       "    }\n",
       "</style>\n",
       "<table border=\"1\" class=\"dataframe\">\n",
       "  <thead>\n",
       "    <tr style=\"text-align: right;\">\n",
       "      <th></th>\n",
       "      <th>sim_score</th>\n",
       "      <th>question_text</th>\n",
       "      <th>language</th>\n",
       "    </tr>\n",
       "  </thead>\n",
       "  <tbody>\n",
       "    <tr>\n",
       "      <th>35</th>\n",
       "      <td>1.000000</td>\n",
       "      <td>Voiko historiaa opiskella Kuopiossa?</td>\n",
       "      <td>finnish</td>\n",
       "    </tr>\n",
       "    <tr>\n",
       "      <th>10132</th>\n",
       "      <td>0.606740</td>\n",
       "      <td>Voiko keramiikkaa opiskella Suomessa?</td>\n",
       "      <td>finnish</td>\n",
       "    </tr>\n",
       "    <tr>\n",
       "      <th>16890</th>\n",
       "      <td>0.572717</td>\n",
       "      <td>孟子を題材とした日本の歴史小説はありますか？</td>\n",
       "      <td>japanese</td>\n",
       "    </tr>\n",
       "    <tr>\n",
       "      <th>15181</th>\n",
       "      <td>0.570124</td>\n",
       "      <td>若松城の中を見学することはできる？</td>\n",
       "      <td>japanese</td>\n",
       "    </tr>\n",
       "    <tr>\n",
       "      <th>14551</th>\n",
       "      <td>0.545060</td>\n",
       "      <td>Voiko työnjohtoa opiskella?</td>\n",
       "      <td>finnish</td>\n",
       "    </tr>\n",
       "    <tr>\n",
       "      <th>11620</th>\n",
       "      <td>0.544570</td>\n",
       "      <td>هل تدرس باكلوريوس الرياضة في ‫جَامِعَةُ العُلو...</td>\n",
       "      <td>arabic</td>\n",
       "    </tr>\n",
       "    <tr>\n",
       "      <th>1999</th>\n",
       "      <td>0.540544</td>\n",
       "      <td>북학파를 중상학파라고도 하나요?</td>\n",
       "      <td>korean</td>\n",
       "    </tr>\n",
       "    <tr>\n",
       "      <th>8757</th>\n",
       "      <td>0.538410</td>\n",
       "      <td>Onko Hesekielin temppeli historiallinen kohde?</td>\n",
       "      <td>finnish</td>\n",
       "    </tr>\n",
       "    <tr>\n",
       "      <th>28</th>\n",
       "      <td>0.537090</td>\n",
       "      <td>Voiko Oulussa opiskella lakimieheksi?</td>\n",
       "      <td>finnish</td>\n",
       "    </tr>\n",
       "    <tr>\n",
       "      <th>4108</th>\n",
       "      <td>0.527801</td>\n",
       "      <td>Dodoma iko na ukubwa gani ya kijiographia?</td>\n",
       "      <td>swahili</td>\n",
       "    </tr>\n",
       "  </tbody>\n",
       "</table>\n",
       "</div>"
      ],
      "text/plain": [
       "       sim_score                                      question_text  language\n",
       "35      1.000000               Voiko historiaa opiskella Kuopiossa?   finnish\n",
       "10132   0.606740              Voiko keramiikkaa opiskella Suomessa?   finnish\n",
       "16890   0.572717                             孟子を題材とした日本の歴史小説はありますか？  japanese\n",
       "15181   0.570124                                  若松城の中を見学することはできる？  japanese\n",
       "14551   0.545060                        Voiko työnjohtoa opiskella?   finnish\n",
       "11620   0.544570  هل تدرس باكلوريوس الرياضة في ‫جَامِعَةُ العُلو...    arabic\n",
       "1999    0.540544                                  북학파를 중상학파라고도 하나요?    korean\n",
       "8757    0.538410     Onko Hesekielin temppeli historiallinen kohde?   finnish\n",
       "28      0.537090              Voiko Oulussa opiskella lakimieheksi?   finnish\n",
       "4108    0.527801         Dodoma iko na ukubwa gani ya kijiographia?   swahili"
      ]
     },
     "execution_count": 13,
     "metadata": {},
     "output_type": "execute_result"
    }
   ],
   "source": [
    "print(\"Similarities for Sentence : \" + df_val.iloc[sen_comp].question_text)\n",
    "sim_sen[{'question_text','sim_score','language'}].sort_values('sim_score', ascending=False)[0:10]"
   ]
  },
  {
   "cell_type": "markdown",
   "metadata": {},
   "source": [
    "The above sentences show a variety of languages the first line is the chosen"
   ]
  },
  {
   "cell_type": "markdown",
   "metadata": {},
   "source": [
    "### Similarity of First 100 Sentences\n",
    "\n",
    "We can generate a matrix to store the cosine similarities between each sentence in our embeddings.<br>\n",
    "This can be an interesting way to view the variation across our dataset at a quick glance by using a heatmap.<br>\n",
    "A heatmap with a very `light` overall colour would indicate that much our data is very similar in nature whereas a `dark` coloured heatmap would indicate that our samples are semantically very far apart.<br><br>\n",
    "Plotting the first 100 values as a heatmap will give a snapshot of the variety that the dataset has. A darker overall colour with strong variance indicates a useful dataset where many sentences are semantically different with some having similar semantic meaning."
   ]
  },
  {
   "cell_type": "code",
   "execution_count": 14,
   "metadata": {},
   "outputs": [
    {
     "data": {
      "image/png": "[encoded data removed]",
      "text/plain": [
       "<Figure size 1440x1008 with 2 Axes>"
      ]
     },
     "metadata": {
      "needs_background": "light"
     },
     "output_type": "display_data"
    }
   ],
   "source": [
    "import matplotlib.pyplot as plt\n",
    "import seaborn as sns\n",
    "\n",
    "# Plot HeatMap\n",
    "def plot_heatmap():\n",
    "  # Plot heatmap for the first 100 sentences\n",
    "  mask = np.zeros_like(sim_mat[:100, :100])\n",
    "  mask[np.triu_indices_from(mask)] = True\n",
    "  fig, ax = plt.subplots(figsize=(20,14)) \n",
    "  ax = sns.heatmap(sim_mat[:100, :100],mask=mask)\n",
    "\n",
    "  ax.axes.set_title(f\"Similarity matrix for the first 100 in the dataset\",)\n",
    "\n",
    "plot_heatmap()"
   ]
  },
  {
   "cell_type": "markdown",
   "metadata": {},
   "source": [
    "## Topic Exploration\n",
    "We can check if we have sentences related to specific topics by formulating sentences in English and searching for semantically similar sentences.<br><br>\n",
    "To do this I will need to make up some questions so that I can check for semantic similarity.\n",
    "I will use the following questions and note my expectations:\n",
    "- 'Who was the actor in'\n",
    "     - Questions related to Movies or Cinema\n",
    "- 'How high is the peak of mount Fuji' \n",
    "    - Questions related to size, mountains or geographic features\n",
    "\n",
    "K-nearest neighbour technique can be used to find the nearest related questions to each question. <br>"
   ]
  },
  {
   "cell_type": "code",
   "execution_count": 15,
   "metadata": {},
   "outputs": [],
   "source": [
    "t_questions = [\"Who was the actor in\",\"How high is the peak of mount Fuji\"]\n",
    "questions = model.encode(t_questions)"
   ]
  },
  {
   "cell_type": "code",
   "execution_count": 16,
   "metadata": {},
   "outputs": [],
   "source": [
    "def compare_new_sen(new_sen):\n",
    "  # Replicate embedding for input string \n",
    "  m = np.array([new_sen,]*len(df_val))\n",
    "  emb_sim = cosine_similarity(new_sen.reshape(1,-1),embed_mat)\n",
    "  #write sim score\n",
    "  return emb_sim[0]\n",
    "\n",
    "for i in range(0,len(questions)):\n",
    "  df_val['sim_score_{}'.format(i)] = compare_new_sen(questions[i])"
   ]
  },
  {
   "cell_type": "markdown",
   "metadata": {},
   "source": [
    "#### Check in English\n",
    "Checking that our queries have been encoded correctly and will return related results in English provides a sanity check for the functions used to generate the scores.</br>\n",
    "Our ability to match related sentences within the source language provides evidence that our algorithms are working in an attended way in a limited space. We can then confidently expand the search space to use the full multilingual setting.\n",
    "\n",
    "#### K-nearest Neighbour\n",
    "I employ a k-nearest neighbour technique where I simply retrieve those embeddings closest in distance between my newly embedded query vector and the sentence embeddings generated by the model.\n",
    "I have chosen `k = 5`.<br>\n",
    "\n",
    "The distance is calculated using semantic similarity with the higher values closest in relation"
   ]
  },
  {
   "cell_type": "code",
   "execution_count": 17,
   "metadata": {},
   "outputs": [
    {
     "name": "stdout",
     "output_type": "stream",
     "text": [
      "Similarities for English Sentences : Who was the actor in\n"
     ]
    },
    {
     "data": {
      "text/html": [
       "<div>\n",
       "<style scoped>\n",
       "    .dataframe tbody tr th:only-of-type {\n",
       "        vertical-align: middle;\n",
       "    }\n",
       "\n",
       "    .dataframe tbody tr th {\n",
       "        vertical-align: top;\n",
       "    }\n",
       "\n",
       "    .dataframe thead th {\n",
       "        text-align: right;\n",
       "    }\n",
       "</style>\n",
       "<table border=\"1\" class=\"dataframe\">\n",
       "  <thead>\n",
       "    <tr style=\"text-align: right;\">\n",
       "      <th></th>\n",
       "      <th>sim_score</th>\n",
       "      <th>question_text</th>\n",
       "      <th>language</th>\n",
       "      <th>query</th>\n",
       "    </tr>\n",
       "  </thead>\n",
       "  <tbody>\n",
       "    <tr>\n",
       "      <th>10968</th>\n",
       "      <td>0.624705</td>\n",
       "      <td>Who is considered a celebrity?</td>\n",
       "      <td>english</td>\n",
       "      <td>Who was the actor in</td>\n",
       "    </tr>\n",
       "    <tr>\n",
       "      <th>16440</th>\n",
       "      <td>0.623977</td>\n",
       "      <td>Who was the lead actress on Guiding Light?</td>\n",
       "      <td>english</td>\n",
       "      <td>Who was the actor in</td>\n",
       "    </tr>\n",
       "    <tr>\n",
       "      <th>11467</th>\n",
       "      <td>0.567858</td>\n",
       "      <td>Who invented the motion picture?</td>\n",
       "      <td>english</td>\n",
       "      <td>Who was the actor in</td>\n",
       "    </tr>\n",
       "    <tr>\n",
       "      <th>9257</th>\n",
       "      <td>0.552982</td>\n",
       "      <td>Who was the first director of the CIA?</td>\n",
       "      <td>english</td>\n",
       "      <td>Who was the actor in</td>\n",
       "    </tr>\n",
       "    <tr>\n",
       "      <th>11425</th>\n",
       "      <td>0.538319</td>\n",
       "      <td>Who is the main character in Bleach?</td>\n",
       "      <td>english</td>\n",
       "      <td>Who was the actor in</td>\n",
       "    </tr>\n",
       "  </tbody>\n",
       "</table>\n",
       "</div>"
      ],
      "text/plain": [
       "       sim_score                               question_text language  \\\n",
       "10968   0.624705              Who is considered a celebrity?  english   \n",
       "16440   0.623977  Who was the lead actress on Guiding Light?  english   \n",
       "11467   0.567858            Who invented the motion picture?  english   \n",
       "9257    0.552982      Who was the first director of the CIA?  english   \n",
       "11425   0.538319        Who is the main character in Bleach?  english   \n",
       "\n",
       "                      query  \n",
       "10968  Who was the actor in  \n",
       "16440  Who was the actor in  \n",
       "11467  Who was the actor in  \n",
       "9257   Who was the actor in  \n",
       "11425  Who was the actor in  "
      ]
     },
     "metadata": {},
     "output_type": "display_data"
    },
    {
     "name": "stdout",
     "output_type": "stream",
     "text": [
      "Similarities for English Sentences : How high is the peak of mount Fuji\n"
     ]
    },
    {
     "data": {
      "text/html": [
       "<div>\n",
       "<style scoped>\n",
       "    .dataframe tbody tr th:only-of-type {\n",
       "        vertical-align: middle;\n",
       "    }\n",
       "\n",
       "    .dataframe tbody tr th {\n",
       "        vertical-align: top;\n",
       "    }\n",
       "\n",
       "    .dataframe thead th {\n",
       "        text-align: right;\n",
       "    }\n",
       "</style>\n",
       "<table border=\"1\" class=\"dataframe\">\n",
       "  <thead>\n",
       "    <tr style=\"text-align: right;\">\n",
       "      <th></th>\n",
       "      <th>language</th>\n",
       "      <th>question_text</th>\n",
       "      <th>sim_score</th>\n",
       "      <th>query</th>\n",
       "    </tr>\n",
       "  </thead>\n",
       "  <tbody>\n",
       "    <tr>\n",
       "      <th>1789</th>\n",
       "      <td>english</td>\n",
       "      <td>How high is the highest point in The Alps?</td>\n",
       "      <td>0.659185</td>\n",
       "      <td>How high is the peak of mount Fuji</td>\n",
       "    </tr>\n",
       "    <tr>\n",
       "      <th>9903</th>\n",
       "      <td>english</td>\n",
       "      <td>What is the tallest mountain in the Allegheny ...</td>\n",
       "      <td>0.566455</td>\n",
       "      <td>How high is the peak of mount Fuji</td>\n",
       "    </tr>\n",
       "    <tr>\n",
       "      <th>9644</th>\n",
       "      <td>english</td>\n",
       "      <td>What is the largest volcanic mountain?</td>\n",
       "      <td>0.526792</td>\n",
       "      <td>How high is the peak of mount Fuji</td>\n",
       "    </tr>\n",
       "    <tr>\n",
       "      <th>13804</th>\n",
       "      <td>english</td>\n",
       "      <td>What is the elevation of Bogota?</td>\n",
       "      <td>0.517400</td>\n",
       "      <td>How high is the peak of mount Fuji</td>\n",
       "    </tr>\n",
       "    <tr>\n",
       "      <th>17839</th>\n",
       "      <td>english</td>\n",
       "      <td>What is the largest recorded tsunami?</td>\n",
       "      <td>0.392555</td>\n",
       "      <td>How high is the peak of mount Fuji</td>\n",
       "    </tr>\n",
       "  </tbody>\n",
       "</table>\n",
       "</div>"
      ],
      "text/plain": [
       "      language                                      question_text  sim_score  \\\n",
       "1789   english         How high is the highest point in The Alps?   0.659185   \n",
       "9903   english  What is the tallest mountain in the Allegheny ...   0.566455   \n",
       "9644   english             What is the largest volcanic mountain?   0.526792   \n",
       "13804  english                   What is the elevation of Bogota?   0.517400   \n",
       "17839  english              What is the largest recorded tsunami?   0.392555   \n",
       "\n",
       "                                    query  \n",
       "1789   How high is the peak of mount Fuji  \n",
       "9903   How high is the peak of mount Fuji  \n",
       "9644   How high is the peak of mount Fuji  \n",
       "13804  How high is the peak of mount Fuji  \n",
       "17839  How high is the peak of mount Fuji  "
      ]
     },
     "metadata": {},
     "output_type": "display_data"
    }
   ],
   "source": [
    "df_list = {}\n",
    "\n",
    "for i in range(0,len(questions)): \n",
    "  print(\"Similarities for English Sentences : \" + t_questions[i])\n",
    "  score_col = \"sim_score_{}\".format(i)\n",
    "  df_list[i] = df_val[{'question_text',score_col,'language'}].sort_values(score_col, ascending=False).loc[df_val[\"language\"] == 'english'][:5]\n",
    "  df_list[i][\"query\"] = [t_questions[i]] * 5\n",
    "  df_list[i].rename(columns={score_col : \"sim_score\"}, inplace=True)\n",
    "  display(df_list[i])"
   ]
  },
  {
   "cell_type": "markdown",
   "metadata": {},
   "source": [
    "We can see from the results for both of our queries that we are retrieving sentences that are considerably close semantically to our query sentences.</br>\n",
    "The results from the first query returns questions related to celebrities or people of note with a strong connection to cinema and TV shows.<br>\n",
    "\n",
    "The second set of results, references mountain ranges while not specifying a single mountain as in our query, it also returns queries related to geographical features.<br>\n",
    "<br>It is important to note that the distance between the second set of vectors and its query is on average lower than in the first set of results.<br> This indicates that they are less strongly related than those in the first set of results explaining why they are not as similar as our first set. <br>We can compare the distance in a bar chart.\n"
   ]
  },
  {
   "cell_type": "code",
   "execution_count": 18,
   "metadata": {},
   "outputs": [
    {
     "data": {
      "image/png": "[encoded data removed]",
      "text/plain": [
       "<Figure size 432x288 with 1 Axes>"
      ]
     },
     "metadata": {},
     "output_type": "display_data"
    }
   ],
   "source": [
    "# Place all data in single dataframe for plotting, update index maintain order of similarity\n",
    "df_query_comp = pd.concat(df_list, ignore_index=True).sort_values(\"sim_score\", ascending=False)\n",
    "\n",
    "sns.set_theme(style=\"whitegrid\")\n",
    "ax = sns.barplot(x=\"sim_score\", y=\"question_text\", data=df_query_comp, hue=\"query\")\n",
    "plt.legend(bbox_to_anchor=(1.05, 1), loc='upper left', borderaxespad=0)\n",
    "\n",
    "plt.show()"
   ]
  },
  {
   "cell_type": "markdown",
   "metadata": {},
   "source": [
    "We can easily see the difference between the datasets semantic results for each query and can now perform similar comparisons for multilingual data."
   ]
  },
  {
   "cell_type": "code",
   "execution_count": 19,
   "metadata": {},
   "outputs": [
    {
     "name": "stdout",
     "output_type": "stream",
     "text": [
      "Similarities for All Sentences : Who was the actor in\n"
     ]
    },
    {
     "data": {
      "text/html": [
       "<div>\n",
       "<style scoped>\n",
       "    .dataframe tbody tr th:only-of-type {\n",
       "        vertical-align: middle;\n",
       "    }\n",
       "\n",
       "    .dataframe tbody tr th {\n",
       "        vertical-align: top;\n",
       "    }\n",
       "\n",
       "    .dataframe thead th {\n",
       "        text-align: right;\n",
       "    }\n",
       "</style>\n",
       "<table border=\"1\" class=\"dataframe\">\n",
       "  <thead>\n",
       "    <tr style=\"text-align: right;\">\n",
       "      <th></th>\n",
       "      <th>sim_score</th>\n",
       "      <th>question_text</th>\n",
       "      <th>language</th>\n",
       "      <th>query</th>\n",
       "    </tr>\n",
       "  </thead>\n",
       "  <tbody>\n",
       "    <tr>\n",
       "      <th>10788</th>\n",
       "      <td>0.740267</td>\n",
       "      <td>siapakah sutradara film merantau?</td>\n",
       "      <td>indonesian</td>\n",
       "      <td>Who was the actor in</td>\n",
       "    </tr>\n",
       "    <tr>\n",
       "      <th>10681</th>\n",
       "      <td>0.725935</td>\n",
       "      <td>ใครเป็นผู้แสดงนำในเรื่อง มาสค์ไรเดอร์ไฟซ์?</td>\n",
       "      <td>thai</td>\n",
       "      <td>Who was the actor in</td>\n",
       "    </tr>\n",
       "    <tr>\n",
       "      <th>1959</th>\n",
       "      <td>0.715274</td>\n",
       "      <td>Siapa pemeran utama film Fences ?</td>\n",
       "      <td>indonesian</td>\n",
       "      <td>Who was the actor in</td>\n",
       "    </tr>\n",
       "    <tr>\n",
       "      <th>15085</th>\n",
       "      <td>0.703290</td>\n",
       "      <td>Siapakah karakter utama dalam film Fiksi ?</td>\n",
       "      <td>indonesian</td>\n",
       "      <td>Who was the actor in</td>\n",
       "    </tr>\n",
       "    <tr>\n",
       "      <th>2654</th>\n",
       "      <td>0.695845</td>\n",
       "      <td>Siapakah yang menjadi tokoh utama dalam film I...</td>\n",
       "      <td>indonesian</td>\n",
       "      <td>Who was the actor in</td>\n",
       "    </tr>\n",
       "  </tbody>\n",
       "</table>\n",
       "</div>"
      ],
      "text/plain": [
       "       sim_score                                      question_text  \\\n",
       "10788   0.740267                  siapakah sutradara film merantau?   \n",
       "10681   0.725935         ใครเป็นผู้แสดงนำในเรื่อง มาสค์ไรเดอร์ไฟซ์?   \n",
       "1959    0.715274                  Siapa pemeran utama film Fences ?   \n",
       "15085   0.703290         Siapakah karakter utama dalam film Fiksi ?   \n",
       "2654    0.695845  Siapakah yang menjadi tokoh utama dalam film I...   \n",
       "\n",
       "         language                 query  \n",
       "10788  indonesian  Who was the actor in  \n",
       "10681        thai  Who was the actor in  \n",
       "1959   indonesian  Who was the actor in  \n",
       "15085  indonesian  Who was the actor in  \n",
       "2654   indonesian  Who was the actor in  "
      ]
     },
     "metadata": {},
     "output_type": "display_data"
    },
    {
     "name": "stdout",
     "output_type": "stream",
     "text": [
      "Similarities for All Sentences : How high is the peak of mount Fuji\n"
     ]
    },
    {
     "data": {
      "text/html": [
       "<div>\n",
       "<style scoped>\n",
       "    .dataframe tbody tr th:only-of-type {\n",
       "        vertical-align: middle;\n",
       "    }\n",
       "\n",
       "    .dataframe tbody tr th {\n",
       "        vertical-align: top;\n",
       "    }\n",
       "\n",
       "    .dataframe thead th {\n",
       "        text-align: right;\n",
       "    }\n",
       "</style>\n",
       "<table border=\"1\" class=\"dataframe\">\n",
       "  <thead>\n",
       "    <tr style=\"text-align: right;\">\n",
       "      <th></th>\n",
       "      <th>language</th>\n",
       "      <th>question_text</th>\n",
       "      <th>sim_score</th>\n",
       "      <th>query</th>\n",
       "    </tr>\n",
       "  </thead>\n",
       "  <tbody>\n",
       "    <tr>\n",
       "      <th>1789</th>\n",
       "      <td>english</td>\n",
       "      <td>How high is the highest point in The Alps?</td>\n",
       "      <td>0.659185</td>\n",
       "      <td>How high is the peak of mount Fuji</td>\n",
       "    </tr>\n",
       "    <tr>\n",
       "      <th>3669</th>\n",
       "      <td>finnish</td>\n",
       "      <td>Kuinka korkea on Kalliovuorten korkein huippu?</td>\n",
       "      <td>0.649783</td>\n",
       "      <td>How high is the peak of mount Fuji</td>\n",
       "    </tr>\n",
       "    <tr>\n",
       "      <th>18610</th>\n",
       "      <td>japanese</td>\n",
       "      <td>六甲山の頂上の標高は？</td>\n",
       "      <td>0.638958</td>\n",
       "      <td>How high is the peak of mount Fuji</td>\n",
       "    </tr>\n",
       "    <tr>\n",
       "      <th>2940</th>\n",
       "      <td>thai</td>\n",
       "      <td>ฟีลีปี โกชิญญู โกเรย์ยา สูงเท่าไหร่?</td>\n",
       "      <td>0.593880</td>\n",
       "      <td>How high is the peak of mount Fuji</td>\n",
       "    </tr>\n",
       "    <tr>\n",
       "      <th>16657</th>\n",
       "      <td>arabic</td>\n",
       "      <td>ما هو ارتفاع سد وادي نجران؟</td>\n",
       "      <td>0.584638</td>\n",
       "      <td>How high is the peak of mount Fuji</td>\n",
       "    </tr>\n",
       "  </tbody>\n",
       "</table>\n",
       "</div>"
      ],
      "text/plain": [
       "       language                                   question_text  sim_score  \\\n",
       "1789    english      How high is the highest point in The Alps?   0.659185   \n",
       "3669    finnish  Kuinka korkea on Kalliovuorten korkein huippu?   0.649783   \n",
       "18610  japanese                                     六甲山の頂上の標高は？   0.638958   \n",
       "2940       thai            ฟีลีปี โกชิญญู โกเรย์ยา สูงเท่าไหร่?   0.593880   \n",
       "16657    arabic                     ما هو ارتفاع سد وادي نجران؟   0.584638   \n",
       "\n",
       "                                    query  \n",
       "1789   How high is the peak of mount Fuji  \n",
       "3669   How high is the peak of mount Fuji  \n",
       "18610  How high is the peak of mount Fuji  \n",
       "2940   How high is the peak of mount Fuji  \n",
       "16657  How high is the peak of mount Fuji  "
      ]
     },
     "metadata": {},
     "output_type": "display_data"
    }
   ],
   "source": [
    "# Again perform KNN without limiting to english data\n",
    "df_mlist = {}\n",
    "for i in range(0,len(questions)): \n",
    "  print(\"Similarities for All Sentences : \" + t_questions[i])\n",
    "  score_col = \"sim_score_{}\".format(i)\n",
    "  df_mlist[i] = df_val[{'question_text',score_col,'language'}].sort_values(score_col, ascending=False)[:5]\n",
    "  df_mlist[i][\"query\"] = [t_questions[i]] * 5\n",
    "  df_mlist[i].rename(columns={score_col : \"sim_score\"}, inplace=True)\n",
    "  display(df_mlist[i])"
   ]
  },
  {
   "cell_type": "code",
   "execution_count": 20,
   "metadata": {},
   "outputs": [
    {
     "data": {
      "text/html": [
       "<div>\n",
       "<style scoped>\n",
       "    .dataframe tbody tr th:only-of-type {\n",
       "        vertical-align: middle;\n",
       "    }\n",
       "\n",
       "    .dataframe tbody tr th {\n",
       "        vertical-align: top;\n",
       "    }\n",
       "\n",
       "    .dataframe thead th {\n",
       "        text-align: right;\n",
       "    }\n",
       "</style>\n",
       "<table border=\"1\" class=\"dataframe\">\n",
       "  <thead>\n",
       "    <tr style=\"text-align: right;\">\n",
       "      <th></th>\n",
       "      <th>sim_score</th>\n",
       "      <th>question_text</th>\n",
       "      <th>language</th>\n",
       "      <th>query</th>\n",
       "    </tr>\n",
       "  </thead>\n",
       "  <tbody>\n",
       "    <tr>\n",
       "      <th>0</th>\n",
       "      <td>0.740267</td>\n",
       "      <td>siapakah sutradara film merantau?</td>\n",
       "      <td>indonesian</td>\n",
       "      <td>Who was the actor in</td>\n",
       "    </tr>\n",
       "    <tr>\n",
       "      <th>1</th>\n",
       "      <td>0.725935</td>\n",
       "      <td>ใครเป็นผู้แสดงนำในเรื่อง มาสค์ไรเดอร์ไฟซ์?</td>\n",
       "      <td>thai</td>\n",
       "      <td>Who was the actor in</td>\n",
       "    </tr>\n",
       "    <tr>\n",
       "      <th>2</th>\n",
       "      <td>0.715274</td>\n",
       "      <td>Siapa pemeran utama film Fences ?</td>\n",
       "      <td>indonesian</td>\n",
       "      <td>Who was the actor in</td>\n",
       "    </tr>\n",
       "    <tr>\n",
       "      <th>3</th>\n",
       "      <td>0.703290</td>\n",
       "      <td>Siapakah karakter utama dalam film Fiksi ?</td>\n",
       "      <td>indonesian</td>\n",
       "      <td>Who was the actor in</td>\n",
       "    </tr>\n",
       "    <tr>\n",
       "      <th>4</th>\n",
       "      <td>0.695845</td>\n",
       "      <td>Siapakah yang menjadi tokoh utama dalam film I...</td>\n",
       "      <td>indonesian</td>\n",
       "      <td>Who was the actor in</td>\n",
       "    </tr>\n",
       "    <tr>\n",
       "      <th>5</th>\n",
       "      <td>0.659185</td>\n",
       "      <td>How high is the highest point in The Alps?</td>\n",
       "      <td>english</td>\n",
       "      <td>How high is the peak of mount Fuji</td>\n",
       "    </tr>\n",
       "    <tr>\n",
       "      <th>6</th>\n",
       "      <td>0.649783</td>\n",
       "      <td>Kuinka korkea on Kalliovuorten korkein huippu?</td>\n",
       "      <td>finnish</td>\n",
       "      <td>How high is the peak of mount Fuji</td>\n",
       "    </tr>\n",
       "    <tr>\n",
       "      <th>7</th>\n",
       "      <td>0.638958</td>\n",
       "      <td>六甲山の頂上の標高は？</td>\n",
       "      <td>japanese</td>\n",
       "      <td>How high is the peak of mount Fuji</td>\n",
       "    </tr>\n",
       "    <tr>\n",
       "      <th>8</th>\n",
       "      <td>0.593880</td>\n",
       "      <td>ฟีลีปี โกชิญญู โกเรย์ยา สูงเท่าไหร่?</td>\n",
       "      <td>thai</td>\n",
       "      <td>How high is the peak of mount Fuji</td>\n",
       "    </tr>\n",
       "    <tr>\n",
       "      <th>9</th>\n",
       "      <td>0.584638</td>\n",
       "      <td>ما هو ارتفاع سد وادي نجران؟</td>\n",
       "      <td>arabic</td>\n",
       "      <td>How high is the peak of mount Fuji</td>\n",
       "    </tr>\n",
       "  </tbody>\n",
       "</table>\n",
       "</div>"
      ],
      "text/plain": [
       "   sim_score                                      question_text    language  \\\n",
       "0   0.740267                  siapakah sutradara film merantau?  indonesian   \n",
       "1   0.725935         ใครเป็นผู้แสดงนำในเรื่อง มาสค์ไรเดอร์ไฟซ์?        thai   \n",
       "2   0.715274                  Siapa pemeran utama film Fences ?  indonesian   \n",
       "3   0.703290         Siapakah karakter utama dalam film Fiksi ?  indonesian   \n",
       "4   0.695845  Siapakah yang menjadi tokoh utama dalam film I...  indonesian   \n",
       "5   0.659185         How high is the highest point in The Alps?     english   \n",
       "6   0.649783     Kuinka korkea on Kalliovuorten korkein huippu?     finnish   \n",
       "7   0.638958                                        六甲山の頂上の標高は？    japanese   \n",
       "8   0.593880               ฟีลีปี โกชิญญู โกเรย์ยา สูงเท่าไหร่?        thai   \n",
       "9   0.584638                        ما هو ارتفاع سد وادي نجران؟      arabic   \n",
       "\n",
       "                                query  \n",
       "0                Who was the actor in  \n",
       "1                Who was the actor in  \n",
       "2                Who was the actor in  \n",
       "3                Who was the actor in  \n",
       "4                Who was the actor in  \n",
       "5  How high is the peak of mount Fuji  \n",
       "6  How high is the peak of mount Fuji  \n",
       "7  How high is the peak of mount Fuji  \n",
       "8  How high is the peak of mount Fuji  \n",
       "9  How high is the peak of mount Fuji  "
      ]
     },
     "execution_count": 20,
     "metadata": {},
     "output_type": "execute_result"
    }
   ],
   "source": [
    "df_mquery_comp = pd.concat(df_mlist, ignore_index=True).sort_values(\"sim_score\", ascending=False)\n",
    "df_mquery_comp"
   ]
  },
  {
   "cell_type": "markdown",
   "metadata": {},
   "source": [
    "#### Multilingual Display\n",
    "\n",
    "Unfortunately MatPlotLib and derivative libraries such as Seaborn do not support multiple fonts without significant workarounds that I found unsuitable for displaying the different languages in this diagram. [See issue raised here](https://github.com/matplotlib/matplotlib/issues/15260)\n",
    "\n",
    "I performed an exhaustive search of all available fonts in the `MatPlotLib Font Manager` and displayed a set of characters from each relevant language of strings."
   ]
  },
  {
   "cell_type": "code",
   "execution_count": null,
   "metadata": {},
   "outputs": [],
   "source": [
    "# This was used to discover which font can display all characters\n",
    "# Takes some time to run and displays hundreds of fonts\n",
    "# \n",
    "import matplotlib as mpl\n",
    "fonts = set([f.name for f in mpl.font_manager.fontManager.ttflist])\n",
    "\n",
    "# Set up plots\n",
    "plt.figure(figsize=(10,len(fonts)/4))\n",
    " \n",
    "# Plot each font render beside font name\n",
    "for i, font in enumerate(fonts):\n",
    "    plt.text(0, i, f\"日本語  ฟีลีปี نجران：{font}\", fontname=font)\n",
    "    \n",
    "plt.ylim(0, len(fonts))\n",
    "plt.axis(\"off\")\n",
    "\n",
    "plt.show()\n",
    "# Arial Unicode MS shown to be only font capable of rendering all 3"
   ]
  },
  {
   "cell_type": "markdown",
   "metadata": {},
   "source": [
    "Here is a sample of the plotted output from the above function including the correctly identified font\n",
    "\n",
    "![](Fonts.png)"
   ]
  },
  {
   "cell_type": "code",
   "execution_count": 21,
   "metadata": {},
   "outputs": [
    {
     "data": {
      "image/png": "[encoded data removed]",
      "text/plain": [
       "<Figure size 432x288 with 1 Axes>"
      ]
     },
     "metadata": {},
     "output_type": "display_data"
    }
   ],
   "source": [
    "sns.set_theme(style=\"whitegrid\")\n",
    "plt.rcParams['font.family'] = ['Arial Unicode MS']\n",
    "ax = sns.barplot(x=\"sim_score\", y=\"question_text\", data=df_mquery_comp, hue=\"query\")\n",
    "plt.legend(bbox_to_anchor=(1.05, 1), loc='upper left', borderaxespad=0)\n",
    "\n",
    "plt.show()"
   ]
  },
  {
   "cell_type": "markdown",
   "metadata": {},
   "source": [
    "## Results and Conclusion\n",
    "\n",
    "It is clear that we are able to return strings in other languages with high similarity scores.</br>\n",
    "The most similar string to our first query `siapakah sutradara film merantau?` is Indonesian for `who is the director of the film merantau?`. This is clearly strongly related to our initial query both in subject and structure. [4]<br>\n",
    "Likewise the highest similarity score for the second query has returned semantically very similar text with a query very close to the original query given a high similarity score.<br>\n",
    "\n",
    "Although I personally find the top result relating to the `mount Fuji` query to be much more similar, this is one of the trade-offs that must come when dealing with multiple languages.<br>\n",
    "Semantics varies across peoples and languages this is reflected when encoding translated data.<br>\n",
    "\n",
    "This does however demonstrate that our semantic search works and will allow the exploration of multilingual data when training question answering models.\n",
    "The importance of semantic relations are apparent when considering what a trained QA system scores well on and what it scores poorly on.<br>\n",
    "If a trained model is unable to answer a question in French about a well known mountain in Japan we can identify potential gaps in its knowledge by finding questions related to the geography of Japan or questions about mountains in other places.<br>\n",
    "These questions will contain similar topics while likely being in different languages.<br> \n",
    "Once identified and tested the results will allow me to understand if the difficulty is related to the language of the query or the topic of the query in greater detail."
   ]
  },
  {
   "cell_type": "markdown",
   "metadata": {},
   "source": [
    "### Sources:\n",
    "1. Asai, A., Yu, X., Kasai, J., & Hajishirzi, H. (2021). One question answering model for many languages with cross-lingual dense passage retrieval. Advances in Neural Information Processing Systems, 34.\n",
    "2. Yang, Y., Cer, D., Ahmad, A., Guo, M., Law, J., Constant, N., ... & Kurzweil, R. (2019). Multilingual universal sentence encoder for semantic retrieval. arXiv preprint arXiv:1907.04307.\n",
    "3. Clark, J. H., Choi, E., Collins, M., Garrette, D., Kwiatkowski, T., Nikolaev, V., & Palomaki, J. (2020). TyDi QA: A benchmark for information-seeking question answering in typologically diverse languages. Transactions of the Association for Computational Linguistics, 8, 454-470.\n",
    "4. DeepL Translate: The world’s most accurate translator. (n.d.). DeepL. Retrieved August 2, 2022, from http://www.deepl.com/translator"
   ]
  },
  {
   "cell_type": "markdown",
   "metadata": {},
   "source": []
  }
 ],
 "metadata": {
  "kernelspec": {
   "display_name": "Python 3 (ipykernel)",
   "language": "python",
   "name": "python3"
  },
  "language_info": {
   "codemirror_mode": {
    "name": "ipython",
    "version": 3
   },
   "file_extension": ".py",
   "mimetype": "text/x-python",
   "name": "python",
   "nbconvert_exporter": "python",
   "pygments_lexer": "ipython3",
   "version": "3.9.8"
  },
  "vscode": {
   "interpreter": {
    "hash": "a678f92b11b0cdfffc6334f5c4b8d213737878ded07f1a6ebc7b8f8950f72291"
   }
  }
 },
 "nbformat": 4,
 "nbformat_minor": 4
}
