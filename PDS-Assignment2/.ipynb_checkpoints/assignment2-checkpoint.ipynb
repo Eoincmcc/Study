{
 "cells": [
  {
   "cell_type": "markdown",
   "metadata": {},
   "source": [
    "# Practical Data Science Report - 2\n",
    "### John 'Eoin' Cronin-McCartney\n",
    "\n",
    "Student no: 20221758\n"
   ]
  },
  {
   "cell_type": "markdown",
   "metadata": {},
   "source": [
    "## An exploration of semantic similarity in multiple languages\n",
    "\n",
    "I believe that Question-Answer systems designed to facilitate knowledge seeking should be able to retrieve across language barriers, users should not have to learn a new language before being able to pursue their professional, academic or personal information needs. In order to utilise information from languages we can train QA systems with multiple languages.\n",
    "My goal is to develop a system that can retrieve data cross-lingually [1] that is data which can answer questions posed in one language, language A, where the information is found in another, language B.\n",
    "\n",
    "Datasets with multiple languages are key to my research, one of the most interesting and important developments in machine learning and data science in multilingual research has been the development of language agnostic embeddings[2 Multilingual Universal Sentence Encoder for Semantic Retrieval].<br><br>\n",
    "Language agnostic embeddings create a dense representation of a sentence or question in one of multiple languages and embed them into a shared space.<br>\n",
    "These embeddings are\n",
    "\n",
    "The development of these embeddings forms the basis of research into multi and cross-lingual question answering by \n",
    "\n",
    "\n",
    "In this assignment I explore a dataset, tydi QA [2] I have previously not worked with in order to understand its attributes and the possible utilities it can provide me when training a cross-lingual system."
   ]
  },
  {
   "cell_type": "code",
   "execution_count": 3,
   "metadata": {},
   "outputs": [],
   "source": [
    "import numpy as np\n",
    "import faiss\n",
    "import requests\n",
    "from io import StringIO\n",
    "import pandas as pd\n",
    "from datasets import load_dataset"
   ]
  },
  {
   "cell_type": "code",
   "execution_count": 4,
   "metadata": {},
   "outputs": [
    {
     "name": "stderr",
     "output_type": "stream",
     "text": [
      "Reusing dataset tydiqa (/Users/johncmcc/.cache/huggingface/datasets/tydiqa/primary_task/1.0.0/b8a6c4c0db10bf5703d7b36645e5dbae821b8c0e902dac9daeecd459a8337148)\n",
      "100%|██████████| 2/2 [00:00<00:00, 10.01it/s]\n"
     ]
    }
   ],
   "source": [
    "tydi_ds =  load_dataset('tydiqa','primary_task')"
   ]
  },
  {
   "cell_type": "code",
   "execution_count": 5,
   "metadata": {},
   "outputs": [
    {
     "data": {
      "text/html": [
       "<div>\n",
       "<style scoped>\n",
       "    .dataframe tbody tr th:only-of-type {\n",
       "        vertical-align: middle;\n",
       "    }\n",
       "\n",
       "    .dataframe tbody tr th {\n",
       "        vertical-align: top;\n",
       "    }\n",
       "\n",
       "    .dataframe thead th {\n",
       "        text-align: right;\n",
       "    }\n",
       "</style>\n",
       "<table border=\"1\" class=\"dataframe\">\n",
       "  <thead>\n",
       "    <tr style=\"text-align: right;\">\n",
       "      <th></th>\n",
       "      <th>passage_answer_candidates</th>\n",
       "      <th>question_text</th>\n",
       "      <th>document_title</th>\n",
       "      <th>language</th>\n",
       "      <th>annotations</th>\n",
       "      <th>document_plaintext</th>\n",
       "      <th>document_url</th>\n",
       "    </tr>\n",
       "  </thead>\n",
       "  <tbody>\n",
       "    <tr>\n",
       "      <th>0</th>\n",
       "      <td>{'plaintext_start_byte': [1, 517, 1805, 2966, ...</td>\n",
       "      <td>หม่อมราชวงศ์สุขุมพันธุ์ บริพัตร เรียนจบจากที่ไ...</td>\n",
       "      <td>หม่อมราชวงศ์สุขุมพันธุ์ บริพัตร</td>\n",
       "      <td>thai</td>\n",
       "      <td>{'passage_answer_candidate_index': [-1, -1, -1...</td>\n",
       "      <td>\\nรองศาสตราจารย์[1] หม่อมราชวงศ์สุขุมพันธุ์ บร...</td>\n",
       "      <td>https://th.wikipedia.org/wiki/%E0%B8%AB%E0%B8%...</td>\n",
       "    </tr>\n",
       "    <tr>\n",
       "      <th>1</th>\n",
       "      <td>{'plaintext_start_byte': [1, 280, 468, 812], '...</td>\n",
       "      <td>Ukubwa wa Rijili Kantori ni kiasi gani?</td>\n",
       "      <td>Rijili Kantori</td>\n",
       "      <td>swahili</td>\n",
       "      <td>{'passage_answer_candidate_index': [-1, -1, -1...</td>\n",
       "      <td>\\nRijili Kantori , Rijili Kantarusi au ing. Al...</td>\n",
       "      <td>https://sw.wikipedia.org/wiki/Rijili%20Kantori</td>\n",
       "    </tr>\n",
       "    <tr>\n",
       "      <th>2</th>\n",
       "      <td>{'plaintext_start_byte': [1, 1124, 2274, 2571,...</td>\n",
       "      <td>అలి గౌహర్ ఎన్ని సంవత్సరాలు జీవించాడు?</td>\n",
       "      <td>అహమ్మద్ షా బహదూర్</td>\n",
       "      <td>telugu</td>\n",
       "      <td>{'passage_answer_candidate_index': [27, -1, -1...</td>\n",
       "      <td>\\nఅహమ్మద్ షా బహదూర్, మిర్జా అహమ్మద్ షా, షహన్‌ష...</td>\n",
       "      <td>https://te.wikipedia.org/wiki/%E0%B0%85%E0%B0%...</td>\n",
       "    </tr>\n",
       "    <tr>\n",
       "      <th>3</th>\n",
       "      <td>{'plaintext_start_byte': [0, 351, 553, 1244, 1...</td>\n",
       "      <td>Milloin Kokemäki on perustettu?</td>\n",
       "      <td>Kokemäki</td>\n",
       "      <td>finnish</td>\n",
       "      <td>{'passage_answer_candidate_index': [-1, 16, -1...</td>\n",
       "      <td>\\nKokemäki () on Suomen kaupunki, joka sijaits...</td>\n",
       "      <td>https://fi.wikipedia.org/wiki/Kokem%C3%A4ki</td>\n",
       "    </tr>\n",
       "    <tr>\n",
       "      <th>4</th>\n",
       "      <td>{'plaintext_start_byte': [1, 1091, 2520, 3062,...</td>\n",
       "      <td>১৯৮১ সালে বাংলাদেশের সেনাবাহিনীর সেনাপ্রধান কে...</td>\n",
       "      <td>হুসেইন মুহাম্মদ এরশাদ</td>\n",
       "      <td>bengali</td>\n",
       "      <td>{'passage_answer_candidate_index': [-1, -1, -1...</td>\n",
       "      <td>\\nহুসেইন মুহাম্মদ এরশাদ (ফেব্রুয়ারি ১, ১৯৩০) ...</td>\n",
       "      <td>https://bn.wikipedia.org/wiki/%E0%A6%B9%E0%A7%...</td>\n",
       "    </tr>\n",
       "  </tbody>\n",
       "</table>\n",
       "</div>"
      ],
      "text/plain": [
       "                           passage_answer_candidates  \\\n",
       "0  {'plaintext_start_byte': [1, 517, 1805, 2966, ...   \n",
       "1  {'plaintext_start_byte': [1, 280, 468, 812], '...   \n",
       "2  {'plaintext_start_byte': [1, 1124, 2274, 2571,...   \n",
       "3  {'plaintext_start_byte': [0, 351, 553, 1244, 1...   \n",
       "4  {'plaintext_start_byte': [1, 1091, 2520, 3062,...   \n",
       "\n",
       "                                       question_text  \\\n",
       "0  หม่อมราชวงศ์สุขุมพันธุ์ บริพัตร เรียนจบจากที่ไ...   \n",
       "1            Ukubwa wa Rijili Kantori ni kiasi gani?   \n",
       "2              అలి గౌహర్ ఎన్ని సంవత్సరాలు జీవించాడు?   \n",
       "3                    Milloin Kokemäki on perustettu?   \n",
       "4  ১৯৮১ সালে বাংলাদেশের সেনাবাহিনীর সেনাপ্রধান কে...   \n",
       "\n",
       "                    document_title language  \\\n",
       "0  หม่อมราชวงศ์สุขุมพันธุ์ บริพัตร     thai   \n",
       "1                   Rijili Kantori  swahili   \n",
       "2                అహమ్మద్ షా బహదూర్   telugu   \n",
       "3                         Kokemäki  finnish   \n",
       "4            হুসেইন মুহাম্মদ এরশাদ  bengali   \n",
       "\n",
       "                                         annotations  \\\n",
       "0  {'passage_answer_candidate_index': [-1, -1, -1...   \n",
       "1  {'passage_answer_candidate_index': [-1, -1, -1...   \n",
       "2  {'passage_answer_candidate_index': [27, -1, -1...   \n",
       "3  {'passage_answer_candidate_index': [-1, 16, -1...   \n",
       "4  {'passage_answer_candidate_index': [-1, -1, -1...   \n",
       "\n",
       "                                  document_plaintext  \\\n",
       "0  \\nรองศาสตราจารย์[1] หม่อมราชวงศ์สุขุมพันธุ์ บร...   \n",
       "1  \\nRijili Kantori , Rijili Kantarusi au ing. Al...   \n",
       "2  \\nఅహమ్మద్ షా బహదూర్, మిర్జా అహమ్మద్ షా, షహన్‌ష...   \n",
       "3  \\nKokemäki () on Suomen kaupunki, joka sijaits...   \n",
       "4  \\nহুসেইন মুহাম্মদ এরশাদ (ফেব্রুয়ারি ১, ১৯৩০) ...   \n",
       "\n",
       "                                        document_url  \n",
       "0  https://th.wikipedia.org/wiki/%E0%B8%AB%E0%B8%...  \n",
       "1     https://sw.wikipedia.org/wiki/Rijili%20Kantori  \n",
       "2  https://te.wikipedia.org/wiki/%E0%B0%85%E0%B0%...  \n",
       "3        https://fi.wikipedia.org/wiki/Kokem%C3%A4ki  \n",
       "4  https://bn.wikipedia.org/wiki/%E0%A6%B9%E0%A7%...  "
      ]
     },
     "execution_count": 5,
     "metadata": {},
     "output_type": "execute_result"
    }
   ],
   "source": [
    "df_val = tydi_ds['validation'].to_pandas()\n",
    "df_val.head()"
   ]
  },
  {
   "cell_type": "markdown",
   "metadata": {},
   "source": [
    "We will take all samples from sentence_A and build sentence embeddings for each."
   ]
  },
  {
   "cell_type": "code",
   "execution_count": 329,
   "metadata": {},
   "outputs": [],
   "source": [
    "sentences = df_val['question_text'].tolist()"
   ]
  },
  {
   "cell_type": "code",
   "execution_count": 257,
   "metadata": {},
   "outputs": [],
   "source": [
    "# Removing any duplicates and Null vals\n",
    "sentences = [\n",
    "    sentence.replace('\\n', '') for sentence in list(set(sentences)) if type(sentence) is str\n",
    "    ]"
   ]
  },
  {
   "cell_type": "markdown",
   "metadata": {},
   "source": [
    "Storing back-up of data outside of volatile memory"
   ]
  },
  {
   "cell_type": "code",
   "execution_count": 258,
   "metadata": {},
   "outputs": [],
   "source": [
    "with open('sentences.txt', 'w') as fp:\n",
    "    fp.write('\\n'.join(sentences))"
   ]
  },
  {
   "cell_type": "markdown",
   "metadata": {},
   "source": [
    "Now the sentences can be embedding.\n",
    "I wish to have the sentences be represented language agnostic so that they are grouped by meaning rather than by language.\n",
    "I want to find the semantic similarity between models.\n",
    "\n",
    "\n",
    "There are a number of different pre-trained models which can be used for this task which reduces the need for long training epochs."
   ]
  },
  {
   "cell_type": "code",
   "execution_count": 259,
   "metadata": {},
   "outputs": [],
   "source": [
    "from sentence_transformers import SentenceTransformer\n",
    "model = SentenceTransformer('distiluse-base-multilingual-cased-v2')"
   ]
  },
  {
   "cell_type": "code",
   "execution_count": 293,
   "metadata": {},
   "outputs": [
    {
     "data": {
      "text/plain": [
       "(18670, 512)"
      ]
     },
     "execution_count": 293,
     "metadata": {},
     "output_type": "execute_result"
    }
   ],
   "source": [
    "sentence_embeddings = model.encode([x for x in sentences])\n",
    "sentence_embeddings.shape"
   ]
  },
  {
   "cell_type": "markdown",
   "metadata": {},
   "source": [
    "If needed the file can be saved and loaded for use without re-initialising the embeddings"
   ]
  },
  {
   "cell_type": "code",
   "execution_count": 295,
   "metadata": {},
   "outputs": [],
   "source": [
    "with open(f'./data/embeddings_X.npy', 'wb') as fp:\n",
    "    np.save(fp, sentence_embeddings[0:256])"
   ]
  },
  {
   "cell_type": "code",
   "execution_count": 296,
   "metadata": {},
   "outputs": [
    {
     "name": "stdout",
     "output_type": "stream",
     "text": [
      "embeddings_0.npy | 0 -> 256\n",
      "embeddings_1.npy | 256 -> 512\n",
      "embeddings_2.npy | 512 -> 768\n",
      "embeddings_3.npy | 768 -> 1024\n",
      "embeddings_4.npy | 1024 -> 1280\n",
      "embeddings_5.npy | 1280 -> 1536\n",
      "embeddings_6.npy | 1536 -> 1792\n",
      "embeddings_7.npy | 1792 -> 2048\n",
      "embeddings_8.npy | 2048 -> 2304\n",
      "embeddings_9.npy | 2304 -> 2560\n",
      "embeddings_10.npy | 2560 -> 2816\n",
      "embeddings_11.npy | 2816 -> 3072\n",
      "embeddings_12.npy | 3072 -> 3328\n",
      "embeddings_13.npy | 3328 -> 3584\n",
      "embeddings_14.npy | 3584 -> 3840\n",
      "embeddings_15.npy | 3840 -> 4096\n",
      "embeddings_16.npy | 4096 -> 4352\n",
      "embeddings_17.npy | 4352 -> 4608\n",
      "embeddings_18.npy | 4608 -> 4864\n",
      "embeddings_19.npy | 4864 -> 5120\n",
      "embeddings_20.npy | 5120 -> 5376\n",
      "embeddings_21.npy | 5376 -> 5632\n",
      "embeddings_22.npy | 5632 -> 5888\n",
      "embeddings_23.npy | 5888 -> 6144\n",
      "embeddings_24.npy | 6144 -> 6400\n",
      "embeddings_25.npy | 6400 -> 6656\n",
      "embeddings_26.npy | 6656 -> 6912\n",
      "embeddings_27.npy | 6912 -> 7168\n",
      "embeddings_28.npy | 7168 -> 7424\n",
      "embeddings_29.npy | 7424 -> 7680\n",
      "embeddings_30.npy | 7680 -> 7936\n",
      "embeddings_31.npy | 7936 -> 8192\n",
      "embeddings_32.npy | 8192 -> 8448\n",
      "embeddings_33.npy | 8448 -> 8704\n",
      "embeddings_34.npy | 8704 -> 8960\n",
      "embeddings_35.npy | 8960 -> 9216\n",
      "embeddings_36.npy | 9216 -> 9472\n",
      "embeddings_37.npy | 9472 -> 9728\n",
      "embeddings_38.npy | 9728 -> 9984\n",
      "embeddings_39.npy | 9984 -> 10240\n",
      "embeddings_40.npy | 10240 -> 10496\n",
      "embeddings_41.npy | 10496 -> 10752\n",
      "embeddings_42.npy | 10752 -> 11008\n",
      "embeddings_43.npy | 11008 -> 11264\n",
      "embeddings_44.npy | 11264 -> 11520\n",
      "embeddings_45.npy | 11520 -> 11776\n",
      "embeddings_46.npy | 11776 -> 12032\n",
      "embeddings_47.npy | 12032 -> 12288\n",
      "embeddings_48.npy | 12288 -> 12544\n",
      "embeddings_49.npy | 12544 -> 12800\n",
      "embeddings_50.npy | 12800 -> 13056\n",
      "embeddings_51.npy | 13056 -> 13312\n",
      "embeddings_52.npy | 13312 -> 13568\n",
      "embeddings_53.npy | 13568 -> 13824\n",
      "embeddings_54.npy | 13824 -> 14080\n",
      "embeddings_55.npy | 14080 -> 14336\n",
      "embeddings_56.npy | 14336 -> 14592\n",
      "embeddings_57.npy | 14592 -> 14848\n",
      "embeddings_58.npy | 14848 -> 15104\n",
      "embeddings_59.npy | 15104 -> 15360\n",
      "embeddings_60.npy | 15360 -> 15616\n",
      "embeddings_61.npy | 15616 -> 15872\n",
      "embeddings_62.npy | 15872 -> 16128\n",
      "embeddings_63.npy | 16128 -> 16384\n",
      "embeddings_64.npy | 16384 -> 16640\n",
      "embeddings_65.npy | 16640 -> 16896\n",
      "embeddings_66.npy | 16896 -> 17152\n",
      "embeddings_67.npy | 17152 -> 17408\n",
      "embeddings_68.npy | 17408 -> 17664\n",
      "embeddings_69.npy | 17664 -> 17920\n",
      "embeddings_70.npy | 17920 -> 18176\n",
      "embeddings_71.npy | 18176 -> 18432\n",
      "embeddings_72.npy | 18432 -> 18671\n"
     ]
    }
   ],
   "source": [
    "split = 256\n",
    "file_count = 0\n",
    "for i in range(0, sentence_embeddings.shape[0], split):\n",
    "    end = i + split\n",
    "    if end > sentence_embeddings.shape[0] + 1:\n",
    "        end = sentence_embeddings.shape[0] + 1\n",
    "    num = str(file_count)\n",
    "    with open(f'./data/embeddings_{num}.npy', 'wb') as fp:\n",
    "        np.save(fp, sentence_embeddings[i:end, :])\n",
    "    print(f\"embeddings_{num}.npy | {i} -> {end}\")\n",
    "    file_count += 1"
   ]
  },
  {
   "cell_type": "markdown",
   "metadata": {},
   "source": [
    "## Semantic Similarity\n",
    "\n",
    "I want to check that the questions in the data set are organised by semantic similarity rather than by language.<br>\n",
    "Similarity in Sentence Embeddings can be thought of as the distance between 2 vectors.\n",
    "\n",
    "There are a number of ways to calculate the distance between 2 vectors, I will use the Cosine Similarity to compute the distance.\n",
    "\n",
    "#### Cosine Similarity\n",
    "\n",
    "The cosine similarity measures distance between 2-vectors by computing the angle between the 2 vectors.\n",
    "It takes the cosine of the angle between 2 vectors in a multidimensional space given by: \n",
    "\n",
    "$$\n",
    "\\operatorname{similarity}(x, y)=\\cos (\\theta)=\\frac{x \\cdot y}{|x||y|}\n",
    "$$\n",
    "\n",
    "This essentially take the dot-product of 2 vectors `x` & `y` and divides this by the product of the length of `x` & `y`\n",
    "Math libraries commonly give the cosine similarity as a built in function and so we can use the sklearn implementation to calculate the similarity between our two vectors."
   ]
  },
  {
   "cell_type": "code",
   "execution_count": 310,
   "metadata": {},
   "outputs": [],
   "source": [
    "from sklearn.metrics.pairwise import cosine_similarity \n",
    "# Calculating the Cosine distance between all pairs of embedded sentences\n",
    "\n",
    "# put embeddings in matrix\n",
    "embed_mat = np.array([x for x in sentence_embeddings])\n",
    "# calculate distance between every embedding pair \n",
    "sim_mat = cosine_similarity(embed_mat,embed_mat)\n",
    "\n",
    "def compare(sen_comp, embeddings):\n",
    "  # write sim scores to df  \n",
    "  df_val['sim_score'] = sim_mat[sen_comp]\n",
    "  return df_val\n",
    "\n",
    "# Choose a sentence, 35 is hand chosen at random\n",
    "sen_comp=35\n",
    "sim_sen = compare(sen_comp,sentence_embeddings)"
   ]
  },
  {
   "cell_type": "markdown",
   "metadata": {},
   "source": [
    "#### Expectation of Similarity\n",
    "\n",
    "For the vectors to have been encoded based on their semantic similarity rather than their linguistic similarity we would expect to see the closest vectors to the selected vector be chosen independently of language.<br>\n",
    "Below we can see a variety of languages amongst the top 10 which is a good indication that we have encoded our vectors semantically."
   ]
  },
  {
   "cell_type": "code",
   "execution_count": 312,
   "metadata": {},
   "outputs": [
    {
     "name": "stdout",
     "output_type": "stream",
     "text": [
      "Similarities for Sentence : Voiko historiaa opiskella Kuopiossa?\n"
     ]
    },
    {
     "data": {
      "text/html": [
       "<div>\n",
       "<style scoped>\n",
       "    .dataframe tbody tr th:only-of-type {\n",
       "        vertical-align: middle;\n",
       "    }\n",
       "\n",
       "    .dataframe tbody tr th {\n",
       "        vertical-align: top;\n",
       "    }\n",
       "\n",
       "    .dataframe thead th {\n",
       "        text-align: right;\n",
       "    }\n",
       "</style>\n",
       "<table border=\"1\" class=\"dataframe\">\n",
       "  <thead>\n",
       "    <tr style=\"text-align: right;\">\n",
       "      <th></th>\n",
       "      <th>sim_score</th>\n",
       "      <th>language</th>\n",
       "      <th>question_text</th>\n",
       "    </tr>\n",
       "  </thead>\n",
       "  <tbody>\n",
       "    <tr>\n",
       "      <th>35</th>\n",
       "      <td>1.000000</td>\n",
       "      <td>finnish</td>\n",
       "      <td>Voiko historiaa opiskella Kuopiossa?</td>\n",
       "    </tr>\n",
       "    <tr>\n",
       "      <th>10132</th>\n",
       "      <td>0.606740</td>\n",
       "      <td>finnish</td>\n",
       "      <td>Voiko keramiikkaa opiskella Suomessa?</td>\n",
       "    </tr>\n",
       "    <tr>\n",
       "      <th>16890</th>\n",
       "      <td>0.572717</td>\n",
       "      <td>japanese</td>\n",
       "      <td>孟子を題材とした日本の歴史小説はありますか？</td>\n",
       "    </tr>\n",
       "    <tr>\n",
       "      <th>15181</th>\n",
       "      <td>0.570124</td>\n",
       "      <td>japanese</td>\n",
       "      <td>若松城の中を見学することはできる？</td>\n",
       "    </tr>\n",
       "    <tr>\n",
       "      <th>14551</th>\n",
       "      <td>0.545060</td>\n",
       "      <td>finnish</td>\n",
       "      <td>Voiko työnjohtoa opiskella?</td>\n",
       "    </tr>\n",
       "    <tr>\n",
       "      <th>11620</th>\n",
       "      <td>0.544570</td>\n",
       "      <td>arabic</td>\n",
       "      <td>هل تدرس باكلوريوس الرياضة في ‫جَامِعَةُ العُلو...</td>\n",
       "    </tr>\n",
       "    <tr>\n",
       "      <th>1999</th>\n",
       "      <td>0.540544</td>\n",
       "      <td>korean</td>\n",
       "      <td>북학파를 중상학파라고도 하나요?</td>\n",
       "    </tr>\n",
       "    <tr>\n",
       "      <th>8757</th>\n",
       "      <td>0.538410</td>\n",
       "      <td>finnish</td>\n",
       "      <td>Onko Hesekielin temppeli historiallinen kohde?</td>\n",
       "    </tr>\n",
       "    <tr>\n",
       "      <th>28</th>\n",
       "      <td>0.537090</td>\n",
       "      <td>finnish</td>\n",
       "      <td>Voiko Oulussa opiskella lakimieheksi?</td>\n",
       "    </tr>\n",
       "    <tr>\n",
       "      <th>4108</th>\n",
       "      <td>0.527801</td>\n",
       "      <td>swahili</td>\n",
       "      <td>Dodoma iko na ukubwa gani ya kijiographia?</td>\n",
       "    </tr>\n",
       "  </tbody>\n",
       "</table>\n",
       "</div>"
      ],
      "text/plain": [
       "       sim_score  language                                      question_text\n",
       "35      1.000000   finnish               Voiko historiaa opiskella Kuopiossa?\n",
       "10132   0.606740   finnish              Voiko keramiikkaa opiskella Suomessa?\n",
       "16890   0.572717  japanese                             孟子を題材とした日本の歴史小説はありますか？\n",
       "15181   0.570124  japanese                                  若松城の中を見学することはできる？\n",
       "14551   0.545060   finnish                        Voiko työnjohtoa opiskella?\n",
       "11620   0.544570    arabic  هل تدرس باكلوريوس الرياضة في ‫جَامِعَةُ العُلو...\n",
       "1999    0.540544    korean                                  북학파를 중상학파라고도 하나요?\n",
       "8757    0.538410   finnish     Onko Hesekielin temppeli historiallinen kohde?\n",
       "28      0.537090   finnish              Voiko Oulussa opiskella lakimieheksi?\n",
       "4108    0.527801   swahili         Dodoma iko na ukubwa gani ya kijiographia?"
      ]
     },
     "execution_count": 312,
     "metadata": {},
     "output_type": "execute_result"
    }
   ],
   "source": [
    "print(\"Similarities for Sentence : \" + df_val.iloc[sen_comp].question_text)\n",
    "sim_sen[{'question_text','sim_score','language'}].sort_values('sim_score', ascending=False)[0:10]"
   ]
  },
  {
   "cell_type": "markdown",
   "metadata": {},
   "source": [
    "The above sentences show a variety of languages the first line is the chosen"
   ]
  },
  {
   "cell_type": "markdown",
   "metadata": {},
   "source": [
    "#### Similarity of First 100 Sentences\n",
    "\n",
    "We can generate a matrix to store the cosine similarities between each sentence in our embeddings.<br>\n",
    "This can be an interesting way to view the variation across our dataset at a quick glance by using a heatmap.<br>\n",
    "A heatmap with a very `light` overall colour would indicate that much our data is very similar in nature whereas a `dark` coloured heatmap would indicate that our samples are semantically very far apart.<br><br>\n",
    "Plotting the first 100 values as a heatmap will give a snapshot of the variety that the dataset has. A darker overall colour with strong variance indicates a useful dataset where many sentences are semantically different with some having similar semantic meaning."
   ]
  },
  {
   "cell_type": "code",
   "execution_count": 313,
   "metadata": {},
   "outputs": [
    {
     "data": {
      "image/png": "[encoded data removed]",
      "text/plain": [
       "<Figure size 1440x1008 with 2 Axes>"
      ]
     },
     "metadata": {
      "needs_background": "light"
     },
     "output_type": "display_data"
    }
   ],
   "source": [
    "import matplotlib.pyplot as plt\n",
    "import seaborn as sns\n",
    "\n",
    "# Plot HeatMap\n",
    "def plot_heatmap():\n",
    "  # Plot heatmap for the first 100 sentences\n",
    "  mask = np.zeros_like(sim_mat[:100, :100])\n",
    "  mask[np.triu_indices_from(mask)] = True\n",
    "  fig, ax = plt.subplots(figsize=(20,14)) \n",
    "  ax = sns.heatmap(sim_mat[:100, :100],mask=mask)\n",
    "\n",
    "  ax.axes.set_title(f\"Similarity matrix for the first 100 in the dataset\",)\n",
    "\n",
    "plot_heatmap()"
   ]
  },
  {
   "cell_type": "markdown",
   "metadata": {},
   "source": [
    "### Exploring Specific Topics\n",
    "We can check if we have sentences related to specific topics by formulating sentences in English and searching for semantically similar sentences.<br><br>\n",
    "To do this I will need to make up some questions so that I can check for semantic similarity.\n",
    "I will use the following questions and note my expectations:\n",
    "- 'Who was the actor in'    | Questions related to Movies or Cinema\n",
    "- 'How tall is Mt. Fuji'    | Questions related to size, mountains or geographic features\n",
    "\n",
    "K-nearest neighbour can be used to find the nearest related questions to each question. <br>"
   ]
  },
  {
   "cell_type": "code",
   "execution_count": 344,
   "metadata": {},
   "outputs": [],
   "source": [
    "t_questions = [\"who was the actor in\",\"How tall is Mt. Fuji\"]\n",
    "questions = model.encode(t_questions)"
   ]
  },
  {
   "cell_type": "code",
   "execution_count": 345,
   "metadata": {},
   "outputs": [],
   "source": [
    "# Take new string outside of dataset and construct similarity scores for given sentence\n",
    "def compare_new_sen(new_sen):\n",
    "  # Replicate embedding for input string \n",
    "  m = np.array([new_sen,]*len(df_val))\n",
    "  emb_sim = cosine_similarity(new_sen.reshape(1,-1),embed_mat)\n",
    "  #write sim score\n",
    "  return emb_sim[0]\n",
    "\n",
    "for i in range(0,len(questions)):\n",
    "  df_val['sim_score_{}'.format(i)] = compare_new_sen(questions[i])"
   ]
  },
  {
   "cell_type": "code",
   "execution_count": 346,
   "metadata": {},
   "outputs": [
    {
     "name": "stdout",
     "output_type": "stream",
     "text": [
      "Similarities for Sentence : who was the actor in\n"
     ]
    },
    {
     "data": {
      "text/html": [
       "<div>\n",
       "<style scoped>\n",
       "    .dataframe tbody tr th:only-of-type {\n",
       "        vertical-align: middle;\n",
       "    }\n",
       "\n",
       "    .dataframe tbody tr th {\n",
       "        vertical-align: top;\n",
       "    }\n",
       "\n",
       "    .dataframe thead th {\n",
       "        text-align: right;\n",
       "    }\n",
       "</style>\n",
       "<table border=\"1\" class=\"dataframe\">\n",
       "  <thead>\n",
       "    <tr style=\"text-align: right;\">\n",
       "      <th></th>\n",
       "      <th>language</th>\n",
       "      <th>sim_score_0</th>\n",
       "      <th>question_text</th>\n",
       "    </tr>\n",
       "  </thead>\n",
       "  <tbody>\n",
       "    <tr>\n",
       "      <th>10788</th>\n",
       "      <td>indonesian</td>\n",
       "      <td>0.685325</td>\n",
       "      <td>siapakah sutradara film merantau?</td>\n",
       "    </tr>\n",
       "    <tr>\n",
       "      <th>10681</th>\n",
       "      <td>thai</td>\n",
       "      <td>0.660988</td>\n",
       "      <td>ใครเป็นผู้แสดงนำในเรื่อง มาสค์ไรเดอร์ไฟซ์?</td>\n",
       "    </tr>\n",
       "    <tr>\n",
       "      <th>1959</th>\n",
       "      <td>indonesian</td>\n",
       "      <td>0.646660</td>\n",
       "      <td>Siapa pemeran utama film Fences ?</td>\n",
       "    </tr>\n",
       "    <tr>\n",
       "      <th>15085</th>\n",
       "      <td>indonesian</td>\n",
       "      <td>0.631803</td>\n",
       "      <td>Siapakah karakter utama dalam film Fiksi ?</td>\n",
       "    </tr>\n",
       "    <tr>\n",
       "      <th>2654</th>\n",
       "      <td>indonesian</td>\n",
       "      <td>0.631241</td>\n",
       "      <td>Siapakah yang menjadi tokoh utama dalam film I...</td>\n",
       "    </tr>\n",
       "  </tbody>\n",
       "</table>\n",
       "</div>"
      ],
      "text/plain": [
       "         language  sim_score_0  \\\n",
       "10788  indonesian     0.685325   \n",
       "10681        thai     0.660988   \n",
       "1959   indonesian     0.646660   \n",
       "15085  indonesian     0.631803   \n",
       "2654   indonesian     0.631241   \n",
       "\n",
       "                                           question_text  \n",
       "10788                  siapakah sutradara film merantau?  \n",
       "10681         ใครเป็นผู้แสดงนำในเรื่อง มาสค์ไรเดอร์ไฟซ์?  \n",
       "1959                   Siapa pemeran utama film Fences ?  \n",
       "15085         Siapakah karakter utama dalam film Fiksi ?  \n",
       "2654   Siapakah yang menjadi tokoh utama dalam film I...  "
      ]
     },
     "metadata": {},
     "output_type": "display_data"
    },
    {
     "name": "stdout",
     "output_type": "stream",
     "text": [
      "Similarities for Sentence : How tall is Mt. Fuji\n"
     ]
    },
    {
     "data": {
      "text/html": [
       "<div>\n",
       "<style scoped>\n",
       "    .dataframe tbody tr th:only-of-type {\n",
       "        vertical-align: middle;\n",
       "    }\n",
       "\n",
       "    .dataframe tbody tr th {\n",
       "        vertical-align: top;\n",
       "    }\n",
       "\n",
       "    .dataframe thead th {\n",
       "        text-align: right;\n",
       "    }\n",
       "</style>\n",
       "<table border=\"1\" class=\"dataframe\">\n",
       "  <thead>\n",
       "    <tr style=\"text-align: right;\">\n",
       "      <th></th>\n",
       "      <th>sim_score_1</th>\n",
       "      <th>language</th>\n",
       "      <th>question_text</th>\n",
       "    </tr>\n",
       "  </thead>\n",
       "  <tbody>\n",
       "    <tr>\n",
       "      <th>2940</th>\n",
       "      <td>0.652180</td>\n",
       "      <td>thai</td>\n",
       "      <td>ฟีลีปี โกชิญญู โกเรย์ยา สูงเท่าไหร่?</td>\n",
       "    </tr>\n",
       "    <tr>\n",
       "      <th>17445</th>\n",
       "      <td>0.642343</td>\n",
       "      <td>thai</td>\n",
       "      <td>มิยาโนะ ชิโฮะมีส่วนสูงเท่าไหร่?</td>\n",
       "    </tr>\n",
       "    <tr>\n",
       "      <th>7419</th>\n",
       "      <td>0.581660</td>\n",
       "      <td>indonesian</td>\n",
       "      <td>berapakah tinggi  Dipati Ukur?</td>\n",
       "    </tr>\n",
       "    <tr>\n",
       "      <th>15816</th>\n",
       "      <td>0.571216</td>\n",
       "      <td>thai</td>\n",
       "      <td>จีนา คาราโน มีส่วนสูงเท่าไหร่?</td>\n",
       "    </tr>\n",
       "    <tr>\n",
       "      <th>17763</th>\n",
       "      <td>0.566383</td>\n",
       "      <td>japanese</td>\n",
       "      <td>シュテフィ・グラフの身長は？</td>\n",
       "    </tr>\n",
       "  </tbody>\n",
       "</table>\n",
       "</div>"
      ],
      "text/plain": [
       "       sim_score_1    language                         question_text\n",
       "2940      0.652180        thai  ฟีลีปี โกชิญญู โกเรย์ยา สูงเท่าไหร่?\n",
       "17445     0.642343        thai       มิยาโนะ ชิโฮะมีส่วนสูงเท่าไหร่?\n",
       "7419      0.581660  indonesian        berapakah tinggi  Dipati Ukur?\n",
       "15816     0.571216        thai        จีนา คาราโน มีส่วนสูงเท่าไหร่?\n",
       "17763     0.566383    japanese                        シュテフィ・グラフの身長は？"
      ]
     },
     "metadata": {},
     "output_type": "display_data"
    }
   ],
   "source": [
    "for i in range(0,len(questions)):  \n",
    "  print(\"Similarities for Sentence : \" + t_questions[i])\n",
    "  display(df_val[{'question_text','sim_score_{}'.format(i),'language'}].sort_values('sim_score_{}'.format(i), ascending=False)[0:5])"
   ]
  },
  {
   "cell_type": "markdown",
   "metadata": {},
   "source": []
  },
  {
   "cell_type": "markdown",
   "metadata": {},
   "source": [
    "## Topic Modelling:"
   ]
  },
  {
   "cell_type": "markdown",
   "metadata": {},
   "source": []
  }
 ],
 "metadata": {
  "kernelspec": {
   "display_name": "Python 3.8.12 64-bit ('3.8.12')",
   "language": "python",
   "name": "python3"
  },
  "language_info": {
   "codemirror_mode": {
    "name": "ipython",
    "version": 3
   },
   "file_extension": ".py",
   "mimetype": "text/x-python",
   "name": "python",
   "nbconvert_exporter": "python",
   "pygments_lexer": "ipython3",
   "version": "3.8.12"
  },
  "orig_nbformat": 4,
  "vscode": {
   "interpreter": {
    "hash": "a678f92b11b0cdfffc6334f5c4b8d213737878ded07f1a6ebc7b8f8950f72291"
   }
  }
 },
 "nbformat": 4,
 "nbformat_minor": 2
}
