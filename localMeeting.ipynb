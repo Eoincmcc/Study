{
 "cells": [
  {
   "cell_type": "markdown",
   "id": "252c330c-8a7a-4c5b-bc05-1cbfc33c9d59",
   "metadata": {},
   "source": [
    "# Local Meeting updates and tracking"
   ]
  },
  {
   "cell_type": "markdown",
   "id": "a3546b81-1f44-4d2c-9345-3998ae2a8ebf",
   "metadata": {},
   "source": [
    "## 17 November\n",
    "- Tokyo exam application opens tomorrow\n",
    "    - Filling out documents\n",
    "        - Print and send documents\n",
    "        - Re-submit toefl score        \n",
    "    - In-progress: Re-writing research proposal\n",
    "\n",
    "### Share some introductory information on Conversational QA\n",
    "- CoQA: Conversational QA Challenge / Benchmark\n",
    "    - Leaderboard @https://stanfordnlp.github.io/coqa/\n",
    "    - 517 Citations highly influential \n",
    "- Open-Retrieval Conversational QA\n",
    "    - 4 key points of QA\n",
    "        - Open-Retrieval\n",
    "        - Conversational\n",
    "        - Information Seeking\n",
    "        - Genuine Information Needs\n",
    "- Can You Unpack That? Learning to Rewrite Questions-in-Context:\n",
    "    - Rewriting Questions may be a fundamental part of conversational QA:\n",
    "        - Essentially priming the QA system with relevant knowledge?\n",
    "    - example: \"What happened in 1983?\" -> \"What happened to Anna Vissi in 1983?\"\n",
    "- Open-Domain Question Answering Goes Conversational via Question Rewriting\n",
    "    - Paper exploring extending QA systems using Question Re-writing\n",
    "    - Extending this for multilingual QA\n",
    "        - How would this work with words in topologically different languages with OOV words? \n"
   ]
  },
  {
   "cell_type": "markdown",
   "id": "e18706e6-efba-4332-85c9-5bfc6d6fe85a",
   "metadata": {},
   "source": [
    "![title](ConversationalConcept.png)"
   ]
  },
  {
   "cell_type": "markdown",
   "id": "ea4a6340-827d-4d39-bc07-b74f55f3de40",
   "metadata": {},
   "source": [
    "## For Next Meeting\n",
    "\n",
    "ToDo:\n",
    "- Finish Research Proposal\n",
    "- Dec 10th Proposal Presentation."
   ]
  },
  {
   "cell_type": "code",
   "execution_count": 1,
   "id": "a535631a-43f5-4550-9ec5-a94d66627d8b",
   "metadata": {},
   "outputs": [
    {
     "name": "stdout",
     "output_type": "stream",
     "text": [
      "/Users/johncmcc/.pyenv/shims/pip\n"
     ]
    }
   ],
   "source": [
    "!which pip"
   ]
  },
  {
   "cell_type": "code",
   "execution_count": 4,
   "id": "570c862a-f5dc-43d8-9c70-1ad2e9ba369c",
   "metadata": {},
   "outputs": [
    {
     "name": "stdout",
     "output_type": "stream",
     "text": [
      "Package                 Version\n",
      "----------------------- -----------\n",
      "anyio                   3.3.3\n",
      "appnope                 0.1.2\n",
      "argon2-cffi             21.1.0\n",
      "attrs                   21.2.0\n",
      "Babel                   2.9.1\n",
      "backcall                0.2.0\n",
      "bleach                  4.1.0\n",
      "blis                    0.7.4\n",
      "bokeh                   2.4.1\n",
      "catalogue               2.0.6\n",
      "certifi                 2021.10.8\n",
      "cffi                    1.15.0\n",
      "charset-normalizer      2.0.7\n",
      "click                   8.0.3\n",
      "cycler                  0.10.0\n",
      "cymem                   2.0.5\n",
      "debugpy                 1.5.0\n",
      "decorator               5.1.0\n",
      "defusedxml              0.7.1\n",
      "entrypoints             0.3\n",
      "faiss-cpu               1.7.1.post2\n",
      "filelock                3.3.0\n",
      "idna                    3.3\n",
      "ipykernel               6.4.1\n",
      "ipython                 7.28.0\n",
      "ipython-genutils        0.2.0\n",
      "ipywidgets              7.6.5\n",
      "jedi                    0.18.0\n",
      "Jinja2                  3.0.2\n",
      "joblib                  1.1.0\n",
      "json5                   0.9.6\n",
      "jsonlines               2.0.0\n",
      "jsonschema              4.1.0\n",
      "jupyter-bokeh           3.0.4\n",
      "jupyter-client          7.0.6\n",
      "jupyter-core            4.8.1\n",
      "jupyter-server          1.11.1\n",
      "jupyterlab              3.2.0\n",
      "jupyterlab-pygments     0.1.2\n",
      "jupyterlab-server       2.8.2\n",
      "jupyterlab-spellchecker 0.7.2\n",
      "jupyterlab-widgets      1.0.2\n",
      "kiwisolver              1.3.2\n",
      "MarkupSafe              2.0.1\n",
      "matplotlib              3.4.3\n",
      "matplotlib-inline       0.1.3\n",
      "mistune                 0.8.4\n",
      "mpmath                  1.2.1\n",
      "murmurhash              1.0.5\n",
      "nbclassic               0.3.2\n",
      "nbclient                0.5.4\n",
      "nbconvert               6.2.0\n",
      "nbformat                5.1.3\n",
      "nest-asyncio            1.5.1\n",
      "notebook                6.4.4\n",
      "numpy                   1.21.2\n",
      "packaging               21.0\n",
      "pandas                  1.3.3\n",
      "pandocfilters           1.5.0\n",
      "parso                   0.8.2\n",
      "pathy                   0.6.0\n",
      "pexpect                 4.8.0\n",
      "pickleshare             0.7.5\n",
      "Pillow                  8.3.2\n",
      "pip                     21.3.1\n",
      "preshed                 3.0.5\n",
      "prometheus-client       0.11.0\n",
      "prompt-toolkit          3.0.20\n",
      "ptyprocess              0.7.0\n",
      "pycparser               2.20\n",
      "pydantic                1.8.2\n",
      "Pygments                2.10.0\n",
      "pyparsing               2.4.7\n",
      "pyrsistent              0.18.0\n",
      "python-dateutil         2.8.2\n",
      "pytz                    2021.3\n",
      "PyYAML                  6.0\n",
      "pyzmq                   22.3.0\n",
      "regex                   2021.10.8\n",
      "requests                2.26.0\n",
      "requests-unixsocket     0.2.0\n",
      "sacremoses              0.0.46\n",
      "scikit-learn            1.0\n",
      "scipy                   1.7.1\n",
      "seaborn                 0.11.2\n",
      "Send2Trash              1.8.0\n",
      "setuptools              56.0.0\n",
      "six                     1.16.0\n",
      "smart-open              5.2.1\n",
      "sniffio                 1.2.0\n",
      "spacy                   3.1.3\n",
      "spacy-legacy            3.0.8\n",
      "srsly                   2.4.1\n",
      "sympy                   1.9\n",
      "terminado               0.12.1\n",
      "testpath                0.5.0\n",
      "thinc                   8.0.10\n",
      "threadpoolctl           3.0.0\n",
      "tokenizers              0.9.4\n",
      "torch                   1.9.1\n",
      "torchaudio              0.9.1\n",
      "torchvision             0.10.1\n",
      "tornado                 6.1\n",
      "tqdm                    4.62.3\n",
      "traitlets               5.1.0\n",
      "transformers            4.2.1\n",
      "typer                   0.4.0\n",
      "typing-extensions       3.10.0.2\n",
      "urllib3                 1.26.7\n",
      "wasabi                  0.8.2\n",
      "wcwidth                 0.2.5\n",
      "webencodings            0.5.1\n",
      "websocket-client        1.2.1\n",
      "widgetsnbextension      3.5.1\n"
     ]
    }
   ],
   "source": [
    "!pip list"
   ]
  },
  {
   "cell_type": "code",
   "execution_count": null,
   "id": "7f379564-f93b-4123-b283-0e4f4f67a7d9",
   "metadata": {},
   "outputs": [],
   "source": []
  }
 ],
 "metadata": {
  "kernelspec": {
   "display_name": "Python 3 (ipykernel)",
   "language": "python",
   "name": "python3"
  },
  "language_info": {
   "codemirror_mode": {
    "name": "ipython",
    "version": 3
   },
   "file_extension": ".py",
   "mimetype": "text/x-python",
   "name": "python",
   "nbconvert_exporter": "python",
   "pygments_lexer": "ipython3",
   "version": "3.9.8"
  }
 },
 "nbformat": 4,
 "nbformat_minor": 5
}
