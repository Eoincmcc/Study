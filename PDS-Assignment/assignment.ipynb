{
 "cells": [
  {
   "cell_type": "markdown",
   "metadata": {
    "slideshow": {
     "slide_type": "slide"
    }
   },
   "source": [
    "# Practical Data Science Report\n",
    "### John 'Eoin' Cronin-McCartney\n",
    "\n",
    "Student no: 20221758\n",
    "\n"
   ]
  },
  {
   "cell_type": "markdown",
   "metadata": {
    "slideshow": {
     "slide_type": "slide"
    }
   },
   "source": [
    "## An exploration of QA Data with multiple languages\n",
    "\n",
    "I believe that Question-Answer systems designed to facilitate knowledge seeking should be able to retrieve across language barriers, users should not have to learn a new language before being able to pursue their professional, academic or personal information needs. In order to utilise information from languages we can train QA systems with multiple languages.\n",
    "My goal is to develop a system that can retrieve data cross-lingually [1] that is data which can answer questions posed in one language, language A, where the information is found in another, language B.\n",
    "Many available datasets are multi-lingual where there are multiple languages but all questions asked in language A are also answered in language A, language B in language B and so on. Multi-lingual datasets still provide a lot of use in training cross-lingual systems as they often contain data in low resource languages which are always in demand for training in multiple languages.\n",
    "\n",
    "In this assignment I explore a dataset, tydi QA [2] I have previously not worked with in order to understand its attributes and the possible utilities it can provide me when training a cross-lingual system."
   ]
  },
  {
   "cell_type": "markdown",
   "metadata": {},
   "source": []
  },
  {
   "cell_type": "code",
   "execution_count": 266,
   "metadata": {
    "slideshow": {
     "slide_type": "slide"
    }
   },
   "outputs": [],
   "source": [
    "import pandas as pd\n",
    "import matplotlib.pyplot as plt\n",
    "import seaborn as sns\n",
    "import numpy as np\n",
    "import re\n",
    "from datasets import load_dataset\n",
    "from iso639 import languages\n",
    "%matplotlib inline"
   ]
  },
  {
   "cell_type": "markdown",
   "metadata": {
    "slideshow": {
     "slide_type": "slide"
    }
   },
   "source": [
    "#### Using HuggingFace library\n",
    "\n",
    "HugginFace Datasets [3] is a library for easily accessing and sharing datasets, and evaluation metrics for Natural Language Processing (NLP), computer vision, and audio tasks.\n",
    "I am using the library today as it is common for the library to employed in the development of Question Answering models and is easily compatible with the Pandas package which I am also using today."
   ]
  },
  {
   "cell_type": "code",
   "execution_count": 267,
   "metadata": {
    "slideshow": {
     "slide_type": "subslide"
    }
   },
   "outputs": [
    {
     "name": "stderr",
     "output_type": "stream",
     "text": [
      "Reusing dataset tydiqa (/Users/johncmcc/.cache/huggingface/datasets/tydiqa/primary_task/1.0.0/b8a6c4c0db10bf5703d7b36645e5dbae821b8c0e902dac9daeecd459a8337148)\n",
      "100%|██████████| 2/2 [00:00<00:00, 11.35it/s]\n"
     ]
    }
   ],
   "source": [
    "tydi_ds =  load_dataset('tydiqa','primary_task')"
   ]
  },
  {
   "cell_type": "markdown",
   "metadata": {},
   "source": [
    "### Exploring Data\n",
    "Pandas is an open source Python package widely used for data science and analysis and is commonly employed in machine learning tasks.<br>\n",
    "For the goal of understanding and exploring the selected dataset pandas offers a lot of advantages including:\n",
    "- Integration with Jupyter notebooks allows for single space for data manipulation and visualisation\n",
    "    - I do not need multiple programs running a database, visualisation tool and development environment\n",
    "- Taking full advantage of Python\n",
    "    - All available libraries and plugins that can be used in any python program can be used with pandas data\n",
    "- Powerful plotting tools using MatPlotLib"
   ]
  },
  {
   "cell_type": "code",
   "execution_count": 278,
   "metadata": {},
   "outputs": [
    {
     "data": {
      "text/html": [
       "<div>\n",
       "<style scoped>\n",
       "    .dataframe tbody tr th:only-of-type {\n",
       "        vertical-align: middle;\n",
       "    }\n",
       "\n",
       "    .dataframe tbody tr th {\n",
       "        vertical-align: top;\n",
       "    }\n",
       "\n",
       "    .dataframe thead th {\n",
       "        text-align: right;\n",
       "    }\n",
       "</style>\n",
       "<table border=\"1\" class=\"dataframe\">\n",
       "  <thead>\n",
       "    <tr style=\"text-align: right;\">\n",
       "      <th></th>\n",
       "      <th>passage_answer_candidates</th>\n",
       "      <th>question_text</th>\n",
       "      <th>document_title</th>\n",
       "      <th>language</th>\n",
       "      <th>annotations</th>\n",
       "      <th>document_plaintext</th>\n",
       "      <th>document_url</th>\n",
       "    </tr>\n",
       "  </thead>\n",
       "  <tbody>\n",
       "    <tr>\n",
       "      <th>0</th>\n",
       "      <td>{'plaintext_start_byte': [1, 517, 1805, 2966, ...</td>\n",
       "      <td>หม่อมราชวงศ์สุขุมพันธุ์ บริพัตร เรียนจบจากที่ไ...</td>\n",
       "      <td>หม่อมราชวงศ์สุขุมพันธุ์ บริพัตร</td>\n",
       "      <td>thai</td>\n",
       "      <td>{'passage_answer_candidate_index': [-1, -1, -1...</td>\n",
       "      <td>\\nรองศาสตราจารย์[1] หม่อมราชวงศ์สุขุมพันธุ์ บร...</td>\n",
       "      <td>https://th.wikipedia.org/wiki/%E0%B8%AB%E0%B8%...</td>\n",
       "    </tr>\n",
       "    <tr>\n",
       "      <th>1</th>\n",
       "      <td>{'plaintext_start_byte': [1, 280, 468, 812], '...</td>\n",
       "      <td>Ukubwa wa Rijili Kantori ni kiasi gani?</td>\n",
       "      <td>Rijili Kantori</td>\n",
       "      <td>swahili</td>\n",
       "      <td>{'passage_answer_candidate_index': [-1, -1, -1...</td>\n",
       "      <td>\\nRijili Kantori , Rijili Kantarusi au ing. Al...</td>\n",
       "      <td>https://sw.wikipedia.org/wiki/Rijili%20Kantori</td>\n",
       "    </tr>\n",
       "    <tr>\n",
       "      <th>2</th>\n",
       "      <td>{'plaintext_start_byte': [1, 1124, 2274, 2571,...</td>\n",
       "      <td>అలి గౌహర్ ఎన్ని సంవత్సరాలు జీవించాడు?</td>\n",
       "      <td>అహమ్మద్ షా బహదూర్</td>\n",
       "      <td>telugu</td>\n",
       "      <td>{'passage_answer_candidate_index': [27, -1, -1...</td>\n",
       "      <td>\\nఅహమ్మద్ షా బహదూర్, మిర్జా అహమ్మద్ షా, షహన్‌ష...</td>\n",
       "      <td>https://te.wikipedia.org/wiki/%E0%B0%85%E0%B0%...</td>\n",
       "    </tr>\n",
       "    <tr>\n",
       "      <th>3</th>\n",
       "      <td>{'plaintext_start_byte': [0, 351, 553, 1244, 1...</td>\n",
       "      <td>Milloin Kokemäki on perustettu?</td>\n",
       "      <td>Kokemäki</td>\n",
       "      <td>finnish</td>\n",
       "      <td>{'passage_answer_candidate_index': [-1, 16, -1...</td>\n",
       "      <td>\\nKokemäki () on Suomen kaupunki, joka sijaits...</td>\n",
       "      <td>https://fi.wikipedia.org/wiki/Kokem%C3%A4ki</td>\n",
       "    </tr>\n",
       "    <tr>\n",
       "      <th>4</th>\n",
       "      <td>{'plaintext_start_byte': [1, 1091, 2520, 3062,...</td>\n",
       "      <td>১৯৮১ সালে বাংলাদেশের সেনাবাহিনীর সেনাপ্রধান কে...</td>\n",
       "      <td>হুসেইন মুহাম্মদ এরশাদ</td>\n",
       "      <td>bengali</td>\n",
       "      <td>{'passage_answer_candidate_index': [-1, -1, -1...</td>\n",
       "      <td>\\nহুসেইন মুহাম্মদ এরশাদ (ফেব্রুয়ারি ১, ১৯৩০) ...</td>\n",
       "      <td>https://bn.wikipedia.org/wiki/%E0%A6%B9%E0%A7%...</td>\n",
       "    </tr>\n",
       "  </tbody>\n",
       "</table>\n",
       "</div>"
      ],
      "text/plain": [
       "                           passage_answer_candidates  \\\n",
       "0  {'plaintext_start_byte': [1, 517, 1805, 2966, ...   \n",
       "1  {'plaintext_start_byte': [1, 280, 468, 812], '...   \n",
       "2  {'plaintext_start_byte': [1, 1124, 2274, 2571,...   \n",
       "3  {'plaintext_start_byte': [0, 351, 553, 1244, 1...   \n",
       "4  {'plaintext_start_byte': [1, 1091, 2520, 3062,...   \n",
       "\n",
       "                                       question_text  \\\n",
       "0  หม่อมราชวงศ์สุขุมพันธุ์ บริพัตร เรียนจบจากที่ไ...   \n",
       "1            Ukubwa wa Rijili Kantori ni kiasi gani?   \n",
       "2              అలి గౌహర్ ఎన్ని సంవత్సరాలు జీవించాడు?   \n",
       "3                    Milloin Kokemäki on perustettu?   \n",
       "4  ১৯৮১ সালে বাংলাদেশের সেনাবাহিনীর সেনাপ্রধান কে...   \n",
       "\n",
       "                    document_title language  \\\n",
       "0  หม่อมราชวงศ์สุขุมพันธุ์ บริพัตร     thai   \n",
       "1                   Rijili Kantori  swahili   \n",
       "2                అహమ్మద్ షా బహదూర్   telugu   \n",
       "3                         Kokemäki  finnish   \n",
       "4            হুসেইন মুহাম্মদ এরশাদ  bengali   \n",
       "\n",
       "                                         annotations  \\\n",
       "0  {'passage_answer_candidate_index': [-1, -1, -1...   \n",
       "1  {'passage_answer_candidate_index': [-1, -1, -1...   \n",
       "2  {'passage_answer_candidate_index': [27, -1, -1...   \n",
       "3  {'passage_answer_candidate_index': [-1, 16, -1...   \n",
       "4  {'passage_answer_candidate_index': [-1, -1, -1...   \n",
       "\n",
       "                                  document_plaintext  \\\n",
       "0  \\nรองศาสตราจารย์[1] หม่อมราชวงศ์สุขุมพันธุ์ บร...   \n",
       "1  \\nRijili Kantori , Rijili Kantarusi au ing. Al...   \n",
       "2  \\nఅహమ్మద్ షా బహదూర్, మిర్జా అహమ్మద్ షా, షహన్‌ష...   \n",
       "3  \\nKokemäki () on Suomen kaupunki, joka sijaits...   \n",
       "4  \\nহুসেইন মুহাম্মদ এরশাদ (ফেব্রুয়ারি ১, ১৯৩০) ...   \n",
       "\n",
       "                                        document_url  \n",
       "0  https://th.wikipedia.org/wiki/%E0%B8%AB%E0%B8%...  \n",
       "1     https://sw.wikipedia.org/wiki/Rijili%20Kantori  \n",
       "2  https://te.wikipedia.org/wiki/%E0%B0%85%E0%B0%...  \n",
       "3        https://fi.wikipedia.org/wiki/Kokem%C3%A4ki  \n",
       "4  https://bn.wikipedia.org/wiki/%E0%A6%B9%E0%A7%...  "
      ]
     },
     "execution_count": 278,
     "metadata": {},
     "output_type": "execute_result"
    }
   ],
   "source": [
    "df_val = tydi_ds['validation'].to_pandas()\n",
    "df_val.head()"
   ]
  },
  {
   "cell_type": "code",
   "execution_count": 279,
   "metadata": {},
   "outputs": [
    {
     "name": "stdout",
     "output_type": "stream",
     "text": [
      "130690\n",
      "passage_answer_candidates    object\n",
      "question_text                object\n",
      "document_title               object\n",
      "language                     object\n",
      "annotations                  object\n",
      "document_plaintext           object\n",
      "document_url                 object\n",
      "dtype: object\n"
     ]
    }
   ],
   "source": [
    "print(df_val.size)\n",
    "print(df_val.dtypes)"
   ]
  },
  {
   "cell_type": "markdown",
   "metadata": {},
   "source": [
    "Our dataset contains no numeric values so the object format correctly identifies all of our columns as strings or as objects in the case of `passage_answer_candidates` and `annotations`"
   ]
  },
  {
   "cell_type": "markdown",
   "metadata": {},
   "source": [
    "### Checking for question - answer language parity\n",
    "\n",
    "There are a number of different methodologies in creating multilingual QA datasets, in some datasets we see questions asked in one language where the answer is given in another language.\n",
    "Below we can see that the first question has a corresponding answer in a wikipedia edition of the same language."
   ]
  },
  {
   "cell_type": "code",
   "execution_count": 280,
   "metadata": {},
   "outputs": [
    {
     "data": {
      "text/html": [
       "<div>\n",
       "<style scoped>\n",
       "    .dataframe tbody tr th:only-of-type {\n",
       "        vertical-align: middle;\n",
       "    }\n",
       "\n",
       "    .dataframe tbody tr th {\n",
       "        vertical-align: top;\n",
       "    }\n",
       "\n",
       "    .dataframe thead th {\n",
       "        text-align: right;\n",
       "    }\n",
       "</style>\n",
       "<table border=\"1\" class=\"dataframe\">\n",
       "  <thead>\n",
       "    <tr style=\"text-align: right;\">\n",
       "      <th></th>\n",
       "      <th>language</th>\n",
       "      <th>document_url</th>\n",
       "    </tr>\n",
       "  </thead>\n",
       "  <tbody>\n",
       "    <tr>\n",
       "      <th>0</th>\n",
       "      <td>thai</td>\n",
       "      <td>https://th.wikipedia.org/wiki/%E0%B8%AB%E0%B8%...</td>\n",
       "    </tr>\n",
       "  </tbody>\n",
       "</table>\n",
       "</div>"
      ],
      "text/plain": [
       "  language                                       document_url\n",
       "0     thai  https://th.wikipedia.org/wiki/%E0%B8%AB%E0%B8%..."
      ]
     },
     "execution_count": 280,
     "metadata": {},
     "output_type": "execute_result"
    }
   ],
   "source": [
    "df_val.loc[0:0,['language','document_url']]"
   ]
  },
  {
   "cell_type": "markdown",
   "metadata": {},
   "source": [
    "The language of the first question in the training data is Thai, the Wikipedia URL where the answer is found contains 'th' this is an `iso-639-1` code[4] this particular code tells us that the language of the wikipedia edition is also Thai.\n",
    "\n",
    "To explore all questions in the dataset we could manually check that all URLs contain the correct iso-639-1 code but it is much more efficient to use the tools available to us in pandas to generate a simple comparison table."
   ]
  },
  {
   "cell_type": "markdown",
   "metadata": {},
   "source": [
    "#### Using regex to confirm URL uniformity\n",
    "We can check to make sure that all URLs in our data are uniform in nature, this is essential as if some of the URLS do not contain the iso code then there will be errors when comparing the question and answer language origins.<br><br>\n",
    "Regular expressions with a negated predicate can be used to return all non-matching URLs.<br>\n",
    "The regular expression matches strings which:\n",
    "- Start with the `https` protocol\n",
    "- Followed by a 2 character subdomain (the iso code)\n",
    "- Complete the standard section of the Wikipedia URL"
   ]
  },
  {
   "cell_type": "code",
   "execution_count": 281,
   "metadata": {},
   "outputs": [
    {
     "name": "stdout",
     "output_type": "stream",
     "text": [
      "Non-matching URLs =  0\n"
     ]
    }
   ],
   "source": [
    "# Check that all urls follow the same pattern\n",
    "# Returns a dataframe of all URLs which do not match the following regular expression, expect size of frame to be 0 when all URLs match our regex\n",
    "print('Non-matching URLs = ', df_val[~df_val['document_url'].str.contains('https:\\/\\/[A-Za-z]{2}\\.wikipedia.org')].size)"
   ]
  },
  {
   "cell_type": "markdown",
   "metadata": {},
   "source": [
    "#### Converting a URL to a country name\n",
    "We now know that the URLs in question are all uniform in format.<br>\n",
    "All URLs will have an iso-639-1 code and by employing a python library we can convert these iso codes to a comparable format as the language field of our dataset.\n",
    "\n",
    "We design a function to perform:\n",
    "- Assign characters 9 and 10 of URL as country code\n",
    "- Use iso639 to convert code to language\n",
    "- Format the language to remove the any superfluous information and convert to lower case\n",
    "    - e.g. 'Swahili macrolanguage' is converted to 'swahili'"
   ]
  },
  {
   "cell_type": "code",
   "execution_count": 282,
   "metadata": {},
   "outputs": [],
   "source": [
    "# Extract the URLS to have only the location code\n",
    "def get_ans_lang(url):    \n",
    "    country_code = url[8:10]    \n",
    "    language_full = languages.get(alpha2=country_code).name    \n",
    "    l_formatted = str(language_full).split()[0].lower()\n",
    "    return l_formatted"
   ]
  },
  {
   "cell_type": "markdown",
   "metadata": {},
   "source": [
    "Test using the first URL we see the conversion to the correct language in the correct format"
   ]
  },
  {
   "cell_type": "code",
   "execution_count": 283,
   "metadata": {},
   "outputs": [
    {
     "name": "stdout",
     "output_type": "stream",
     "text": [
      "https://th.wikipedia.org/wiki/%E0%B...\n",
      "The Answer langauge is: thai\n"
     ]
    }
   ],
   "source": [
    "print(df_val.document_url[0][:35]+\"...\")\n",
    "print(\"The Answer langauge is:\", get_ans_lang(df_val.document_url[0]))"
   ]
  },
  {
   "cell_type": "markdown",
   "metadata": {},
   "source": [
    "#### Creating a new column to contain the answer\n",
    "With a reusable function to convert URLs to languages we can now apply this to the entire document_url column and insert a new column to our dataframe."
   ]
  },
  {
   "cell_type": "code",
   "execution_count": 284,
   "metadata": {},
   "outputs": [
    {
     "data": {
      "text/html": [
       "<div>\n",
       "<style scoped>\n",
       "    .dataframe tbody tr th:only-of-type {\n",
       "        vertical-align: middle;\n",
       "    }\n",
       "\n",
       "    .dataframe tbody tr th {\n",
       "        vertical-align: top;\n",
       "    }\n",
       "\n",
       "    .dataframe thead th {\n",
       "        text-align: right;\n",
       "    }\n",
       "</style>\n",
       "<table border=\"1\" class=\"dataframe\">\n",
       "  <thead>\n",
       "    <tr style=\"text-align: right;\">\n",
       "      <th></th>\n",
       "      <th>passage_answer_candidates</th>\n",
       "      <th>question_text</th>\n",
       "      <th>document_title</th>\n",
       "      <th>language</th>\n",
       "      <th>annotations</th>\n",
       "      <th>document_plaintext</th>\n",
       "      <th>answer_language</th>\n",
       "      <th>document_url</th>\n",
       "    </tr>\n",
       "  </thead>\n",
       "  <tbody>\n",
       "    <tr>\n",
       "      <th>0</th>\n",
       "      <td>{'plaintext_start_byte': [1, 517, 1805, 2966, ...</td>\n",
       "      <td>หม่อมราชวงศ์สุขุมพันธุ์ บริพัตร เรียนจบจากที่ไ...</td>\n",
       "      <td>หม่อมราชวงศ์สุขุมพันธุ์ บริพัตร</td>\n",
       "      <td>thai</td>\n",
       "      <td>{'passage_answer_candidate_index': [-1, -1, -1...</td>\n",
       "      <td>\\nรองศาสตราจารย์[1] หม่อมราชวงศ์สุขุมพันธุ์ บร...</td>\n",
       "      <td>thai</td>\n",
       "      <td>https://th.wikipedia.org/wiki/%E0%B8%AB%E0%B8%...</td>\n",
       "    </tr>\n",
       "    <tr>\n",
       "      <th>1</th>\n",
       "      <td>{'plaintext_start_byte': [1, 280, 468, 812], '...</td>\n",
       "      <td>Ukubwa wa Rijili Kantori ni kiasi gani?</td>\n",
       "      <td>Rijili Kantori</td>\n",
       "      <td>swahili</td>\n",
       "      <td>{'passage_answer_candidate_index': [-1, -1, -1...</td>\n",
       "      <td>\\nRijili Kantori , Rijili Kantarusi au ing. Al...</td>\n",
       "      <td>swahili</td>\n",
       "      <td>https://sw.wikipedia.org/wiki/Rijili%20Kantori</td>\n",
       "    </tr>\n",
       "    <tr>\n",
       "      <th>2</th>\n",
       "      <td>{'plaintext_start_byte': [1, 1124, 2274, 2571,...</td>\n",
       "      <td>అలి గౌహర్ ఎన్ని సంవత్సరాలు జీవించాడు?</td>\n",
       "      <td>అహమ్మద్ షా బహదూర్</td>\n",
       "      <td>telugu</td>\n",
       "      <td>{'passage_answer_candidate_index': [27, -1, -1...</td>\n",
       "      <td>\\nఅహమ్మద్ షా బహదూర్, మిర్జా అహమ్మద్ షా, షహన్‌ష...</td>\n",
       "      <td>telugu</td>\n",
       "      <td>https://te.wikipedia.org/wiki/%E0%B0%85%E0%B0%...</td>\n",
       "    </tr>\n",
       "    <tr>\n",
       "      <th>3</th>\n",
       "      <td>{'plaintext_start_byte': [0, 351, 553, 1244, 1...</td>\n",
       "      <td>Milloin Kokemäki on perustettu?</td>\n",
       "      <td>Kokemäki</td>\n",
       "      <td>finnish</td>\n",
       "      <td>{'passage_answer_candidate_index': [-1, 16, -1...</td>\n",
       "      <td>\\nKokemäki () on Suomen kaupunki, joka sijaits...</td>\n",
       "      <td>finnish</td>\n",
       "      <td>https://fi.wikipedia.org/wiki/Kokem%C3%A4ki</td>\n",
       "    </tr>\n",
       "    <tr>\n",
       "      <th>4</th>\n",
       "      <td>{'plaintext_start_byte': [1, 1091, 2520, 3062,...</td>\n",
       "      <td>১৯৮১ সালে বাংলাদেশের সেনাবাহিনীর সেনাপ্রধান কে...</td>\n",
       "      <td>হুসেইন মুহাম্মদ এরশাদ</td>\n",
       "      <td>bengali</td>\n",
       "      <td>{'passage_answer_candidate_index': [-1, -1, -1...</td>\n",
       "      <td>\\nহুসেইন মুহাম্মদ এরশাদ (ফেব্রুয়ারি ১, ১৯৩০) ...</td>\n",
       "      <td>bengali</td>\n",
       "      <td>https://bn.wikipedia.org/wiki/%E0%A6%B9%E0%A7%...</td>\n",
       "    </tr>\n",
       "  </tbody>\n",
       "</table>\n",
       "</div>"
      ],
      "text/plain": [
       "                           passage_answer_candidates  \\\n",
       "0  {'plaintext_start_byte': [1, 517, 1805, 2966, ...   \n",
       "1  {'plaintext_start_byte': [1, 280, 468, 812], '...   \n",
       "2  {'plaintext_start_byte': [1, 1124, 2274, 2571,...   \n",
       "3  {'plaintext_start_byte': [0, 351, 553, 1244, 1...   \n",
       "4  {'plaintext_start_byte': [1, 1091, 2520, 3062,...   \n",
       "\n",
       "                                       question_text  \\\n",
       "0  หม่อมราชวงศ์สุขุมพันธุ์ บริพัตร เรียนจบจากที่ไ...   \n",
       "1            Ukubwa wa Rijili Kantori ni kiasi gani?   \n",
       "2              అలి గౌహర్ ఎన్ని సంవత్సరాలు జీవించాడు?   \n",
       "3                    Milloin Kokemäki on perustettu?   \n",
       "4  ১৯৮১ সালে বাংলাদেশের সেনাবাহিনীর সেনাপ্রধান কে...   \n",
       "\n",
       "                    document_title language  \\\n",
       "0  หม่อมราชวงศ์สุขุมพันธุ์ บริพัตร     thai   \n",
       "1                   Rijili Kantori  swahili   \n",
       "2                అహమ్మద్ షా బహదూర్   telugu   \n",
       "3                         Kokemäki  finnish   \n",
       "4            হুসেইন মুহাম্মদ এরশাদ  bengali   \n",
       "\n",
       "                                         annotations  \\\n",
       "0  {'passage_answer_candidate_index': [-1, -1, -1...   \n",
       "1  {'passage_answer_candidate_index': [-1, -1, -1...   \n",
       "2  {'passage_answer_candidate_index': [27, -1, -1...   \n",
       "3  {'passage_answer_candidate_index': [-1, 16, -1...   \n",
       "4  {'passage_answer_candidate_index': [-1, -1, -1...   \n",
       "\n",
       "                                  document_plaintext answer_language  \\\n",
       "0  \\nรองศาสตราจารย์[1] หม่อมราชวงศ์สุขุมพันธุ์ บร...            thai   \n",
       "1  \\nRijili Kantori , Rijili Kantarusi au ing. Al...         swahili   \n",
       "2  \\nఅహమ్మద్ షా బహదూర్, మిర్జా అహమ్మద్ షా, షహన్‌ష...          telugu   \n",
       "3  \\nKokemäki () on Suomen kaupunki, joka sijaits...         finnish   \n",
       "4  \\nহুসেইন মুহাম্মদ এরশাদ (ফেব্রুয়ারি ১, ১৯৩০) ...         bengali   \n",
       "\n",
       "                                        document_url  \n",
       "0  https://th.wikipedia.org/wiki/%E0%B8%AB%E0%B8%...  \n",
       "1     https://sw.wikipedia.org/wiki/Rijili%20Kantori  \n",
       "2  https://te.wikipedia.org/wiki/%E0%B0%85%E0%B0%...  \n",
       "3        https://fi.wikipedia.org/wiki/Kokem%C3%A4ki  \n",
       "4  https://bn.wikipedia.org/wiki/%E0%A6%B9%E0%A7%...  "
      ]
     },
     "execution_count": 284,
     "metadata": {},
     "output_type": "execute_result"
    }
   ],
   "source": [
    "df_val.insert(6, \"answer_language\", df_val['document_url'].apply(get_ans_lang))\n",
    "df_val.head()"
   ]
  },
  {
   "cell_type": "markdown",
   "metadata": {},
   "source": [
    "#### Question - Answer language parity\n",
    "With our newly created answer_language field comprising the same format as the language field we are now ready to do a direct comparison between the two.<br>\n",
    "The simplest comparison to make is to check if the counts of the two are equal. It is likely that if some questions are asked in one language but answered in another that the counts between at least 2 pairs of languages are different, if they are the same it is likely that all questions asked in a language are answered in the same.<br><br>\n",
    "We create 2 arrays of integers by using the value counts function. This function returns an array of all languages and the cumulative counts of each language in the given column"
   ]
  },
  {
   "cell_type": "code",
   "execution_count": 285,
   "metadata": {},
   "outputs": [
    {
     "data": {
      "text/plain": [
       "telugu        2479\n",
       "swahili       2288\n",
       "thai          2245\n",
       "finnish       2082\n",
       "indonesian    1805\n",
       "japanese      1709\n",
       "korean        1698\n",
       "russian       1625\n",
       "arabic        1380\n",
       "english       1031\n",
       "bengali        328\n",
       "Name: language, dtype: int64"
      ]
     },
     "execution_count": 285,
     "metadata": {},
     "output_type": "execute_result"
    }
   ],
   "source": [
    "q_count = df_val['language'].value_counts()\n",
    "a_count = df_val['answer_language'].value_counts()\n",
    "q_count"
   ]
  },
  {
   "cell_type": "markdown",
   "metadata": {},
   "source": [
    "Creating a new dataframe from the 2 arrays we can see that there is an identical count for language question origin and answer origin"
   ]
  },
  {
   "cell_type": "code",
   "execution_count": 286,
   "metadata": {},
   "outputs": [
    {
     "data": {
      "text/html": [
       "<div>\n",
       "<style scoped>\n",
       "    .dataframe tbody tr th:only-of-type {\n",
       "        vertical-align: middle;\n",
       "    }\n",
       "\n",
       "    .dataframe tbody tr th {\n",
       "        vertical-align: top;\n",
       "    }\n",
       "\n",
       "    .dataframe thead th {\n",
       "        text-align: right;\n",
       "    }\n",
       "</style>\n",
       "<table border=\"1\" class=\"dataframe\">\n",
       "  <thead>\n",
       "    <tr style=\"text-align: right;\">\n",
       "      <th></th>\n",
       "      <th>Question</th>\n",
       "      <th>Answer</th>\n",
       "    </tr>\n",
       "  </thead>\n",
       "  <tbody>\n",
       "    <tr>\n",
       "      <th>telugu</th>\n",
       "      <td>2479</td>\n",
       "      <td>2479</td>\n",
       "    </tr>\n",
       "    <tr>\n",
       "      <th>swahili</th>\n",
       "      <td>2288</td>\n",
       "      <td>2288</td>\n",
       "    </tr>\n",
       "    <tr>\n",
       "      <th>thai</th>\n",
       "      <td>2245</td>\n",
       "      <td>2245</td>\n",
       "    </tr>\n",
       "    <tr>\n",
       "      <th>finnish</th>\n",
       "      <td>2082</td>\n",
       "      <td>2082</td>\n",
       "    </tr>\n",
       "    <tr>\n",
       "      <th>indonesian</th>\n",
       "      <td>1805</td>\n",
       "      <td>1805</td>\n",
       "    </tr>\n",
       "    <tr>\n",
       "      <th>japanese</th>\n",
       "      <td>1709</td>\n",
       "      <td>1709</td>\n",
       "    </tr>\n",
       "    <tr>\n",
       "      <th>korean</th>\n",
       "      <td>1698</td>\n",
       "      <td>1698</td>\n",
       "    </tr>\n",
       "    <tr>\n",
       "      <th>russian</th>\n",
       "      <td>1625</td>\n",
       "      <td>1625</td>\n",
       "    </tr>\n",
       "    <tr>\n",
       "      <th>arabic</th>\n",
       "      <td>1380</td>\n",
       "      <td>1380</td>\n",
       "    </tr>\n",
       "    <tr>\n",
       "      <th>english</th>\n",
       "      <td>1031</td>\n",
       "      <td>1031</td>\n",
       "    </tr>\n",
       "    <tr>\n",
       "      <th>bengali</th>\n",
       "      <td>328</td>\n",
       "      <td>328</td>\n",
       "    </tr>\n",
       "  </tbody>\n",
       "</table>\n",
       "</div>"
      ],
      "text/plain": [
       "            Question  Answer\n",
       "telugu          2479    2479\n",
       "swahili         2288    2288\n",
       "thai            2245    2245\n",
       "finnish         2082    2082\n",
       "indonesian      1805    1805\n",
       "japanese        1709    1709\n",
       "korean          1698    1698\n",
       "russian         1625    1625\n",
       "arabic          1380    1380\n",
       "english         1031    1031\n",
       "bengali          328     328"
      ]
     },
     "execution_count": 286,
     "metadata": {},
     "output_type": "execute_result"
    }
   ],
   "source": [
    "df_l_count = pd.concat([q_count,a_count], axis=1, keys=['Question','Answer'])\n",
    "df_l_count"
   ]
  },
  {
   "cell_type": "markdown",
   "metadata": {},
   "source": [
    "Although unlikely, it is not impossible that some answers are answered by other languages which just happen to be perfectly symmetrical in difference.<br>\n",
    "For example 1 English answer for a Russian question and one Russian answer for an English question would give us exact counts.<br>\n",
    "To be certain we can check that there are no questions in one language with an answer in another using the following."
   ]
  },
  {
   "cell_type": "code",
   "execution_count": 287,
   "metadata": {},
   "outputs": [
    {
     "name": "stdout",
     "output_type": "stream",
     "text": [
      "Question language is different to Answer language in  0 entries\n"
     ]
    }
   ],
   "source": [
    "df_compare = np.where(df_val['language'] != df_val['answer_language'])\n",
    "\n",
    "print('Question language is different to Answer language in ', df_compare[0].size, 'entries')"
   ]
  },
  {
   "cell_type": "markdown",
   "metadata": {},
   "source": [
    "## Visualising the differences in the test and validation sets.\n",
    "We have discovered that this dataset does not utilise Questions asked in one language that are answered only in another.<br>\n",
    "While the dataset is `multi-lingual` we can say that is is not `cross-lingual`.<br>\n",
    "Applying data science techniques is what allows useful explorations of data before use and even though the data is not cross-lingual it still can be used for training and testing QA models and it is worth exploring its other properties.\n",
    "\n",
    "I want to start by looking comparing the language data between the `Validation` split that has been used up to now and the `Training` split."
   ]
  },
  {
   "cell_type": "code",
   "execution_count": 288,
   "metadata": {},
   "outputs": [
    {
     "data": {
      "text/html": [
       "<div>\n",
       "<style scoped>\n",
       "    .dataframe tbody tr th:only-of-type {\n",
       "        vertical-align: middle;\n",
       "    }\n",
       "\n",
       "    .dataframe tbody tr th {\n",
       "        vertical-align: top;\n",
       "    }\n",
       "\n",
       "    .dataframe thead th {\n",
       "        text-align: right;\n",
       "    }\n",
       "</style>\n",
       "<table border=\"1\" class=\"dataframe\">\n",
       "  <thead>\n",
       "    <tr style=\"text-align: right;\">\n",
       "      <th></th>\n",
       "      <th>passage_answer_candidates</th>\n",
       "      <th>question_text</th>\n",
       "      <th>document_title</th>\n",
       "      <th>language</th>\n",
       "      <th>annotations</th>\n",
       "      <th>document_plaintext</th>\n",
       "      <th>document_url</th>\n",
       "    </tr>\n",
       "  </thead>\n",
       "  <tbody>\n",
       "    <tr>\n",
       "      <th>0</th>\n",
       "      <td>{'plaintext_start_byte': [1, 660, 844, 1196, 1...</td>\n",
       "      <td>berapakah jenis ras yang ada didunia?</td>\n",
       "      <td>Ras manusia</td>\n",
       "      <td>indonesian</td>\n",
       "      <td>{'passage_answer_candidate_index': [-1], 'mini...</td>\n",
       "      <td>\\ntransl.\\n\\nRas (dari bahasa Prancis race, ya...</td>\n",
       "      <td>https://id.wikipedia.org/wiki/Ras%20manusia</td>\n",
       "    </tr>\n",
       "    <tr>\n",
       "      <th>1</th>\n",
       "      <td>{'plaintext_start_byte': [1, 271, 995, 1763, 2...</td>\n",
       "      <td>2018年アメリカで一番治安の悪い州はどこ</td>\n",
       "      <td>デトロイト</td>\n",
       "      <td>japanese</td>\n",
       "      <td>{'passage_answer_candidate_index': [-1], 'mini...</td>\n",
       "      <td>\\n\\n\\nデトロイト（ /dɨˈtrɔɪt/）は、アメリカ合衆国ミシガン州南東部にある都市...</td>\n",
       "      <td>https://ja.wikipedia.org/wiki/%E3%83%87%E3%83%...</td>\n",
       "    </tr>\n",
       "    <tr>\n",
       "      <th>2</th>\n",
       "      <td>{'plaintext_start_byte': [0, 208, 542, 891, 10...</td>\n",
       "      <td>Je,Ngamia anaweza kaa bila maji kwa muda gani?</td>\n",
       "      <td>Kuku</td>\n",
       "      <td>swahili</td>\n",
       "      <td>{'passage_answer_candidate_index': [-1], 'mini...</td>\n",
       "      <td>\\nKuku (Gallus gallus domesticus) ni ndege ana...</td>\n",
       "      <td>https://sw.wikipedia.org/wiki/Kuku</td>\n",
       "    </tr>\n",
       "    <tr>\n",
       "      <th>3</th>\n",
       "      <td>{'plaintext_start_byte': [5, 401, 1185, 2103, ...</td>\n",
       "      <td>কম্পিউটার বিজ্ঞানের মোট কয়টি শাখা রয়েছে ?</td>\n",
       "      <td>বিজ্ঞান</td>\n",
       "      <td>bengali</td>\n",
       "      <td>{'passage_answer_candidate_index': [-1], 'mini...</td>\n",
       "      <td>\\n\\n\\n\\n\\n\\n\\n\\nভৌত বিশ্বের যা কিছু পর্যবেক্ষণ...</td>\n",
       "      <td>https://bn.wikipedia.org/wiki/%E0%A6%AC%E0%A6%...</td>\n",
       "    </tr>\n",
       "    <tr>\n",
       "      <th>4</th>\n",
       "      <td>{'plaintext_start_byte': [0, 395, 716, 1320, 3...</td>\n",
       "      <td>మెదక్ నగర విస్తీర్ణం ఎంత?</td>\n",
       "      <td>మెదక్ జిల్లా</td>\n",
       "      <td>telugu</td>\n",
       "      <td>{'passage_answer_candidate_index': [-1], 'mini...</td>\n",
       "      <td>మెదక్ జిల్లా తెలంగాణ రాష్ట్రంలోని 31 జిల్లాలలో...</td>\n",
       "      <td>https://te.wikipedia.org/wiki/%E0%B0%AE%E0%B1%...</td>\n",
       "    </tr>\n",
       "  </tbody>\n",
       "</table>\n",
       "</div>"
      ],
      "text/plain": [
       "                           passage_answer_candidates  \\\n",
       "0  {'plaintext_start_byte': [1, 660, 844, 1196, 1...   \n",
       "1  {'plaintext_start_byte': [1, 271, 995, 1763, 2...   \n",
       "2  {'plaintext_start_byte': [0, 208, 542, 891, 10...   \n",
       "3  {'plaintext_start_byte': [5, 401, 1185, 2103, ...   \n",
       "4  {'plaintext_start_byte': [0, 395, 716, 1320, 3...   \n",
       "\n",
       "                                    question_text document_title    language  \\\n",
       "0           berapakah jenis ras yang ada didunia?    Ras manusia  indonesian   \n",
       "1                           2018年アメリカで一番治安の悪い州はどこ          デトロイト    japanese   \n",
       "2  Je,Ngamia anaweza kaa bila maji kwa muda gani?           Kuku     swahili   \n",
       "3       কম্পিউটার বিজ্ঞানের মোট কয়টি শাখা রয়েছে ?        বিজ্ঞান     bengali   \n",
       "4                       మెదక్ నగర విస్తీర్ణం ఎంత?   మెదక్ జిల్లా      telugu   \n",
       "\n",
       "                                         annotations  \\\n",
       "0  {'passage_answer_candidate_index': [-1], 'mini...   \n",
       "1  {'passage_answer_candidate_index': [-1], 'mini...   \n",
       "2  {'passage_answer_candidate_index': [-1], 'mini...   \n",
       "3  {'passage_answer_candidate_index': [-1], 'mini...   \n",
       "4  {'passage_answer_candidate_index': [-1], 'mini...   \n",
       "\n",
       "                                  document_plaintext  \\\n",
       "0  \\ntransl.\\n\\nRas (dari bahasa Prancis race, ya...   \n",
       "1  \\n\\n\\nデトロイト（ /dɨˈtrɔɪt/）は、アメリカ合衆国ミシガン州南東部にある都市...   \n",
       "2  \\nKuku (Gallus gallus domesticus) ni ndege ana...   \n",
       "3  \\n\\n\\n\\n\\n\\n\\n\\nভৌত বিশ্বের যা কিছু পর্যবেক্ষণ...   \n",
       "4  మెదక్ జిల్లా తెలంగాణ రాష్ట్రంలోని 31 జిల్లాలలో...   \n",
       "\n",
       "                                        document_url  \n",
       "0        https://id.wikipedia.org/wiki/Ras%20manusia  \n",
       "1  https://ja.wikipedia.org/wiki/%E3%83%87%E3%83%...  \n",
       "2                 https://sw.wikipedia.org/wiki/Kuku  \n",
       "3  https://bn.wikipedia.org/wiki/%E0%A6%AC%E0%A6%...  \n",
       "4  https://te.wikipedia.org/wiki/%E0%B0%AE%E0%B1%...  "
      ]
     },
     "execution_count": 288,
     "metadata": {},
     "output_type": "execute_result"
    }
   ],
   "source": [
    "df_train = tydi_ds['train'].to_pandas()\n",
    "df_train.head()"
   ]
  },
  {
   "cell_type": "markdown",
   "metadata": {},
   "source": [
    "### Comparing size of splits:\n",
    "Visualisation of size differences between `train` and `validation`.<br>\n",
    "Comparing overall size differences as well as the ratio of language differences between the two sets.<br>\n",
    "\n",
    "My first goal is to display the relative sizes of each dataset by showing each as a simple circle.<br>\n",
    "I need to calculate the radius of each circle and plot them"
   ]
  },
  {
   "cell_type": "code",
   "execution_count": 289,
   "metadata": {},
   "outputs": [],
   "source": [
    "bubble_s = [df_train.size,df_val.size]\n",
    "bubble_r = (np.sqrt(bubble_s)/np.pi)\n",
    "bubble_lbl = [\"Train: \"+str(bubble_s[0]),\"Validation: \"+str(bubble_s[1])]\n",
    "\n"
   ]
  },
  {
   "cell_type": "code",
   "execution_count": 290,
   "metadata": {},
   "outputs": [
    {
     "data": {
      "image/png": "[encoded data removed]",
      "text/plain": [
       "<Figure size 576x576 with 1 Axes>"
      ]
     },
     "metadata": {
      "needs_background": "light"
     },
     "output_type": "display_data"
    }
   ],
   "source": [
    "fig, ax = plt.subplots(figsize=(8, 8))\n",
    "\n",
    "colours=sns.color_palette(\"crest\", n_colors=len(bubble_s))\n",
    "for i,radius in enumerate(bubble_r):\n",
    "    circle = plt.Circle((1, radius), radius, facecolor=colours[i])\n",
    "    ax.text(0, radius, bubble_lbl[i], horizontalalignment='center', size='large', color='white', weight='semibold')\n",
    "    ax.add_artist(circle)\n",
    "\n",
    "ax.set_xlim(-max(bubble_r), max(bubble_r))\n",
    "ax.set_ylim(0, 2 * max(bubble_r))\n",
    "ax.set_aspect('equal')\n",
    "\n",
    "plt.show()\n"
   ]
  },
  {
   "cell_type": "markdown",
   "metadata": {},
   "source": [
    "#### Comparing the language amount in each split\n",
    "Given the massive volume of the `train` dataset it is difficult to show the difference between each language in splits as the training data dwarfs the validation data.<br>\n",
    "Instead using the ratio of difference between the splits as a baseline we can see if some languages are comparatively better represented in validation or training sets.<br>\n",
    "For instance if there is a lower ratio of English validation questions to training questions than the baseline we can say that the English language is better represented in the validation set than on average.<br>\n",
    "\n",
    "A data frame containing the ratios of each language can be displayed visually for a quick reference"
   ]
  },
  {
   "cell_type": "code",
   "execution_count": 291,
   "metadata": {},
   "outputs": [
    {
     "data": {
      "text/html": [
       "<div>\n",
       "<style scoped>\n",
       "    .dataframe tbody tr th:only-of-type {\n",
       "        vertical-align: middle;\n",
       "    }\n",
       "\n",
       "    .dataframe tbody tr th {\n",
       "        vertical-align: top;\n",
       "    }\n",
       "\n",
       "    .dataframe thead th {\n",
       "        text-align: right;\n",
       "    }\n",
       "</style>\n",
       "<table border=\"1\" class=\"dataframe\">\n",
       "  <thead>\n",
       "    <tr style=\"text-align: right;\">\n",
       "      <th></th>\n",
       "      <th>train</th>\n",
       "      <th>validation</th>\n",
       "      <th>ratio</th>\n",
       "    </tr>\n",
       "  </thead>\n",
       "  <tbody>\n",
       "    <tr>\n",
       "      <th>telugu</th>\n",
       "      <td>24558</td>\n",
       "      <td>2479</td>\n",
       "      <td>9.91</td>\n",
       "    </tr>\n",
       "    <tr>\n",
       "      <th>arabic</th>\n",
       "      <td>23092</td>\n",
       "      <td>1380</td>\n",
       "      <td>16.73</td>\n",
       "    </tr>\n",
       "    <tr>\n",
       "      <th>swahili</th>\n",
       "      <td>17613</td>\n",
       "      <td>2288</td>\n",
       "      <td>7.70</td>\n",
       "    </tr>\n",
       "    <tr>\n",
       "      <th>japanese</th>\n",
       "      <td>16288</td>\n",
       "      <td>1709</td>\n",
       "      <td>9.53</td>\n",
       "    </tr>\n",
       "    <tr>\n",
       "      <th>finnish</th>\n",
       "      <td>15285</td>\n",
       "      <td>2082</td>\n",
       "      <td>7.34</td>\n",
       "    </tr>\n",
       "    <tr>\n",
       "      <th>indonesian</th>\n",
       "      <td>14952</td>\n",
       "      <td>1805</td>\n",
       "      <td>8.28</td>\n",
       "    </tr>\n",
       "    <tr>\n",
       "      <th>russian</th>\n",
       "      <td>12803</td>\n",
       "      <td>1625</td>\n",
       "      <td>7.88</td>\n",
       "    </tr>\n",
       "    <tr>\n",
       "      <th>thai</th>\n",
       "      <td>11365</td>\n",
       "      <td>2245</td>\n",
       "      <td>5.06</td>\n",
       "    </tr>\n",
       "    <tr>\n",
       "      <th>korean</th>\n",
       "      <td>10981</td>\n",
       "      <td>1698</td>\n",
       "      <td>6.47</td>\n",
       "    </tr>\n",
       "    <tr>\n",
       "      <th>bengali</th>\n",
       "      <td>10768</td>\n",
       "      <td>328</td>\n",
       "      <td>32.83</td>\n",
       "    </tr>\n",
       "    <tr>\n",
       "      <th>english</th>\n",
       "      <td>9211</td>\n",
       "      <td>1031</td>\n",
       "      <td>8.93</td>\n",
       "    </tr>\n",
       "  </tbody>\n",
       "</table>\n",
       "</div>"
      ],
      "text/plain": [
       "            train  validation  ratio\n",
       "telugu      24558        2479   9.91\n",
       "arabic      23092        1380  16.73\n",
       "swahili     17613        2288   7.70\n",
       "japanese    16288        1709   9.53\n",
       "finnish     15285        2082   7.34\n",
       "indonesian  14952        1805   8.28\n",
       "russian     12803        1625   7.88\n",
       "thai        11365        2245   5.06\n",
       "korean      10981        1698   6.47\n",
       "bengali     10768         328  32.83\n",
       "english      9211        1031   8.93"
      ]
     },
     "execution_count": 291,
     "metadata": {},
     "output_type": "execute_result"
    }
   ],
   "source": [
    "val_count = df_val['language'].value_counts()\n",
    "train_count = df_train['language'].value_counts()\n",
    "\n",
    "df_ratio = pd.concat([train_count,val_count], axis=1, keys=['train','validation'])\n",
    "\n",
    "df_ratio.insert(2, \"ratio\", (df_ratio['train']/df_ratio['validation']).round(2))\n",
    "df_ratio"
   ]
  },
  {
   "cell_type": "markdown",
   "metadata": {},
   "source": [
    "Now that we have the ratios of each we want to plot the values against the base ratio.<br>\n",
    "First we take find the ratio of the splits `validation` to `train` and we divide that ratio by each of our language ratios.<br>\n",
    "We want to compare the magnitude in difference between the base ratio and the language ratio.<br>\n",
    "So if we have any values of `< 1` then we will take the negative inverse and plot below the baseline."
   ]
  },
  {
   "cell_type": "code",
   "execution_count": 292,
   "metadata": {},
   "outputs": [
    {
     "name": "stdout",
     "output_type": "stream",
     "text": [
      "The ratio between the validation split and train split is 1 validation question for every 7.82 train questions\n"
     ]
    }
   ],
   "source": [
    "split_ratio = (df_train.size / df_val.size).round(2)\n",
    "\n",
    "def get_magnitude(r1):\n",
    "    mag = split_ratio / r1\n",
    "    if mag > 1:\n",
    "        return mag\n",
    "    else:\n",
    "        mag = (mag**-1)*-1\n",
    "    return mag\n",
    "\n",
    "df_ratio.insert(3, \"magnitude\", df_ratio['ratio'].apply(get_magnitude))\n",
    "print(\"The ratio between the validation split and train split is 1 validation question for every \"+str(split_ratio)+\" train questions\")"
   ]
  },
  {
   "cell_type": "markdown",
   "metadata": {},
   "source": [
    "#### Ratio magnitudes can now be displayed!"
   ]
  },
  {
   "cell_type": "code",
   "execution_count": 293,
   "metadata": {},
   "outputs": [
    {
     "data": {
      "image/png": "[encoded data removed]",
      "text/plain": [
       "<Figure size 720x576 with 1 Axes>"
      ]
     },
     "metadata": {
      "needs_background": "light"
     },
     "output_type": "display_data"
    }
   ],
   "source": [
    "graph_limit = round(max(abs(df_ratio['magnitude']))) + 1\n",
    "fig, ax = plt.subplots(figsize=(10, 8))\n",
    "\n",
    "ax = df_ratio['magnitude'].plot(kind='bar', title='Difference in Magnitude', rot=0, align='center', width=.8)\n",
    "\n",
    "ax.set_ylim(-graph_limit, graph_limit)\n",
    "ax.set_yticks(np.arange(-graph_limit, graph_limit, 1))\n",
    "ax.set_axisbelow(True)\n",
    "ax.yaxis.grid(True, color='#EEEEEE')\n",
    "ax.axhline(0,color='black')\n",
    "ax.yaxis.set_major_formatter(lambda x, pos: f'{abs(x):g}')\n",
    "fig.tight_layout()\n",
    "plt.show()"
   ]
  },
  {
   "cell_type": "markdown",
   "metadata": {},
   "source": [
    "We can easily see the from this graph that the ratio of `validation` to `train` question in bengali is 4 times smaller than the overall ratio so we can say that bengali is under-represented in the validation set in comparison to the train dataset.\n",
    "Looking at the raw data above this is true as there are only a few hundred bengali validation questions compared to more than 10,000 training questions.\n",
    "\n",
    "If I were to develop a model I am not sure I would feel confident with such a small bengali validation set."
   ]
  },
  {
   "cell_type": "markdown",
   "metadata": {},
   "source": [
    "## Conclusion\n",
    "\n",
    "Exploring this dataset has let me know that although it contains data useful to my research there are caveats to how I am able to use it.<br>\n",
    "Training with this dataset exclusively may not yield good cross-lingual performance as the behaviour that would have been encoded in the model is only multilingual qa behaviour.<br>\n",
    "Also worth noting is that during the dataset split not all languages are reflected evenly in each split. This may cause some results to not accurately reflect the models capabilities given the discrepancy between the amount of data trained on and the amount of data tested.<br>\n",
    "If I were to use this dataset I believe I would re-combine both sets and use a split which more accurately distributed question languages. \n",
    "\n",
    "\n",
    "### Sources:\n",
    "1. Asai, A., Yu, X., Kasai, J., & Hajishirzi, H. (2021). One question answering model for many languages with cross-lingual dense passage retrieval. Advances in Neural Information Processing Systems, 34.\n",
    "2. Clark, J. H., Choi, E., Collins, M., Garrette, D., Kwiatkowski, T., Nikolaev, V., & Palomaki, J. (2020). TyDi QA: A benchmark for information-seeking question answering in typologically diverse languages. Transactions of the Association for Computational Linguistics, 8, 454-470.\n",
    "3. Lhoest, Q., del Moral, A. V., Jernite, Y., Thakur, A., von Platen, P., Patil, S., ... & Wolf, T. (2021). Datasets: A community library for natural language processing. arXiv preprint arXiv:2109.02846.\n",
    "4. Loc.gov. 2022. Alpha-3 codes arranged alphabetically by English name of Language - Codes for the representation of names of languages (Library of Congress). [online](https://www.loc.gov/standards/iso639-2/php/English_list.php)\n"
   ]
  },
  {
   "cell_type": "markdown",
   "metadata": {},
   "source": []
  }
 ],
 "metadata": {
  "celltoolbar": "Slideshow",
  "interpreter": {
   "hash": "a678f92b11b0cdfffc6334f5c4b8d213737878ded07f1a6ebc7b8f8950f72291"
  },
  "kernelspec": {
   "display_name": "Python 3.8.12 64-bit ('3.8.12')",
   "language": "python",
   "name": "python3"
  },
  "language_info": {
   "codemirror_mode": {
    "name": "ipython",
    "version": 3
   },
   "file_extension": ".py",
   "mimetype": "text/x-python",
   "name": "python",
   "nbconvert_exporter": "python",
   "pygments_lexer": "ipython3",
   "version": "3.8.12"
  },
  "varInspector": {
   "cols": {
    "lenName": 16,
    "lenType": 16,
    "lenVar": 40
   },
   "kernels_config": {
    "python": {
     "delete_cmd_postfix": "",
     "delete_cmd_prefix": "del ",
     "library": "var_list.py",
     "varRefreshCmd": "print(var_dic_list())"
    },
    "r": {
     "delete_cmd_postfix": ") ",
     "delete_cmd_prefix": "rm(",
     "library": "var_list.r",
     "varRefreshCmd": "cat(var_dic_list()) "
    }
   },
   "types_to_exclude": [
    "module",
    "function",
    "builtin_function_or_method",
    "instance",
    "_Feature"
   ],
   "window_display": false
  }
 },
 "nbformat": 4,
 "nbformat_minor": 2
}
